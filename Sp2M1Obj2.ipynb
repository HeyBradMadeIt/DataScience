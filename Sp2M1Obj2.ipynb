{
  "nbformat": 4,
  "nbformat_minor": 0,
  "metadata": {
    "colab": {
      "provenance": []
    },
    "kernelspec": {
      "name": "python3",
      "display_name": "Python 3"
    },
    "language_info": {
      "name": "python"
    }
  },
  "cells": [
    {
      "cell_type": "markdown",
      "source": [
        "# Calculate with Numpy and SciPy"
      ],
      "metadata": {
        "id": "zeKx5sobjPZQ"
      }
    },
    {
      "cell_type": "code",
      "execution_count": 1,
      "metadata": {
        "colab": {
          "base_uri": "https://localhost:8080/"
        },
        "id": "b_bRZXdAjM2B",
        "outputId": "939459bf-14b6-47ce-af5c-68479bcf64be"
      },
      "outputs": [
        {
          "output_type": "stream",
          "name": "stdout",
          "text": [
            "The mean of the sample:  67.53441961583509\n",
            "The standard deviation of the sample:  6.00785209617076\n"
          ]
        },
        {
          "output_type": "execute_result",
          "data": {
            "text/plain": [
              "TtestResult(statistic=-5.2030346601039055, pvalue=3.841987344207577e-06, df=49)"
            ]
          },
          "metadata": {},
          "execution_count": 1
        }
      ],
      "source": [
        "# Import the stats module\n",
        "from scipy import stats\n",
        "\n",
        "# Generate the random test scores with the specified mean, std, and sample size\n",
        "rvs = stats.norm.rvs(loc=69, scale=6.5, size=50, random_state=42)\n",
        "\n",
        "# Display the test scores, as a check\n",
        "rvs\n",
        "\n",
        "# Check the sample mean and std\n",
        "print('The mean of the sample: ', rvs.mean())\n",
        "print('The standard deviation of the sample: ', rvs.std())\n",
        "\n",
        "# Calculate the t value using the ttest_1samp\n",
        "stats.ttest_1samp(rvs, popmean=72)"
      ]
    },
    {
      "cell_type": "markdown",
      "source": [
        "# Manual calculation"
      ],
      "metadata": {
        "id": "tZOs4QzDj1q8"
      }
    },
    {
      "cell_type": "code",
      "source": [
        "# Import the library\n",
        "import numpy as np\n",
        "\n",
        "# Calculate the t-value\n",
        "tstatistic = (67.53-72)/(6.01/np.sqrt(50))\n",
        "print('The t-statistic is: ', tstatistic)"
      ],
      "metadata": {
        "colab": {
          "base_uri": "https://localhost:8080/"
        },
        "id": "8UKDn--UjpQt",
        "outputId": "16a6dd55-1fd9-44b0-9bad-82dba97e7db7"
      },
      "execution_count": 2,
      "outputs": [
        {
          "output_type": "stream",
          "name": "stdout",
          "text": [
            "The t-statistic is:  -5.259180219473988\n"
          ]
        }
      ]
    },
    {
      "cell_type": "code",
      "source": [],
      "metadata": {
        "id": "IdaNqahfj7kW"
      },
      "execution_count": null,
      "outputs": []
    }
  ]
}