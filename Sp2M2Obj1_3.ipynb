{
  "nbformat": 4,
  "nbformat_minor": 0,
  "metadata": {
    "colab": {
      "provenance": []
    },
    "kernelspec": {
      "name": "python3",
      "display_name": "Python 3"
    },
    "language_info": {
      "name": "python"
    }
  },
  "cells": [
    {
      "cell_type": "markdown",
      "source": [
        "#Set Up a Chi-square Test for Independence on Two Categorical Variables"
      ],
      "metadata": {
        "id": "-AmOLxTqYC-h"
      }
    },
    {
      "cell_type": "code",
      "execution_count": 1,
      "metadata": {
        "colab": {
          "base_uri": "https://localhost:8080/"
        },
        "id": "pl782Ql0X5zU",
        "outputId": "42fd5bd0-adfa-4ac1-f812-220b7afb8aa4"
      },
      "outputs": [
        {
          "output_type": "stream",
          "name": "stdout",
          "text": [
            "Contingency table: \n",
            " [[200 290]\n",
            " [400 910]]\n",
            "Expected values: \n",
            "  [[163.33 326.67]\n",
            " [436.67 873.33]]\n",
            "The chi square statistics is: 16.965\n",
            "The p value is: 0.000038\n"
          ]
        }
      ],
      "source": [
        "# Import the libraries\n",
        "import numpy as np\n",
        "from scipy.stats import chi2_contingency\n",
        "\n",
        "# Create the table using as a NumPy array\n",
        "table = np.array([[200, 290], [400, 910]])\n",
        "\n",
        "# Print out the table to double-check\n",
        "print('Contingency table: \\n', table)\n",
        "\n",
        "# Perform the chi-square test\n",
        "stat, p, dof, expected = chi2_contingency(table, correction=False)\n",
        "\n",
        "# Print out the stats in a nice format\n",
        "print('Expected values: \\n ', expected.round(2))\n",
        "print(f'The chi square statistics is: {stat:.3f}')\n",
        "print(f'The p value is: {p:.6f}')"
      ]
    },
    {
      "cell_type": "markdown",
      "source": [
        "#Use a Chi-square Test p-value to Draw the Correct Conclusion About the Null and Alternative Hypothesis"
      ],
      "metadata": {
        "id": "Wl4V6tZXYX5x"
      }
    },
    {
      "cell_type": "markdown",
      "source": [
        "## Generated dice rolls"
      ],
      "metadata": {
        "id": "yJrvD6zJYqyZ"
      }
    },
    {
      "cell_type": "code",
      "source": [
        "import numpy as np\n",
        "\n",
        "# Create the array for each die value\n",
        "a1 = [13, 7, 10, 5, 13]\n",
        "a2 = [5, 7, 4, 12, 9]\n",
        "a3 = [5, 9, 14, 0, 10]\n",
        "a4 = [12, 13, 8, 7, 7]\n",
        "a5 = [7, 10, 9, 13, 6]\n",
        "a6 = [8, 4, 5, 13, 5]\n",
        "\n",
        "# Combine them into a (6,5) array\n",
        "dice = np.array([a1, a2, a3, a4, a5, a6])"
      ],
      "metadata": {
        "id": "iFyRY2wOYLSR"
      },
      "execution_count": 2,
      "outputs": []
    },
    {
      "cell_type": "code",
      "source": [
        "# Import the stats module\n",
        "from scipy.stats import chi2_contingency\n",
        "\n",
        "# Perform the chi-square test\n",
        "stat, p, dof, expected = chi2_contingency(dice, correction=False)\n",
        "\n",
        "# Print out the stats in a nice format\n",
        "print('Expected values: \\n ', expected.round(2))\n",
        "print('The degrees of freedom: ', dof)\n",
        "print(f'The chi square statistics is: {stat:.3f}')\n",
        "print(f'The p value is: {p:.6f}')"
      ],
      "metadata": {
        "colab": {
          "base_uri": "https://localhost:8080/"
        },
        "id": "3ToYi-CUYhKH",
        "outputId": "3a156749-af38-4a00-94f0-bfb6c5f1c86d"
      },
      "execution_count": 3,
      "outputs": [
        {
          "output_type": "stream",
          "name": "stdout",
          "text": [
            "Expected values: \n",
            "  [[9.6 9.6 9.6 9.6 9.6]\n",
            " [7.4 7.4 7.4 7.4 7.4]\n",
            " [7.6 7.6 7.6 7.6 7.6]\n",
            " [9.4 9.4 9.4 9.4 9.4]\n",
            " [9.  9.  9.  9.  9. ]\n",
            " [7.  7.  7.  7.  7. ]]\n",
            "The degrees of freedom:  20\n",
            "The chi square statistics is: 40.375\n",
            "The p value is: 0.004477\n"
          ]
        }
      ]
    },
    {
      "cell_type": "markdown",
      "source": [
        "## Physical dice rolls"
      ],
      "metadata": {
        "id": "bJ4_7sF6YxPu"
      }
    },
    {
      "cell_type": "code",
      "source": [
        "# Create the array for each die value\n",
        "a1 = [4, 3, 5, 11, 4]\n",
        "a2 = [9, 15, 10, 4, 11]\n",
        "a3 = [7, 10, 8, 6, 8 ]\n",
        "a4 = [13, 6, 8, 9, 12]\n",
        "a5 = [9, 9, 7, 11, 6]\n",
        "a6 = [8, 7, 12, 9, 9]\n",
        "\n",
        "# Combine them into a (6,5) array\n",
        "dice = np.array([a1, a2, a3, a4, a5, a6])"
      ],
      "metadata": {
        "id": "nvjjEdBjYkx_"
      },
      "execution_count": 4,
      "outputs": []
    },
    {
      "cell_type": "code",
      "source": [
        "# Perform the chi-square test\n",
        "stat, p, dof, expected = chi2_contingency(dice, correction=False)\n",
        "\n",
        "# Print out the stats in a nice format\n",
        "print('Expected values: \\n ', expected.round(2))\n",
        "print(f'The chi square statistics is: {stat:.3f}')\n",
        "print(f'The p value is: {p:.6f}')"
      ],
      "metadata": {
        "colab": {
          "base_uri": "https://localhost:8080/"
        },
        "id": "k3wIb8gVY3LU",
        "outputId": "ff5d4c02-e880-4e6c-9ac3-7006161d197a"
      },
      "execution_count": 5,
      "outputs": [
        {
          "output_type": "stream",
          "name": "stdout",
          "text": [
            "Expected values: \n",
            "  [[5.4 5.4 5.4 5.4 5.4]\n",
            " [9.8 9.8 9.8 9.8 9.8]\n",
            " [7.8 7.8 7.8 7.8 7.8]\n",
            " [9.6 9.6 9.6 9.6 9.6]\n",
            " [8.4 8.4 8.4 8.4 8.4]\n",
            " [9.  9.  9.  9.  9. ]]\n",
            "The chi square statistics is: 21.989\n",
            "The p value is: 0.341086\n"
          ]
        }
      ]
    }
  ]
}