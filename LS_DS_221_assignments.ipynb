{
  "cells": [
    {
      "cell_type": "markdown",
      "metadata": {
        "id": "-crHsctErSpd"
      },
      "source": [
        "BloomTech Data Science\n",
        "\n",
        "*Unit 2, Sprint 2, Module 1*\n",
        "\n",
        "---"
      ]
    },
    {
      "cell_type": "markdown",
      "metadata": {
        "id": "4kAN9Eq4rSpg"
      },
      "source": [
        "# Module Project: Decision Trees\n",
        "\n",
        "This week, the module projects will focus on creating and improving a model for the Tanazania Water Pump dataset. Your goal is to create a model to predict whether a water pump is functional, non-functional, or functional needs repair.\n",
        "\n",
        "\n",
        "## Directions\n",
        "\n",
        "The tasks for this project are as follows:\n",
        "\n",
        "- **Task 1:** Sign up for a [Kaggle](https://www.kaggle.com/) account. Join the kaggle competition, and download the water pump dataset.\n",
        "- **Task 2:** Use `wrangle` function to import training and test data.\n",
        "- **Task 3:** Split training data into feature matrix `X` and target vector `y`.\n",
        "- **Task 4:** Split feature matrix `X` and target vector `y` into training and validation sets.\n",
        "- **Task 5:** Establish the baseline accuracy score for your dataset.\n",
        "- **Task 6:** Build and train `model_dt`.\n",
        "- **Task 7:** Calculate the training and validation accuracy score for your model.\n",
        "- **Task 8:** Adjust model's `max_depth` to reduce overfitting.\n",
        "- **Task 9 `stretch goal`:** Create a horizontal bar chart showing the 10 most important features for your model.\n",
        "\n",
        "You should limit yourself to the following libraries for this project:\n",
        "\n",
        "- `category_encoders`\n",
        "- `matplotlib`\n",
        "- `pandas`\n",
        "- `ydata-profiling`\n",
        "- `sklearn`"
      ]
    },
    {
      "cell_type": "code",
      "source": [
        "%%capture\n",
        "!pip install category_encoders==2.*\n",
        "!pip install ydata_profiling==4.*"
      ],
      "metadata": {
        "id": "t1ksAvYTsUgf"
      },
      "execution_count": 1,
      "outputs": []
    },
    {
      "cell_type": "code",
      "source": [
        "from sklearn.model_selection import train_test_split\n",
        "from sklearn.pipeline import make_pipeline\n",
        "from category_encoders import OneHotEncoder, OrdinalEncoder\n",
        "from sklearn.preprocessing import StandardScaler\n",
        "from sklearn.impute import SimpleImputer\n",
        "from sklearn.linear_model import LogisticRegression\n",
        "from sklearn.metrics import accuracy_score\n",
        "from sklearn.tree import DecisionTreeClassifier, plot_tree\n",
        "from ydata_profiling import ProfileReport\n",
        "import matplotlib.pyplot as plt\n",
        "import pandas as pd\n",
        "import numpy as np"
      ],
      "metadata": {
        "id": "I5iNDcgQsjhp"
      },
      "execution_count": 16,
      "outputs": []
    },
    {
      "cell_type": "code",
      "source": [
        "from google.colab import drive\n",
        "drive.mount('/content/gdrive')"
      ],
      "metadata": {
        "colab": {
          "base_uri": "https://localhost:8080/"
        },
        "id": "N2eMJ8kPuV2V",
        "outputId": "93351e65-c72c-4ccf-fcae-19b840d1f71c"
      },
      "execution_count": 3,
      "outputs": [
        {
          "output_type": "stream",
          "name": "stdout",
          "text": [
            "Mounted at /content/gdrive\n"
          ]
        }
      ]
    },
    {
      "cell_type": "code",
      "source": [
        "from google.colab import drive\n",
        "drive.mount(\"/content/gdrive\", force_remount=True)"
      ],
      "metadata": {
        "colab": {
          "base_uri": "https://localhost:8080/"
        },
        "id": "_8OlbuF8ucx3",
        "outputId": "1e06b775-8b55-4902-8e4a-1de541d7c837"
      },
      "execution_count": 4,
      "outputs": [
        {
          "output_type": "stream",
          "name": "stdout",
          "text": [
            "Mounted at /content/gdrive\n"
          ]
        }
      ]
    },
    {
      "cell_type": "code",
      "source": [
        "%cd /content/gdrive/My Drive/Kaggle"
      ],
      "metadata": {
        "colab": {
          "base_uri": "https://localhost:8080/"
        },
        "id": "3km93XpkuhX6",
        "outputId": "19eb7620-e3db-4848-f763-ef2748af80be"
      },
      "execution_count": 5,
      "outputs": [
        {
          "output_type": "stream",
          "name": "stdout",
          "text": [
            "/content/gdrive/My Drive/Kaggle\n"
          ]
        }
      ]
    },
    {
      "cell_type": "code",
      "source": [
        "import os\n",
        "os.environ['KAGGLE_CONFIG_DIR'] = \"/content/gdrive/My Drive/Kaggle\"\n",
        "!kaggle competitions download -c bloomtech-water-pump-challenge"
      ],
      "metadata": {
        "colab": {
          "base_uri": "https://localhost:8080/"
        },
        "id": "JG_116bPuk1d",
        "outputId": "e153e35c-7253-4bf5-e015-f8b8569155c7"
      },
      "execution_count": 8,
      "outputs": [
        {
          "output_type": "stream",
          "name": "stdout",
          "text": [
            "bloomtech-water-pump-challenge.zip: Skipping, found more recently modified local copy (use --force to force download)\n"
          ]
        }
      ]
    },
    {
      "cell_type": "code",
      "source": [
        "!unzip \\*.zip  && rm *.zip"
      ],
      "metadata": {
        "colab": {
          "base_uri": "https://localhost:8080/"
        },
        "id": "rboBwWlUutht",
        "outputId": "5623fcb5-f4d7-41ff-f1ef-9cd2b4fbc541"
      },
      "execution_count": 9,
      "outputs": [
        {
          "output_type": "stream",
          "name": "stdout",
          "text": [
            "Archive:  bloomtech-water-pump-challenge.zip\n",
            "replace sample_submission.csv? [y]es, [n]o, [A]ll, [N]one, [r]ename: y\n",
            "  inflating: sample_submission.csv   \n",
            "replace test_features.csv? [y]es, [n]o, [A]ll, [N]one, [r]ename: A\n",
            "  inflating: test_features.csv       \n",
            "  inflating: train_features.csv      \n",
            "  inflating: train_labels.csv        \n"
          ]
        }
      ]
    },
    {
      "cell_type": "code",
      "source": [
        "!ls"
      ],
      "metadata": {
        "colab": {
          "base_uri": "https://localhost:8080/"
        },
        "id": "-xKzZrFVu-at",
        "outputId": "d9ad0692-89ea-44fe-efd5-201575fb4a62"
      },
      "execution_count": 10,
      "outputs": [
        {
          "output_type": "stream",
          "name": "stdout",
          "text": [
            "kaggle.json\t    sample_submission.csv  train_features.csv  Untitled0.ipynb\n",
            "new_submission.csv  test_features.csv\t   train_labels.csv\n"
          ]
        }
      ]
    },
    {
      "cell_type": "code",
      "source": [
        "#train_features = pd.read_csv('train_features.csv')\n",
        "#train_labels = pd.read_csv('train_labels.csv')\n",
        "#test_features = pd.read_csv('test_features.csv')\n",
        "\n",
        "train_features = \"https://raw.githubusercontent.com/bloominstituteoftechnology/DS-Unit-2-Kaggle-Challenge/main/data/waterpumps/train_features.csv\"\n",
        "train_labels = \"https://raw.githubusercontent.com/bloominstituteoftechnology/DS-Unit-2-Kaggle-Challenge/main/data/waterpumps/train_labels.csv\"\n",
        "test_features = \"https://raw.githubusercontent.com/bloominstituteoftechnology/DS-Unit-2-Kaggle-Challenge/main/data/waterpumps/test_features.csv\""
      ],
      "metadata": {
        "id": "i2NgDGubvDQl"
      },
      "execution_count": 25,
      "outputs": []
    },
    {
      "cell_type": "markdown",
      "metadata": {
        "id": "L19FDcyGrSpg"
      },
      "source": [
        "# Kaggle\n",
        "\n",
        "**Task 1:** [Sign up for a Kaggle account](https://www.kaggle.com/), if you don’t already have one. **We recommend that you choose a username that's based on your name, since you might include it in your resume in the future.** Go to our Kaggle competition website (the URL is given on Canvas). Go to the **Rules** page. Accept the rules of the competition and download the dataset. Notice that the **Rules** page also has instructions for the Submission process. The **Data** page has feature definitions.\n",
        "\n",
        "# I. Wrangle Data"
      ]
    },
    {
      "cell_type": "code",
      "execution_count": 26,
      "metadata": {
        "id": "IX-nvyEwrSph"
      },
      "outputs": [],
      "source": [
        "def wrangle(fm_path, tv_path=None):\n",
        "    if tv_path:\n",
        "        df = pd.merge(pd.read_csv(fm_path,\n",
        "                                  na_values=[0, -2.000000e-08]),\n",
        "                      pd.read_csv(tv_path)).set_index('id')\n",
        "    else:\n",
        "        df = pd.read_csv(fm_path,\n",
        "                         na_values=[0, -2.000000e-08],\n",
        "                         index_col='id')\n",
        "\n",
        "    # Drop constant columns\n",
        "    df.drop(columns=['recorded_by'], inplace=True)\n",
        "\n",
        "    # Drop HCCCs\n",
        "    cutoff = 100\n",
        "    drop_cols = [col for col in df.select_dtypes('object').columns\n",
        "                 if df[col].nunique() > cutoff]\n",
        "    df.drop(columns=drop_cols, inplace=True)\n",
        "\n",
        "    # Drop duplicate columns\n",
        "    dupe_cols = [col for col in df.head(100).T.duplicated().index\n",
        "                 if df.head(100).T.duplicated()[col]]\n",
        "    df.drop(columns=dupe_cols, inplace=True)\n",
        "\n",
        "    return df"
      ]
    },
    {
      "cell_type": "markdown",
      "metadata": {
        "id": "hqWW59d5rSph"
      },
      "source": [
        "**Task 1:** Using the `wrangle` function above, read the `train_features.csv` and  `train_labels.csv` files into the DataFrame `df`. Next, use the same function to read the test set `test_features.csv` into the DataFrame `X_test`."
      ]
    },
    {
      "cell_type": "code",
      "execution_count": 28,
      "metadata": {
        "id": "LvBRAXYirSpi"
      },
      "outputs": [],
      "source": [
        "df = wrangle(train_features, train_labels)\n",
        "X_test = wrangle(test_features)"
      ]
    },
    {
      "cell_type": "markdown",
      "metadata": {
        "id": "6jWkqCGorSpi"
      },
      "source": [
        "# II. Split Data\n",
        "\n",
        "**Task 3:** Split your DataFrame `df` into a feature matrix `X` and the target vector `y`. You want to predict `'status_group'`."
      ]
    },
    {
      "cell_type": "code",
      "execution_count": 29,
      "metadata": {
        "id": "Wy-l0qO7rSpi"
      },
      "outputs": [],
      "source": [
        "target = 'status_group'\n",
        "X = df.drop(columns=target)\n",
        "y = df[target]"
      ]
    },
    {
      "cell_type": "markdown",
      "metadata": {
        "id": "IISh17eMrSpi"
      },
      "source": [
        "**Task 4:** Using a randomized split, divide `X` and `y` into a training set (`X_train`, `y_train`) and a validation set (`X_val`, `y_val`)."
      ]
    },
    {
      "cell_type": "code",
      "execution_count": 30,
      "metadata": {
        "id": "Xy8A4ktJrSpj"
      },
      "outputs": [],
      "source": [
        "X_train, X_val, y_train, y_val = train_test_split(X, y, test_size = .2, random_state = 42)"
      ]
    },
    {
      "cell_type": "markdown",
      "metadata": {
        "id": "6Lh3ss2irSpj"
      },
      "source": [
        "# III. Establish Baseline\n",
        "\n",
        "**Task 5:** Since this is a **classification** problem, you should establish a baseline accuracy score. Figure out what is the majority class in `y_train` and what percentage of your training observations it represents."
      ]
    },
    {
      "cell_type": "code",
      "execution_count": 32,
      "metadata": {
        "id": "AXtSjzqmrSpj",
        "colab": {
          "base_uri": "https://localhost:8080/"
        },
        "outputId": "971b944e-2d25-4ba1-a60d-621c63598b9e"
      },
      "outputs": [
        {
          "output_type": "stream",
          "name": "stdout",
          "text": [
            "Baseline Accuracy Score: 0.5425829668132747\n"
          ]
        }
      ],
      "source": [
        "baseline_acc = y_train.value_counts(normalize= True).max()\n",
        "print('Baseline Accuracy Score:', baseline_acc)"
      ]
    },
    {
      "cell_type": "markdown",
      "metadata": {
        "id": "00DsbfRBrSpj"
      },
      "source": [
        "# IV. Build Model\n",
        "\n",
        "**Task 6:** Build a `Pipeline` named `model_dt`, and fit it to your training data. Your `Pipeline` should include:\n",
        "\n",
        "- an `OrdinalEncoder` transformer for categorical features.\n",
        "- a `SimpleImputer` transformer fot missing values.\n",
        "- a `DecisionTreeClassifier` predictor.\n",
        "\n",
        "**Note:** Don't forget to set the `random_state` parameter for your `DecisionTreeClassifier`."
      ]
    },
    {
      "cell_type": "code",
      "execution_count": 34,
      "metadata": {
        "id": "BB_iVekDrSpj",
        "colab": {
          "base_uri": "https://localhost:8080/",
          "height": 161
        },
        "outputId": "36fd8db5-360b-4649-bbc0-243bf94f2fc6"
      },
      "outputs": [
        {
          "output_type": "execute_result",
          "data": {
            "text/plain": [
              "Pipeline(steps=[('ordinalencoder',\n",
              "                 OrdinalEncoder(cols=['basin', 'region', 'public_meeting',\n",
              "                                      'scheme_management', 'permit',\n",
              "                                      'extraction_type',\n",
              "                                      'extraction_type_group',\n",
              "                                      'extraction_type_class', 'management',\n",
              "                                      'management_group', 'payment',\n",
              "                                      'payment_type', 'water_quality',\n",
              "                                      'quality_group', 'quantity', 'source',\n",
              "                                      'source_type', 'source_class',\n",
              "                                      'waterpoint_type',\n",
              "                                      'waterpoin...\n",
              "                                          'mapping': communal standpipe             1\n",
              "hand pump                      2\n",
              "other                          3\n",
              "communal standpipe multiple    4\n",
              "improved spring                5\n",
              "cattle trough                  6\n",
              "dam                            7\n",
              "NaN                           -2\n",
              "dtype: int64},\n",
              "                                         {'col': 'waterpoint_type_group',\n",
              "                                          'data_type': dtype('O'),\n",
              "                                          'mapping': communal standpipe    1\n",
              "hand pump             2\n",
              "other                 3\n",
              "improved spring       4\n",
              "cattle trough         5\n",
              "dam                   6\n",
              "NaN                  -2\n",
              "dtype: int64}])),\n",
              "                ('simpleimputer', SimpleImputer()),\n",
              "                ('decisiontreeclassifier', DecisionTreeClassifier())])"
            ],
            "text/html": [
              "<style>#sk-container-id-1 {color: black;background-color: white;}#sk-container-id-1 pre{padding: 0;}#sk-container-id-1 div.sk-toggleable {background-color: white;}#sk-container-id-1 label.sk-toggleable__label {cursor: pointer;display: block;width: 100%;margin-bottom: 0;padding: 0.3em;box-sizing: border-box;text-align: center;}#sk-container-id-1 label.sk-toggleable__label-arrow:before {content: \"▸\";float: left;margin-right: 0.25em;color: #696969;}#sk-container-id-1 label.sk-toggleable__label-arrow:hover:before {color: black;}#sk-container-id-1 div.sk-estimator:hover label.sk-toggleable__label-arrow:before {color: black;}#sk-container-id-1 div.sk-toggleable__content {max-height: 0;max-width: 0;overflow: hidden;text-align: left;background-color: #f0f8ff;}#sk-container-id-1 div.sk-toggleable__content pre {margin: 0.2em;color: black;border-radius: 0.25em;background-color: #f0f8ff;}#sk-container-id-1 input.sk-toggleable__control:checked~div.sk-toggleable__content {max-height: 200px;max-width: 100%;overflow: auto;}#sk-container-id-1 input.sk-toggleable__control:checked~label.sk-toggleable__label-arrow:before {content: \"▾\";}#sk-container-id-1 div.sk-estimator input.sk-toggleable__control:checked~label.sk-toggleable__label {background-color: #d4ebff;}#sk-container-id-1 div.sk-label input.sk-toggleable__control:checked~label.sk-toggleable__label {background-color: #d4ebff;}#sk-container-id-1 input.sk-hidden--visually {border: 0;clip: rect(1px 1px 1px 1px);clip: rect(1px, 1px, 1px, 1px);height: 1px;margin: -1px;overflow: hidden;padding: 0;position: absolute;width: 1px;}#sk-container-id-1 div.sk-estimator {font-family: monospace;background-color: #f0f8ff;border: 1px dotted black;border-radius: 0.25em;box-sizing: border-box;margin-bottom: 0.5em;}#sk-container-id-1 div.sk-estimator:hover {background-color: #d4ebff;}#sk-container-id-1 div.sk-parallel-item::after {content: \"\";width: 100%;border-bottom: 1px solid gray;flex-grow: 1;}#sk-container-id-1 div.sk-label:hover label.sk-toggleable__label {background-color: #d4ebff;}#sk-container-id-1 div.sk-serial::before {content: \"\";position: absolute;border-left: 1px solid gray;box-sizing: border-box;top: 0;bottom: 0;left: 50%;z-index: 0;}#sk-container-id-1 div.sk-serial {display: flex;flex-direction: column;align-items: center;background-color: white;padding-right: 0.2em;padding-left: 0.2em;position: relative;}#sk-container-id-1 div.sk-item {position: relative;z-index: 1;}#sk-container-id-1 div.sk-parallel {display: flex;align-items: stretch;justify-content: center;background-color: white;position: relative;}#sk-container-id-1 div.sk-item::before, #sk-container-id-1 div.sk-parallel-item::before {content: \"\";position: absolute;border-left: 1px solid gray;box-sizing: border-box;top: 0;bottom: 0;left: 50%;z-index: -1;}#sk-container-id-1 div.sk-parallel-item {display: flex;flex-direction: column;z-index: 1;position: relative;background-color: white;}#sk-container-id-1 div.sk-parallel-item:first-child::after {align-self: flex-end;width: 50%;}#sk-container-id-1 div.sk-parallel-item:last-child::after {align-self: flex-start;width: 50%;}#sk-container-id-1 div.sk-parallel-item:only-child::after {width: 0;}#sk-container-id-1 div.sk-dashed-wrapped {border: 1px dashed gray;margin: 0 0.4em 0.5em 0.4em;box-sizing: border-box;padding-bottom: 0.4em;background-color: white;}#sk-container-id-1 div.sk-label label {font-family: monospace;font-weight: bold;display: inline-block;line-height: 1.2em;}#sk-container-id-1 div.sk-label-container {text-align: center;}#sk-container-id-1 div.sk-container {/* jupyter's `normalize.less` sets `[hidden] { display: none; }` but bootstrap.min.css set `[hidden] { display: none !important; }` so we also need the `!important` here to be able to override the default hidden behavior on the sphinx rendered scikit-learn.org. See: https://github.com/scikit-learn/scikit-learn/issues/21755 */display: inline-block !important;position: relative;}#sk-container-id-1 div.sk-text-repr-fallback {display: none;}</style><div id=\"sk-container-id-1\" class=\"sk-top-container\"><div class=\"sk-text-repr-fallback\"><pre>Pipeline(steps=[(&#x27;ordinalencoder&#x27;,\n",
              "                 OrdinalEncoder(cols=[&#x27;basin&#x27;, &#x27;region&#x27;, &#x27;public_meeting&#x27;,\n",
              "                                      &#x27;scheme_management&#x27;, &#x27;permit&#x27;,\n",
              "                                      &#x27;extraction_type&#x27;,\n",
              "                                      &#x27;extraction_type_group&#x27;,\n",
              "                                      &#x27;extraction_type_class&#x27;, &#x27;management&#x27;,\n",
              "                                      &#x27;management_group&#x27;, &#x27;payment&#x27;,\n",
              "                                      &#x27;payment_type&#x27;, &#x27;water_quality&#x27;,\n",
              "                                      &#x27;quality_group&#x27;, &#x27;quantity&#x27;, &#x27;source&#x27;,\n",
              "                                      &#x27;source_type&#x27;, &#x27;source_class&#x27;,\n",
              "                                      &#x27;waterpoint_type&#x27;,\n",
              "                                      &#x27;waterpoin...\n",
              "                                          &#x27;mapping&#x27;: communal standpipe             1\n",
              "hand pump                      2\n",
              "other                          3\n",
              "communal standpipe multiple    4\n",
              "improved spring                5\n",
              "cattle trough                  6\n",
              "dam                            7\n",
              "NaN                           -2\n",
              "dtype: int64},\n",
              "                                         {&#x27;col&#x27;: &#x27;waterpoint_type_group&#x27;,\n",
              "                                          &#x27;data_type&#x27;: dtype(&#x27;O&#x27;),\n",
              "                                          &#x27;mapping&#x27;: communal standpipe    1\n",
              "hand pump             2\n",
              "other                 3\n",
              "improved spring       4\n",
              "cattle trough         5\n",
              "dam                   6\n",
              "NaN                  -2\n",
              "dtype: int64}])),\n",
              "                (&#x27;simpleimputer&#x27;, SimpleImputer()),\n",
              "                (&#x27;decisiontreeclassifier&#x27;, DecisionTreeClassifier())])</pre><b>In a Jupyter environment, please rerun this cell to show the HTML representation or trust the notebook. <br />On GitHub, the HTML representation is unable to render, please try loading this page with nbviewer.org.</b></div><div class=\"sk-container\" hidden><div class=\"sk-item sk-dashed-wrapped\"><div class=\"sk-label-container\"><div class=\"sk-label sk-toggleable\"><input class=\"sk-toggleable__control sk-hidden--visually\" id=\"sk-estimator-id-1\" type=\"checkbox\" ><label for=\"sk-estimator-id-1\" class=\"sk-toggleable__label sk-toggleable__label-arrow\">Pipeline</label><div class=\"sk-toggleable__content\"><pre>Pipeline(steps=[(&#x27;ordinalencoder&#x27;,\n",
              "                 OrdinalEncoder(cols=[&#x27;basin&#x27;, &#x27;region&#x27;, &#x27;public_meeting&#x27;,\n",
              "                                      &#x27;scheme_management&#x27;, &#x27;permit&#x27;,\n",
              "                                      &#x27;extraction_type&#x27;,\n",
              "                                      &#x27;extraction_type_group&#x27;,\n",
              "                                      &#x27;extraction_type_class&#x27;, &#x27;management&#x27;,\n",
              "                                      &#x27;management_group&#x27;, &#x27;payment&#x27;,\n",
              "                                      &#x27;payment_type&#x27;, &#x27;water_quality&#x27;,\n",
              "                                      &#x27;quality_group&#x27;, &#x27;quantity&#x27;, &#x27;source&#x27;,\n",
              "                                      &#x27;source_type&#x27;, &#x27;source_class&#x27;,\n",
              "                                      &#x27;waterpoint_type&#x27;,\n",
              "                                      &#x27;waterpoin...\n",
              "                                          &#x27;mapping&#x27;: communal standpipe             1\n",
              "hand pump                      2\n",
              "other                          3\n",
              "communal standpipe multiple    4\n",
              "improved spring                5\n",
              "cattle trough                  6\n",
              "dam                            7\n",
              "NaN                           -2\n",
              "dtype: int64},\n",
              "                                         {&#x27;col&#x27;: &#x27;waterpoint_type_group&#x27;,\n",
              "                                          &#x27;data_type&#x27;: dtype(&#x27;O&#x27;),\n",
              "                                          &#x27;mapping&#x27;: communal standpipe    1\n",
              "hand pump             2\n",
              "other                 3\n",
              "improved spring       4\n",
              "cattle trough         5\n",
              "dam                   6\n",
              "NaN                  -2\n",
              "dtype: int64}])),\n",
              "                (&#x27;simpleimputer&#x27;, SimpleImputer()),\n",
              "                (&#x27;decisiontreeclassifier&#x27;, DecisionTreeClassifier())])</pre></div></div></div><div class=\"sk-serial\"><div class=\"sk-item\"><div class=\"sk-estimator sk-toggleable\"><input class=\"sk-toggleable__control sk-hidden--visually\" id=\"sk-estimator-id-2\" type=\"checkbox\" ><label for=\"sk-estimator-id-2\" class=\"sk-toggleable__label sk-toggleable__label-arrow\">OrdinalEncoder</label><div class=\"sk-toggleable__content\"><pre>OrdinalEncoder(cols=[&#x27;basin&#x27;, &#x27;region&#x27;, &#x27;public_meeting&#x27;, &#x27;scheme_management&#x27;,\n",
              "                     &#x27;permit&#x27;, &#x27;extraction_type&#x27;, &#x27;extraction_type_group&#x27;,\n",
              "                     &#x27;extraction_type_class&#x27;, &#x27;management&#x27;, &#x27;management_group&#x27;,\n",
              "                     &#x27;payment&#x27;, &#x27;payment_type&#x27;, &#x27;water_quality&#x27;,\n",
              "                     &#x27;quality_group&#x27;, &#x27;quantity&#x27;, &#x27;source&#x27;, &#x27;source_type&#x27;,\n",
              "                     &#x27;source_class&#x27;, &#x27;waterpoint_type&#x27;,\n",
              "                     &#x27;waterpoint_type_group&#x27;],\n",
              "               mapping=[{&#x27;col&#x27;: &#x27;ba...\n",
              "                         &#x27;mapping&#x27;: groundwater    1\n",
              "surface        2\n",
              "unknown        3\n",
              "NaN           -2\n",
              "dtype: int64},\n",
              "                        {&#x27;col&#x27;: &#x27;waterpoint_type&#x27;, &#x27;data_type&#x27;: dtype(&#x27;O&#x27;),\n",
              "                         &#x27;mapping&#x27;: communal standpipe             1\n",
              "hand pump                      2\n",
              "other                          3\n",
              "communal standpipe multiple    4\n",
              "improved spring                5\n",
              "cattle trough                  6\n",
              "dam                            7\n",
              "NaN                           -2\n",
              "dtype: int64},\n",
              "                        {&#x27;col&#x27;: &#x27;waterpoint_type_group&#x27;,\n",
              "                         &#x27;data_type&#x27;: dtype(&#x27;O&#x27;),\n",
              "                         &#x27;mapping&#x27;: communal standpipe    1\n",
              "hand pump             2\n",
              "other                 3\n",
              "improved spring       4\n",
              "cattle trough         5\n",
              "dam                   6\n",
              "NaN                  -2\n",
              "dtype: int64}])</pre></div></div></div><div class=\"sk-item\"><div class=\"sk-estimator sk-toggleable\"><input class=\"sk-toggleable__control sk-hidden--visually\" id=\"sk-estimator-id-3\" type=\"checkbox\" ><label for=\"sk-estimator-id-3\" class=\"sk-toggleable__label sk-toggleable__label-arrow\">SimpleImputer</label><div class=\"sk-toggleable__content\"><pre>SimpleImputer()</pre></div></div></div><div class=\"sk-item\"><div class=\"sk-estimator sk-toggleable\"><input class=\"sk-toggleable__control sk-hidden--visually\" id=\"sk-estimator-id-4\" type=\"checkbox\" ><label for=\"sk-estimator-id-4\" class=\"sk-toggleable__label sk-toggleable__label-arrow\">DecisionTreeClassifier</label><div class=\"sk-toggleable__content\"><pre>DecisionTreeClassifier()</pre></div></div></div></div></div></div></div>"
            ]
          },
          "metadata": {},
          "execution_count": 34
        }
      ],
      "source": [
        "model_dt = make_pipeline(\n",
        "    OrdinalEncoder(),\n",
        "    SimpleImputer(),\n",
        "    DecisionTreeClassifier()\n",
        ")\n",
        "\n",
        "model_dt.fit(X_train, y_train)"
      ]
    },
    {
      "cell_type": "markdown",
      "metadata": {
        "id": "OddLtjKZrSpj"
      },
      "source": [
        "# V. Check Metrics\n",
        "\n",
        "**Task 7:** Calculate the training and validation accuracy scores for `model_dt`."
      ]
    },
    {
      "cell_type": "code",
      "execution_count": 35,
      "metadata": {
        "id": "9OUkFwN-rSpj",
        "colab": {
          "base_uri": "https://localhost:8080/"
        },
        "outputId": "1b4b9173-18bf-43c9-e438-3f25a734c24d"
      },
      "outputs": [
        {
          "output_type": "stream",
          "name": "stdout",
          "text": [
            "Training Accuracy Score: 0.9952650518739873\n",
            "Validation Accuracy Score: 0.7502525252525253\n"
          ]
        }
      ],
      "source": [
        "training_acc = accuracy_score(y_train, model_dt.predict(X_train))\n",
        "val_acc = accuracy_score(y_val, model_dt.predict(X_val))\n",
        "\n",
        "print('Training Accuracy Score:', training_acc)\n",
        "print('Validation Accuracy Score:', val_acc)"
      ]
    },
    {
      "cell_type": "markdown",
      "metadata": {
        "id": "0TfQDmqsrSpj"
      },
      "source": [
        "# VI. Tune Model\n",
        "\n",
        "**Task 8:** Is there a large difference between your training and validation accuracy? If so, experiment with different setting for `max_depth` in your `DecisionTreeClassifier` to reduce the amount of overfitting in your model."
      ]
    },
    {
      "cell_type": "code",
      "execution_count": 37,
      "metadata": {
        "id": "ZlFKSyMNrSpj",
        "colab": {
          "base_uri": "https://localhost:8080/"
        },
        "outputId": "acc2bb0e-305d-4b63-ad58-a387ffd289c7"
      },
      "outputs": [
        {
          "output_type": "stream",
          "name": "stdout",
          "text": [
            "Training Accuracy Score: 0.6476356825690777\n",
            "Validation Accuracy Score: 0.6505050505050505\n",
            "----------------\n",
            "Training Accuracy Score: 0.6892821818640965\n",
            "Validation Accuracy Score: 0.6896464646464646\n",
            "----------------\n",
            "Training Accuracy Score: 0.696437214587849\n",
            "Validation Accuracy Score: 0.696969696969697\n",
            "----------------\n",
            "Training Accuracy Score: 0.7089795660683095\n",
            "Validation Accuracy Score: 0.7121212121212122\n",
            "----------------\n",
            "Training Accuracy Score: 0.7176287379784928\n",
            "Validation Accuracy Score: 0.718013468013468\n",
            "----------------\n",
            "Training Accuracy Score: 0.7252888318356868\n",
            "Validation Accuracy Score: 0.723989898989899\n",
            "----------------\n",
            "Training Accuracy Score: 0.7312443443675162\n",
            "Validation Accuracy Score: 0.7289562289562289\n",
            "----------------\n",
            "Training Accuracy Score: 0.7436393863507229\n",
            "Validation Accuracy Score: 0.7384680134680135\n",
            "----------------\n",
            "Training Accuracy Score: 0.7551716155643006\n",
            "Validation Accuracy Score: 0.7453703703703703\n",
            "----------------\n",
            "Training Accuracy Score: 0.7681138071087354\n",
            "Validation Accuracy Score: 0.7491582491582491\n",
            "----------------\n",
            "Training Accuracy Score: 0.7823817841284538\n",
            "Validation Accuracy Score: 0.7528619528619529\n",
            "----------------\n",
            "Training Accuracy Score: 0.7964393190092384\n",
            "Validation Accuracy Score: 0.756986531986532\n",
            "----------------\n",
            "Training Accuracy Score: 0.8143479450325133\n",
            "Validation Accuracy Score: 0.7627946127946128\n",
            "----------------\n",
            "Training Accuracy Score: 0.8352448494286496\n",
            "Validation Accuracy Score: 0.7647306397306397\n",
            "----------------\n",
            "Training Accuracy Score: 0.8536374923714725\n",
            "Validation Accuracy Score: 0.7667508417508417\n",
            "----------------\n",
            "Training Accuracy Score: 0.8708727035501589\n",
            "Validation Accuracy Score: 0.7637205387205387\n",
            "----------------\n",
            "Training Accuracy Score: 0.8881500031566321\n",
            "Validation Accuracy Score: 0.7624579124579125\n",
            "----------------\n",
            "Training Accuracy Score: 0.9046907552768366\n",
            "Validation Accuracy Score: 0.7686026936026936\n",
            "----------------\n",
            "Training Accuracy Score: 0.9201792967023716\n",
            "Validation Accuracy Score: 0.7616161616161616\n",
            "----------------\n",
            "Training Accuracy Score: 0.9325112060438983\n",
            "Validation Accuracy Score: 0.7654040404040404\n",
            "----------------\n",
            "Training Accuracy Score: 0.944695805888171\n",
            "Validation Accuracy Score: 0.7621212121212121\n",
            "----------------\n",
            "Training Accuracy Score: 0.9551968686209726\n",
            "Validation Accuracy Score: 0.7571548821548821\n",
            "----------------\n",
            "Training Accuracy Score: 0.963635598392222\n",
            "Validation Accuracy Score: 0.7578282828282829\n",
            "----------------\n",
            "Training Accuracy Score: 0.971022117468802\n",
            "Validation Accuracy Score: 0.7543771043771044\n",
            "----------------\n",
            "Training Accuracy Score: 0.9766830110061239\n",
            "Validation Accuracy Score: 0.7575757575757576\n",
            "----------------\n",
            "Training Accuracy Score: 0.9813969149182432\n",
            "Validation Accuracy Score: 0.7541245791245791\n",
            "----------------\n",
            "Training Accuracy Score: 0.984785033355079\n",
            "Validation Accuracy Score: 0.7527777777777778\n",
            "----------------\n",
            "Training Accuracy Score: 0.9877101790862602\n",
            "Validation Accuracy Score: 0.7526936026936027\n",
            "----------------\n",
            "Training Accuracy Score: 0.9900881752562133\n",
            "Validation Accuracy Score: 0.751010101010101\n",
            "----------------\n",
            "Training Accuracy Score: 0.9918348450093647\n",
            "Validation Accuracy Score: 0.7507575757575757\n",
            "----------------\n",
            "Training Accuracy Score: 0.9931185420568615\n",
            "Validation Accuracy Score: 0.7490740740740741\n",
            "----------------\n",
            "Training Accuracy Score: 0.9938340453292367\n",
            "Validation Accuracy Score: 0.7487373737373737\n",
            "----------------\n",
            "Training Accuracy Score: 0.9944864159599318\n",
            "Validation Accuracy Score: 0.7486531986531987\n",
            "----------------\n",
            "Training Accuracy Score: 0.9948441675961195\n",
            "Validation Accuracy Score: 0.7496632996632997\n",
            "----------------\n",
            "Training Accuracy Score: 0.99503356552116\n",
            "Validation Accuracy Score: 0.7497474747474747\n",
            "----------------\n",
            "Training Accuracy Score: 0.9951598308045203\n",
            "Validation Accuracy Score: 0.7518518518518519\n",
            "----------------\n",
            "Training Accuracy Score: 0.995201919232307\n",
            "Validation Accuracy Score: 0.7503367003367003\n",
            "----------------\n",
            "Training Accuracy Score: 0.9952650518739873\n",
            "Validation Accuracy Score: 0.7485690235690236\n",
            "----------------\n",
            "Training Accuracy Score: 0.9952650518739873\n",
            "Validation Accuracy Score: 0.7514309764309764\n",
            "----------------\n",
            "Training Accuracy Score: 0.9952650518739873\n",
            "Validation Accuracy Score: 0.7508417508417509\n",
            "----------------\n",
            "Training Accuracy Score: 0.9952650518739873\n",
            "Validation Accuracy Score: 0.7505050505050505\n",
            "----------------\n",
            "Training Accuracy Score: 0.9952650518739873\n",
            "Validation Accuracy Score: 0.7488215488215488\n",
            "----------------\n",
            "Training Accuracy Score: 0.9952650518739873\n",
            "Validation Accuracy Score: 0.746969696969697\n",
            "----------------\n",
            "Training Accuracy Score: 0.9952650518739873\n",
            "Validation Accuracy Score: 0.751010101010101\n",
            "----------------\n",
            "Training Accuracy Score: 0.9952650518739873\n",
            "Validation Accuracy Score: 0.7513468013468013\n",
            "----------------\n",
            "Training Accuracy Score: 0.9952650518739873\n",
            "Validation Accuracy Score: 0.7480639730639731\n",
            "----------------\n",
            "Training Accuracy Score: 0.9952650518739873\n",
            "Validation Accuracy Score: 0.7500841750841751\n",
            "----------------\n",
            "Training Accuracy Score: 0.9952650518739873\n",
            "Validation Accuracy Score: 0.7477272727272727\n",
            "----------------\n",
            "Training Accuracy Score: 0.9952650518739873\n",
            "Validation Accuracy Score: 0.7521885521885522\n",
            "----------------\n"
          ]
        }
      ],
      "source": [
        "# Use this cell for experimentation and then change your model hyperparameters in Task 6\n",
        "depth_number = []\n",
        "val_acc_amount = []\n",
        "\n",
        "for depth in range(1, 50):\n",
        "    model_dt = make_pipeline(\n",
        "        OrdinalEncoder(),\n",
        "        SimpleImputer(),\n",
        "       DecisionTreeClassifier(max_depth=depth)\n",
        "    )\n",
        "\n",
        "    model_dt.fit(X_train, y_train)\n",
        "\n",
        "    training_acc = accuracy_score(y_train, model_dt.predict(X_train))\n",
        "    val_acc = accuracy_score(y_val, model_dt.predict(X_val))\n",
        "    depth_number.append(depth)\n",
        "    val_acc_amount.append(val_acc)\n",
        "\n",
        "    print('Training Accuracy Score:', training_acc)\n",
        "    print('Validation Accuracy Score:', val_acc)\n",
        "    print('----------------')"
      ]
    },
    {
      "cell_type": "code",
      "source": [
        "plt.plot(depth_number, val_acc_amount)"
      ],
      "metadata": {
        "colab": {
          "base_uri": "https://localhost:8080/",
          "height": 448
        },
        "id": "6GS11Rya4ptr",
        "outputId": "a971e2d4-09f7-4bb8-c74f-7475e9cfc5b8"
      },
      "execution_count": 38,
      "outputs": [
        {
          "output_type": "execute_result",
          "data": {
            "text/plain": [
              "[<matplotlib.lines.Line2D at 0x7e8370163550>]"
            ]
          },
          "metadata": {},
          "execution_count": 38
        },
        {
          "output_type": "display_data",
          "data": {
            "text/plain": [
              "<Figure size 640x480 with 1 Axes>"
            ],
            "image/png": "[encoded data removed]"
          },
          "metadata": {}
        }
      ]
    },
    {
      "cell_type": "code",
      "source": [
        "model_dt = make_pipeline(\n",
        "    OrdinalEncoder(),\n",
        "    SimpleImputer(),\n",
        "    DecisionTreeClassifier(max_depth=14)\n",
        "    )\n",
        "\n",
        "model_dt.fit(X_train, y_train)\n",
        "\n",
        "training_acc = accuracy_score(y_train, model_dt.predict(X_train))\n",
        "val_acc = accuracy_score(y_val, model_dt.predict(X_val))\n",
        "print(training_acc, val_acc)"
      ],
      "metadata": {
        "colab": {
          "base_uri": "https://localhost:8080/"
        },
        "id": "owJCxZb65Wb6",
        "outputId": "63da59a1-d629-4d9a-ce37-6ccaedc044d3"
      },
      "execution_count": 39,
      "outputs": [
        {
          "output_type": "stream",
          "name": "stdout",
          "text": [
            "0.835160672573076 0.7651515151515151\n"
          ]
        }
      ]
    },
    {
      "cell_type": "markdown",
      "metadata": {
        "id": "HN-PRDc1rSpj"
      },
      "source": [
        "# VII. Communicate Results\n",
        "\n",
        "**Task 9 `stretch goal`:** Create a horizontal barchart that shows the the 10 most important features for model_dt, sorted by value.\n",
        "\n",
        "**Note:** [`DecisionTreeClassifier.feature_importances_`](https://scikit-learn.org/stable/modules/generated/sklearn.tree.DecisionTreeClassifier.html?highlight=decisiontreecla#sklearn.tree.DecisionTreeClassifier.feature_importances_) returns values that are different from [`LogisticRegression.coef_`](https://scikit-learn.org/stable/modules/generated/sklearn.linear_model.LogisticRegression.html). All the values will be positive, and they will sum to `1`."
      ]
    },
    {
      "cell_type": "code",
      "execution_count": 42,
      "metadata": {
        "id": "X6Auw00-rSpj",
        "colab": {
          "base_uri": "https://localhost:8080/",
          "height": 448
        },
        "outputId": "1a5f2b02-e860-4e4c-b91e-f3892167ee16"
      },
      "outputs": [
        {
          "output_type": "execute_result",
          "data": {
            "text/plain": [
              "<Axes: >"
            ]
          },
          "metadata": {},
          "execution_count": 42
        },
        {
          "output_type": "display_data",
          "data": {
            "text/plain": [
              "<Figure size 640x480 with 1 Axes>"
            ],
            "image/png": "[encoded data removed]"
          },
          "metadata": {}
        }
      ],
      "source": [
        "feature_impo = model_dt['decisiontreeclassifier'].feature_importances_\n",
        "feature_names = X_train.columns\n",
        "\n",
        "feature_impo_df = pd.DataFrame(feature_impo,\n",
        "                               columns = ['Features_Values'],\n",
        "                               index = feature_names).sort_values(by='Features_Values', ascending = False)\n",
        "\n",
        "feature_impo_df.head(10).plot(kind = 'barh')"
      ]
    },
    {
      "cell_type": "code",
      "source": [],
      "metadata": {
        "id": "fm2KHLJv6TUx"
      },
      "execution_count": null,
      "outputs": []
    }
  ],
  "metadata": {
    "kernelspec": {
      "display_name": "Python 3",
      "language": "python",
      "name": "python3"
    },
    "language_info": {
      "codemirror_mode": {
        "name": "ipython",
        "version": 3
      },
      "file_extension": ".py",
      "mimetype": "text/x-python",
      "name": "python",
      "nbconvert_exporter": "python",
      "pygments_lexer": "ipython3",
      "version": "3.8.9"
    },
    "colab": {
      "provenance": []
    }
  },
  "nbformat": 4,
  "nbformat_minor": 0
}