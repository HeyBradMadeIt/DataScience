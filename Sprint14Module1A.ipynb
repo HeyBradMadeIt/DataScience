{
  "nbformat": 4,
  "nbformat_minor": 0,
  "metadata": {
    "accelerator": "GPU",
    "colab": {
      "provenance": []
    },
    "kernelspec": {
      "display_name": "Python 3",
      "language": "python",
      "name": "python3"
    },
    "language_info": {
      "codemirror_mode": {
        "name": "ipython",
        "version": 3
      },
      "file_extension": ".py",
      "mimetype": "text/x-python",
      "name": "python",
      "nbconvert_exporter": "python",
      "pygments_lexer": "ipython3",
      "version": "3.8.5"
    }
  },
  "cells": [
    {
      "cell_type": "markdown",
      "metadata": {
        "id": "ObyHCH8HvHSf"
      },
      "source": [
        "\n",
        "# *Data Science Unit 4 Sprint 2 Assignment 1*\n",
        "\n",
        "Use TensorFlow Keras and a sample of the [Quickdraw dataset](https://github.com/googlecreativelab/quickdraw-dataset) to build a sketch classification model. The dataset has been sampled to only 10 classes and 10000 observations per class.\n",
        "\n",
        "### Objective\n",
        "\n",
        "- Build a baseline classification model then, run a few experiments with different optimizers and learning rates.\n",
        "- Don't forget to [**switch to GPU if you're running your notebook on Colab!**](https://colab.research.google.com/notebooks/gpu.ipynb)"
      ]
    },
    {
      "cell_type": "markdown",
      "metadata": {
        "id": "s-Tc3ovEyQ9b"
      },
      "source": [
        "## Load Your Data"
      ]
    },
    {
      "cell_type": "code",
      "metadata": {
        "id": "CkU0pAYCvU8o"
      },
      "source": [
        "# imports in first cell\n",
        "import seaborn as sns\n",
        "import pandas as pd\n",
        "import numpy as np\n",
        "import tensorflow as tf\n",
        "import matplotlib.pyplot as plt\n",
        "from sklearn.utils import shuffle\n",
        "\n",
        "# use Sequential to build out your model\n",
        "from tensorflow.keras.models import Sequential\n",
        "\n",
        "# Dense layer is used for Fully Connected Forward Feeding networks\n",
        "from tensorflow.keras.layers import Dense"
      ],
      "execution_count": 1,
      "outputs": []
    },
    {
      "cell_type": "markdown",
      "metadata": {
        "id": "UT2HFvSgDlFQ"
      },
      "source": [
        "Note that the 28x28 quickdraw images have already been \"flattened\" into 784: dimensional vectors"
      ]
    },
    {
      "cell_type": "code",
      "metadata": {
        "id": "S1XYJRQKLj1B",
        "colab": {
          "base_uri": "https://localhost:8080/"
        },
        "outputId": "f6619855-992e-4fb0-f8f6-8d2c83ff9fdb"
      },
      "source": [
        "# load the quickdraw data set\n",
        "!git clone https://github.com/LambdaSchool/DS-Unit-4-Sprint-2-Neural-Networks\n",
        "data = np.load('/content/DS-Unit-4-Sprint-2-Neural-Networks/quickdraw10.npz')\n",
        "\n",
        "X = data['arr_0']\n",
        "y = data['arr_1']\n",
        "\n",
        "print(X.shape)\n",
        "print(y.shape)"
      ],
      "execution_count": 2,
      "outputs": [
        {
          "output_type": "stream",
          "name": "stdout",
          "text": [
            "Cloning into 'DS-Unit-4-Sprint-2-Neural-Networks'...\n",
            "remote: Enumerating objects: 586, done.\u001b[K\n",
            "remote: Counting objects: 100% (221/221), done.\u001b[K\n",
            "remote: Compressing objects: 100% (135/135), done.\u001b[K\n",
            "remote: Total 586 (delta 117), reused 163 (delta 85), pack-reused 365\u001b[K\n",
            "Receiving objects: 100% (586/586), 91.00 MiB | 11.31 MiB/s, done.\n",
            "Resolving deltas: 100% (301/301), done.\n",
            "(100000, 784)\n",
            "(100000,)\n"
          ]
        }
      ]
    },
    {
      "cell_type": "markdown",
      "metadata": {
        "id": "mvMjoB_yDZTL"
      },
      "source": [
        "These are the names of the 10 image classes"
      ]
    },
    {
      "cell_type": "code",
      "metadata": {
        "id": "c8qsDqdqvHDd"
      },
      "source": [
        "class_names = ['apple',\n",
        "             'anvil',\n",
        "             'airplane',\n",
        "             'banana',\n",
        "             'The Eiffel Tower',\n",
        "             'The Mona Lisa',\n",
        "             'The Great Wall of China',\n",
        "             'alarm clock',\n",
        "             'ant',\n",
        "             'asparagus']"
      ],
      "execution_count": 3,
      "outputs": []
    },
    {
      "cell_type": "markdown",
      "metadata": {
        "id": "VxuY8RYXD9S4"
      },
      "source": [
        "We can explore the data a bit by reshaping the vectors back to images and displaying them with their labels. <br>\n",
        "Turns out the data has 10 blocks of 10,000 images of each of the above labels, in order. <br>\n",
        "So the code below displays the first image of each class."
      ]
    },
    {
      "cell_type": "code",
      "source": [
        "# Row vector\n",
        "X[0]"
      ],
      "metadata": {
        "colab": {
          "base_uri": "https://localhost:8080/"
        },
        "id": "K7AoXD3j-g8v",
        "outputId": "9140c526-76e3-4364-b8a7-1c30e2d932f8"
      },
      "execution_count": 5,
      "outputs": [
        {
          "output_type": "execute_result",
          "data": {
            "text/plain": [
              "array([  0,   0,   0,   0,   0,   0,   0,   0,   0,   0,   0,   0,   0,\n",
              "         0,   0,   0,   0,   0,   0,   0,   0,   0,   0,   0,   0,   0,\n",
              "         0,   0,   0,   0,   0,   0,   0,   0,   0,   0,   0,   0,   0,\n",
              "         0,   0,   0,  11,  21,  12,   0,   0,   0,   0,   0,   0,   0,\n",
              "         0,  92,  20,   0,   0,   0,   0,   0,   0,   0,   0,   0,   0,\n",
              "         0,   0,   0,  91, 213, 253, 255, 255, 222,  95,   3,   0,   0,\n",
              "         0,   0,   7, 255, 222,   0,   0,   0,   0,   0,   0,   0,   0,\n",
              "         0,   0,   0,  24, 190, 255, 196, 118, 100, 109, 196, 255, 121,\n",
              "         0,   0,   0,   0,   0, 141,  35,   0,   0,   0,   0,   0,   0,\n",
              "         0,   0,   0,   0,   1, 185, 241,  94,   1,   0,   0,   0,   0,\n",
              "        63,  25,   0,   0,   0,   0,   0,   0,   0,   0,   0,   0,   0,\n",
              "         0,   0,   0,   0,   0,   0,  89, 255, 115, 133, 150,  37,   0,\n",
              "         0,   0,   0,   0,   0,   0,   0,   0,   0,   0,   0,   0,   0,\n",
              "         0,   0,   0,   0,   0,   0,   0,   0, 207, 241, 252, 255, 250,\n",
              "       199,   0,   0,   0,   0,   0,   0,   0,   0,   0,   0,   0,   0,\n",
              "         0,   0,   0,   0,   0,   0,   0,   0,  30, 200, 255, 242, 149,\n",
              "       252, 232, 195,   3,   0,   0,   0,   0,   0,   0,   0,   0,   0,\n",
              "         0,   0,   0,   0,   0,   0,   0,   0,   0,  39, 225, 238, 255,\n",
              "        85,   0, 119, 255,  83,   0,   0,   0,   0,   0,   0,   0,   0,\n",
              "         0,   0,   0,   0,   0,   0,   0,   0,   0,   0,  43, 229, 231,\n",
              "       106, 255,  49,   0,   1, 201, 222,   7,   0,   0,   0,   0,   0,\n",
              "         0,   0,   0,   0,   0,   0,   0,   0,   0,   0,   0,  33, 237,\n",
              "       220,  33,  79, 255,  75,   0,   0,  61, 255,  94,   0,   0,   0,\n",
              "         0,   0,   0,   0,   0,   0,   0,   0,   0,   0,   0,   0,   4,\n",
              "       197, 235,  28,   0,   4, 210, 166,   0,   0,   1, 250, 127,   0,\n",
              "         0,   0,   0,   0,   0,   0,   0,   0,   0,   0,   0,   0,   0,\n",
              "         0, 128, 255,  85,   0,   0,   0,  17,  16,   0,   0,   0, 231,\n",
              "       146,   0,   0,   0,   0,   0,   0,   0,   0,   0,   0,   0,   0,\n",
              "         0,   0,  56, 251, 153,   0,   0,   0,   0,   0,   0,   0,   0,\n",
              "         0, 228, 148,   0,   0,   0,   0,   0,   0,   0,   0,   0,   0,\n",
              "         0,   0,   0,   0, 162, 229,  11,   0,   0,   0,   0,   0,   0,\n",
              "         0,   0,   0, 246, 131,   0,   0,   0,   0,   0,   0,   0,   0,\n",
              "         0,   0,   0,   0,   0,   0, 219, 165,   0,   0,   0,   0,   0,\n",
              "         0,   0,   0,   0,  13, 255, 111,   0,   0,   0,   0,   0,   0,\n",
              "         0,   0,   0,   0,   0,   0,   0,  21, 254, 109,   0,   0,   0,\n",
              "         0,   0,   0,   0,   0,   0,  78, 255,  58,   0,   0,   0,   0,\n",
              "         0,   0,   0,   0,   0,   0,   0,   0,   0,  78, 255,  51,   0,\n",
              "         0,   0,   0,   0,   0,   0,   0,   0, 152, 237,   3,   0,   0,\n",
              "         0,   0,   0,   0,   0,   0,   0,   0,   0,   0,   0, 120, 254,\n",
              "         5,   0,   0,   0,   0,   0,   0,   0,   0,   3, 228, 165,   0,\n",
              "         0,   0,   0,   0,   0,   0,   0,   0,   0,   0,   0,   0,   0,\n",
              "       123, 254,   0,   0,   0,   0,   0,   0,   0,   0,   0,  72, 255,\n",
              "        74,   0,   0,   0,   0,   0,   0,   0,   0,   0,   0,   0,   0,\n",
              "         0,   0, 114, 255,  13,   0,   0,   0,   0,   0,   0,   0,   0,\n",
              "       169, 229,   3,   0,   0,   0,   0,   0,   0,   0,   0,   0,   0,\n",
              "         0,   0,   0,   0,  60, 255,  70,   0,   0,   0,   0,   0,   0,\n",
              "         0,  53, 252, 129,   0,   0,   0,   0,   0,   0,   0,   0,   0,\n",
              "         0,   0,   0,   0,   0,   0,   7, 239, 174,   0,   0,   0,   0,\n",
              "         0,   0,   6, 208, 222,  11,   0,   0,   0,   0,   0,   0,   0,\n",
              "         0,   0,   0,   0,   0,   0,   0,   0,   0, 110, 255, 100,   0,\n",
              "         0,   0,   0,   3, 170, 253,  70,   0,   0,   0,   0,   0,   0,\n",
              "         0,   0,   0,   0,   0,   0,   0,   0,   0,   0,   0,   3, 180,\n",
              "       255, 178,  99,  68,  91, 200, 254, 104,   0,   0,   0,   0,   0,\n",
              "         0,   0,   0,   0,   0,   0,   0,   0,   0,   0,   0,   0,   0,\n",
              "         0,   2, 116, 222, 255, 255, 255, 213,  87,   0,   0,   0,   0,\n",
              "         0,   0,   0,   0,   0,   0,   0,   0,   0,   0,   0,   0,   0,\n",
              "         0,   0,   0,   0,   0,   0,  32,  51,  44,   1,   0,   0,   0,\n",
              "         0,   0,   0,   0,   0,   0,   0,   0,   0,   0,   0,   0,   0,\n",
              "         0,   0,   0,   0,   0,   0,   0,   0,   0,   0,   0,   0,   0,\n",
              "         0,   0,   0,   0,   0,   0,   0,   0,   0,   0,   0,   0,   0,\n",
              "         0,   0,   0,   0], dtype=uint8)"
            ]
          },
          "metadata": {},
          "execution_count": 5
        }
      ]
    },
    {
      "cell_type": "code",
      "metadata": {
        "id": "Owbm1EbxvA5A",
        "colab": {
          "base_uri": "https://localhost:8080/",
          "height": 400
        },
        "outputId": "76ec6035-3762-47d4-975c-cd8ed71e4c33"
      },
      "source": [
        "# these are your 10 unique images\n",
        "plt.figure(figsize=(10,5))\n",
        "start = 0\n",
        "\n",
        "for num, name in enumerate(class_names):\n",
        "    plt.subplot(2,5, num+1)\n",
        "    plt.xticks([])\n",
        "    plt.yticks([])\n",
        "    plt.grid(False)\n",
        "    plt.imshow(X[start].reshape(28,28),cmap=plt.cm.binary)\n",
        "    plt.xlabel(name)\n",
        "    start += 10000\n",
        "plt.show()"
      ],
      "execution_count": 4,
      "outputs": [
        {
          "output_type": "display_data",
          "data": {
            "text/plain": [
              "<Figure size 1000x500 with 10 Axes>"
            ],
            "image/png": "[encoded data removed]"
          },
          "metadata": {}
        }
      ]
    },
    {
      "cell_type": "markdown",
      "metadata": {
        "id": "Av6i6t5QLj1D"
      },
      "source": [
        "Say hello to the Quickdraw dataset!\n",
        "\n",
        "You'll be using this dataset a lot this week as an alternative to the MNIST digits data set, which we'll use in the guided projects. The nice thing about this dataset is that it's simple, which allows us to focus on our model, its various components, and gradually come to a better understanding of how to build neural networks without worrying about cleaning and prepping our image data much."
      ]
    },
    {
      "cell_type": "code",
      "metadata": {
        "id": "c97_M1WNvTNY"
      },
      "source": [
        "# always a good idea to shuffle your dataset!\n",
        "X, y = shuffle(X, y)"
      ],
      "execution_count": 6,
      "outputs": []
    },
    {
      "cell_type": "markdown",
      "metadata": {
        "id": "jb70CbLVyK65"
      },
      "source": [
        "-----\n",
        "\n",
        "## Build Your Baseline Model\n",
        "\n",
        "Make sure that you\n",
        "\n",
        "- **Determine** the dimensionality of your input data by investigating **X**\n",
        "- **Normalize** your input data to values between 0 and 1\n",
        "- **Determine** the number of neurons in your output layer by investigating **Y**\n",
        "- **Select** `sparse_categorical_crossentropy` as your loss function.\n",
        "- **Select** `sgd` as your optimizer.\n",
        "- **Add** 3 hidden layers to your model with the following number of nodes\n",
        "    - h1 has 500 nodes\n",
        "    - h2 has 250 nodes\n",
        "    - h3 has 100 nodes\n",
        "    \n",
        "- **Set** epochs to 20\n",
        "- **Use** the `validation_split` keyword in `model.fit()` to automatically create a training / validation dataset from within the model. Specify a percentage, such as `validation_split = 0.2`\n",
        "\n",
        "Not sure what the various parameters are for or what values to assign to them?\n",
        "\n",
        "- Reference the guided project notebook for Sprint 2 Module 1\n",
        "- Reference the [**Keras documentation**](https://keras.io/api/)\n",
        "- Google other examples\n",
        "- Discuss your results with classmates"
      ]
    },
    {
      "cell_type": "code",
      "metadata": {
        "deletable": false,
        "nbgrader": {
          "cell_type": "code",
          "checksum": "ef20dd34df6998e0a50e394d59d58659",
          "grade": false,
          "grade_id": "cell-907b9348d7a2ebb3",
          "locked": false,
          "schema_version": 3,
          "solution": true,
          "task": false
        },
        "id": "f133nwpOLj1G"
      },
      "source": [
        "# get dim of image row vectors and save to input_dim\n",
        "\n",
        "# get number of unique labels and save to n_output_labels\n",
        "\n",
        "# normalize image data to values between 0 and 1 (by dividing by max pixel value)\n",
        "\n",
        "\n",
        "### BEGIN SOLUTION\n",
        "# Get dim of image row vectors and save to input_dim\n",
        "input_dim = X.shape[1]\n",
        "# Get number of unique labels and save to n_output_nodes\n",
        "n_output_nodes = len(np.unique(y))\n",
        "# Normalize image data to values between 0 and 1 (by dividing by max pixel value)\n",
        "max_pixel_value = X.max()\n",
        "X_scaled = X / max_pixel_value\n",
        "### END SOLUTION"
      ],
      "execution_count": 7,
      "outputs": []
    },
    {
      "cell_type": "code",
      "source": [
        "X_scaled[0]"
      ],
      "metadata": {
        "colab": {
          "base_uri": "https://localhost:8080/"
        },
        "id": "FLjbeB4v_epc",
        "outputId": "fbb88624-66d3-471a-805f-dcb73f0dac11"
      },
      "execution_count": 8,
      "outputs": [
        {
          "output_type": "execute_result",
          "data": {
            "text/plain": [
              "array([0.        , 0.        , 0.        , 0.        , 0.        ,\n",
              "       0.        , 0.        , 0.        , 0.        , 0.        ,\n",
              "       0.        , 0.        , 0.        , 0.        , 0.        ,\n",
              "       0.        , 0.        , 0.        , 0.        , 0.        ,\n",
              "       0.        , 0.        , 0.        , 0.        , 0.        ,\n",
              "       0.        , 0.        , 0.        , 0.        , 0.        ,\n",
              "       0.        , 0.        , 0.        , 0.        , 0.        ,\n",
              "       0.        , 0.        , 0.        , 0.        , 0.        ,\n",
              "       0.19607843, 0.18039216, 0.        , 0.        , 0.        ,\n",
              "       0.        , 0.        , 0.        , 0.        , 0.        ,\n",
              "       0.        , 0.        , 0.        , 0.        , 0.        ,\n",
              "       0.        , 0.        , 0.        , 0.        , 0.        ,\n",
              "       0.        , 0.        , 0.        , 0.        , 0.        ,\n",
              "       0.        , 0.        , 0.00784314, 0.8745098 , 0.80784314,\n",
              "       0.        , 0.        , 0.        , 0.        , 0.        ,\n",
              "       0.        , 0.        , 0.        , 0.        , 0.        ,\n",
              "       0.        , 0.        , 0.        , 0.        , 0.        ,\n",
              "       0.        , 0.        , 0.        , 0.        , 0.        ,\n",
              "       0.        , 0.        , 0.        , 0.        , 0.        ,\n",
              "       0.27058824, 1.        , 0.99607843, 0.10196078, 0.        ,\n",
              "       0.        , 0.        , 0.        , 0.        , 0.        ,\n",
              "       0.        , 0.        , 0.        , 0.        , 0.        ,\n",
              "       0.        , 0.        , 0.        , 0.        , 0.        ,\n",
              "       0.        , 0.        , 0.        , 0.        , 0.        ,\n",
              "       0.        , 0.        , 0.        , 0.65882353, 0.95294118,\n",
              "       1.        , 0.37647059, 0.        , 0.        , 0.        ,\n",
              "       0.        , 0.        , 0.        , 0.        , 0.        ,\n",
              "       0.        , 0.        , 0.        , 0.        , 0.        ,\n",
              "       0.        , 0.        , 0.        , 0.        , 0.        ,\n",
              "       0.        , 0.        , 0.        , 0.        , 0.        ,\n",
              "       0.04313725, 0.97254902, 0.5372549 , 0.8745098 , 0.65882353,\n",
              "       0.        , 0.        , 0.        , 0.        , 0.        ,\n",
              "       0.        , 0.        , 0.        , 0.        , 0.        ,\n",
              "       0.        , 0.        , 0.        , 0.        , 0.        ,\n",
              "       0.        , 0.        , 0.        , 0.        , 0.        ,\n",
              "       0.        , 0.        , 0.        , 0.24313725, 1.        ,\n",
              "       0.25882353, 0.59215686, 0.93333333, 0.02745098, 0.        ,\n",
              "       0.        , 0.        , 0.        , 0.        , 0.        ,\n",
              "       0.        , 0.        , 0.        , 0.        , 0.        ,\n",
              "       0.        , 0.        , 0.        , 0.        , 0.        ,\n",
              "       0.        , 0.        , 0.        , 0.        , 0.        ,\n",
              "       0.        , 0.46666667, 0.99215686, 0.15686275, 0.39215686,\n",
              "       1.        , 0.3372549 , 0.        , 0.        , 0.        ,\n",
              "       0.        , 0.        , 0.        , 0.        , 0.        ,\n",
              "       0.        , 0.        , 0.        , 0.        , 0.        ,\n",
              "       0.        , 0.        , 0.        , 0.        , 0.        ,\n",
              "       0.        , 0.        , 0.        , 0.        , 0.68235294,\n",
              "       0.82352941, 0.78823529, 0.89803922, 0.84313725, 0.71764706,\n",
              "       0.        , 0.        , 0.        , 0.        , 0.        ,\n",
              "       0.        , 0.        , 0.        , 0.        , 0.        ,\n",
              "       0.        , 0.        , 0.        , 0.        , 0.        ,\n",
              "       0.        , 0.        , 0.        , 0.        , 0.        ,\n",
              "       0.        , 0.        , 0.89803922, 0.65490196, 0.99607843,\n",
              "       0.97254902, 0.47843137, 0.99215686, 0.11764706, 0.        ,\n",
              "       0.        , 0.        , 0.        , 0.        , 0.        ,\n",
              "       0.        , 0.        , 0.        , 0.        , 0.        ,\n",
              "       0.        , 0.        , 0.        , 0.        , 0.        ,\n",
              "       0.        , 0.        , 0.        , 0.        , 0.11372549,\n",
              "       1.        , 0.67058824, 1.        , 1.        , 0.28235294,\n",
              "       0.98431373, 0.48627451, 0.        , 0.        , 0.        ,\n",
              "       0.        , 0.        , 0.        , 0.        , 0.        ,\n",
              "       0.        , 0.        , 0.        , 0.        , 0.        ,\n",
              "       0.        , 0.        , 0.        , 0.        , 0.        ,\n",
              "       0.        , 0.        , 0.42352941, 1.        , 0.81176471,\n",
              "       0.81176471, 0.97647059, 0.50588235, 0.70588235, 0.86666667,\n",
              "       0.00392157, 0.        , 0.        , 0.        , 0.        ,\n",
              "       0.        , 0.        , 0.        , 0.        , 0.        ,\n",
              "       0.        , 0.        , 0.        , 0.        , 0.        ,\n",
              "       0.        , 0.        , 0.        , 0.        , 0.        ,\n",
              "       0.80392157, 0.8       , 0.99607843, 0.43529412, 0.7254902 ,\n",
              "       0.81176471, 0.3254902 , 1.        , 0.25098039, 0.        ,\n",
              "       0.        , 0.        , 0.        , 0.        , 0.        ,\n",
              "       0.        , 0.        , 0.        , 0.        , 0.        ,\n",
              "       0.        , 0.        , 0.        , 0.        , 0.        ,\n",
              "       0.        , 0.        , 0.17647059, 1.        , 0.66666667,\n",
              "       0.99607843, 0.11764706, 0.41960784, 1.        , 0.14901961,\n",
              "       0.91764706, 0.63921569, 0.        , 0.        , 0.        ,\n",
              "       0.        , 0.        , 0.        , 0.        , 0.        ,\n",
              "       0.        , 0.        , 0.        , 0.        , 0.        ,\n",
              "       0.        , 0.        , 0.        , 0.        , 0.        ,\n",
              "       0.55294118, 0.96470588, 0.78039216, 0.85882353, 0.2       ,\n",
              "       0.31764706, 1.        , 0.36862745, 0.53333333, 0.98039216,\n",
              "       0.12156863, 0.        , 0.        , 0.        , 0.        ,\n",
              "       0.        , 0.        , 0.        , 0.        , 0.        ,\n",
              "       0.        , 0.        , 0.        , 0.        , 0.        ,\n",
              "       0.        , 0.        , 0.01568627, 0.90588235, 0.64705882,\n",
              "       0.78039216, 1.        , 1.        , 1.        , 1.        ,\n",
              "       0.43529412, 0.09019608, 0.96078431, 0.58431373, 0.        ,\n",
              "       0.        , 0.        , 0.        , 0.        , 0.        ,\n",
              "       0.        , 0.        , 0.        , 0.        , 0.        ,\n",
              "       0.        , 0.        , 0.        , 0.        , 0.        ,\n",
              "       0.30980392, 1.        , 0.27058824, 0.00392157, 0.2       ,\n",
              "       0.33333333, 0.38431373, 0.44705882, 0.04313725, 0.        ,\n",
              "       0.56470588, 0.96862745, 0.10196078, 0.        , 0.        ,\n",
              "       0.        , 0.        , 0.        , 0.        , 0.        ,\n",
              "       0.        , 0.        , 0.        , 0.        , 0.        ,\n",
              "       0.        , 0.        , 0.        , 0.67058824, 0.88627451,\n",
              "       0.00784314, 0.        , 0.        , 0.        , 0.71372549,\n",
              "       0.94901961, 0.02745098, 0.        , 0.10588235, 0.97254902,\n",
              "       0.56078431, 0.        , 0.        , 0.        , 0.        ,\n",
              "       0.        , 0.        , 0.        , 0.        , 0.        ,\n",
              "       0.        , 0.        , 0.        , 0.        , 0.        ,\n",
              "       0.03921569, 0.95686275, 0.55294118, 0.        , 0.        ,\n",
              "       0.        , 0.2627451 , 1.        , 1.        , 0.26666667,\n",
              "       0.        , 0.        , 0.59607843, 0.96078431, 0.08627451,\n",
              "       0.        , 0.        , 0.        , 0.        , 0.        ,\n",
              "       0.        , 0.        , 0.        , 0.        , 0.        ,\n",
              "       0.        , 0.        , 0.        , 0.3254902 , 1.        ,\n",
              "       0.22352941, 0.        , 0.        , 0.        , 0.70980392,\n",
              "       0.88627451, 0.95294118, 0.55294118, 0.        , 0.        ,\n",
              "       0.1254902 , 0.98039216, 0.52941176, 0.        , 0.        ,\n",
              "       0.        , 0.        , 0.        , 0.        , 0.        ,\n",
              "       0.        , 0.        , 0.        , 0.        , 0.        ,\n",
              "       0.        , 0.65882353, 0.89019608, 0.00392157, 0.        ,\n",
              "       0.        , 0.1372549 , 0.99215686, 0.46666667, 0.69019608,\n",
              "       0.83921569, 0.        , 0.        , 0.        , 0.62352941,\n",
              "       0.95294118, 0.07843137, 0.        , 0.        , 0.        ,\n",
              "       0.        , 0.        , 0.        , 0.        , 0.        ,\n",
              "       0.        , 0.        , 0.        , 0.03137255, 0.94901961,\n",
              "       0.56078431, 0.        , 0.        , 0.        , 0.56078431,\n",
              "       0.97254902, 0.08627451, 0.40392157, 1.        , 0.1372549 ,\n",
              "       0.        , 0.        , 0.14117647, 0.98431373, 0.50196078,\n",
              "       0.        , 0.        , 0.        , 0.        , 0.        ,\n",
              "       0.        , 0.        , 0.        , 0.        , 0.        ,\n",
              "       0.        , 0.31764706, 1.        , 0.23529412, 0.        ,\n",
              "       0.        , 0.03921569, 0.93333333, 0.61960784, 0.        ,\n",
              "       0.10980392, 0.99607843, 0.41960784, 0.        , 0.        ,\n",
              "       0.        , 0.65098039, 0.94117647, 0.0627451 , 0.        ,\n",
              "       0.        , 0.        , 0.        , 0.        , 0.        ,\n",
              "       0.        , 0.        , 0.        , 0.        , 0.70980392,\n",
              "       0.90196078, 0.00784314, 0.        , 0.        , 0.42352941,\n",
              "       1.        , 0.2       , 0.        , 0.        , 0.82352941,\n",
              "       0.70980392, 0.        , 0.        , 0.        , 0.17254902,\n",
              "       0.99215686, 0.5372549 , 0.        , 0.        , 0.        ,\n",
              "       0.        , 0.        , 0.        , 0.        , 0.        ,\n",
              "       0.        , 0.21176471, 1.        , 0.88627451, 0.74117647,\n",
              "       0.67843137, 0.82745098, 0.99215686, 0.74117647, 0.        ,\n",
              "       0.        , 0.        , 0.53333333, 0.96470588, 0.09411765,\n",
              "       0.06666667, 0.2       , 0.49803922, 0.94509804, 0.99215686,\n",
              "       0.11764706, 0.        , 0.        , 0.        , 0.        ,\n",
              "       0.        , 0.        , 0.        , 0.        , 0.03921569,\n",
              "       0.62352941, 0.66666667, 0.73333333, 0.81568627, 0.98431373,\n",
              "       0.6745098 , 0.03921569, 0.        , 0.        , 0.        ,\n",
              "       0.24313725, 1.        , 1.        , 1.        , 1.        ,\n",
              "       0.98039216, 0.74117647, 0.41960784, 0.01176471, 0.        ,\n",
              "       0.        , 0.        , 0.        , 0.        , 0.        ,\n",
              "       0.        , 0.        , 0.        , 0.        , 0.        ,\n",
              "       0.        , 0.        , 0.        , 0.        , 0.        ,\n",
              "       0.        , 0.        , 0.        , 0.        , 0.38039216,\n",
              "       0.46666667, 0.46666667, 0.33333333, 0.0627451 , 0.        ,\n",
              "       0.        , 0.        , 0.        , 0.        , 0.        ,\n",
              "       0.        , 0.        , 0.        , 0.        , 0.        ,\n",
              "       0.        , 0.        , 0.        , 0.        , 0.        ,\n",
              "       0.        , 0.        , 0.        , 0.        , 0.        ,\n",
              "       0.        , 0.        , 0.        , 0.        , 0.        ,\n",
              "       0.        , 0.        , 0.        , 0.        , 0.        ,\n",
              "       0.        , 0.        , 0.        , 0.        ])"
            ]
          },
          "metadata": {},
          "execution_count": 8
        }
      ]
    },
    {
      "cell_type": "code",
      "metadata": {
        "id": "vOufsWS3Lj1G"
      },
      "source": [
        "# a check on your data prep\n",
        "assert  X_scaled.max(), \"Max pixel value should be 1.0, make sure you normalize your data\""
      ],
      "execution_count": 9,
      "outputs": []
    },
    {
      "cell_type": "code",
      "metadata": {
        "deletable": false,
        "id": "zHWblzsMyNkU",
        "nbgrader": {
          "cell_type": "code",
          "checksum": "f0ba174cb72f491f73c3aa7df8ae7ac4",
          "grade": false,
          "grade_id": "cell-b7c96fc46d86725f",
          "locked": false,
          "schema_version": 3,
          "solution": true,
          "task": false
        }
      },
      "source": [
        "# instantiate a sequential object and call it model, then add the layers to your model\n",
        "\n",
        "# add a compile layer but don't fit your model yet\n",
        "\n",
        "### BEGIN SOLUTION\n",
        "epochs=20\n",
        "\n",
        "model = Sequential()\n",
        "\n",
        "model.add(\n",
        "    # Hidden Layer 11\n",
        "    Dense(\n",
        "        units=500,\n",
        "        activation=\"sigmoid\",\n",
        "        input_dim=input_dim\n",
        "    )\n",
        ")\n",
        "\n",
        "model.add(\n",
        "    # Hidden Layer 2\n",
        "    Dense(\n",
        "        units=250,\n",
        "        activation=\"sigmoid\"\n",
        "    )\n",
        ")\n",
        "\n",
        "model.add(\n",
        "    # Hidden Layer 3\n",
        "    Dense(\n",
        "        units=100,\n",
        "        activation=\"sigmoid\"\n",
        "    )\n",
        ")\n",
        "\n",
        "model.add(\n",
        "    # Output Layer\n",
        "    Dense(\n",
        "        units=n_output_nodes,\n",
        "        activation=\"softmax\"\n",
        "    )\n",
        ")\n",
        "\n",
        "model.compile(\n",
        "    optimizer=\"sgd\",\n",
        "    loss=\"sparse_categorical_crossentropy\",\n",
        "    metrics=[\"accuracy\"]\n",
        ")\n",
        "### END SOLUTION"
      ],
      "execution_count": 10,
      "outputs": []
    },
    {
      "cell_type": "code",
      "metadata": {
        "id": "ojLnGDklLj1H"
      },
      "source": [
        "# a check on your model architecture\n",
        "n_layers = len(model.get_config()[\"layers\"])\n",
        "assert n_layers == 5, \"You should have 5 layers: input, h1, h2, h3, and output\""
      ],
      "execution_count": 11,
      "outputs": []
    },
    {
      "cell_type": "code",
      "metadata": {
        "id": "wMK2_DtJLj1I",
        "colab": {
          "base_uri": "https://localhost:8080/"
        },
        "outputId": "d11230b8-897a-4ef1-99a8-0d42c86ee64c"
      },
      "source": [
        "# check out your model summary\n",
        "model.summary()"
      ],
      "execution_count": 12,
      "outputs": [
        {
          "output_type": "stream",
          "name": "stdout",
          "text": [
            "Model: \"sequential\"\n",
            "_________________________________________________________________\n",
            " Layer (type)                Output Shape              Param #   \n",
            "=================================================================\n",
            " dense (Dense)               (None, 500)               392500    \n",
            "                                                                 \n",
            " dense_1 (Dense)             (None, 250)               125250    \n",
            "                                                                 \n",
            " dense_2 (Dense)             (None, 100)               25100     \n",
            "                                                                 \n",
            " dense_3 (Dense)             (None, 10)                1010      \n",
            "                                                                 \n",
            "=================================================================\n",
            "Total params: 543860 (2.07 MB)\n",
            "Trainable params: 543860 (2.07 MB)\n",
            "Non-trainable params: 0 (0.00 Byte)\n",
            "_________________________________________________________________\n"
          ]
        }
      ]
    },
    {
      "cell_type": "code",
      "metadata": {
        "id": "DXTSbEiyLj1I",
        "colab": {
          "base_uri": "https://localhost:8080/"
        },
        "outputId": "f77aa399-4505-42a1-fb7c-bb276866e063"
      },
      "source": [
        "# fit your model and save training results to history\n",
        "history = model.fit(X_scaled, y,\n",
        "                    epochs=epochs,\n",
        "                    # a held-out validation set will be generated within the model\n",
        "                    validation_split=0.2\n",
        "                   )"
      ],
      "execution_count": 13,
      "outputs": [
        {
          "output_type": "stream",
          "name": "stdout",
          "text": [
            "Epoch 1/20\n",
            "2500/2500 [==============================] - 11s 4ms/step - loss: 2.2933 - accuracy: 0.1335 - val_loss: 2.2732 - val_accuracy: 0.1843\n",
            "Epoch 2/20\n",
            "2500/2500 [==============================] - 8s 3ms/step - loss: 2.2315 - accuracy: 0.2874 - val_loss: 2.1502 - val_accuracy: 0.3968\n",
            "Epoch 3/20\n",
            "2500/2500 [==============================] - 9s 4ms/step - loss: 1.9268 - accuracy: 0.4133 - val_loss: 1.6989 - val_accuracy: 0.5132\n",
            "Epoch 4/20\n",
            "2500/2500 [==============================] - 10s 4ms/step - loss: 1.5471 - accuracy: 0.5063 - val_loss: 1.4438 - val_accuracy: 0.5374\n",
            "Epoch 5/20\n",
            "2500/2500 [==============================] - 10s 4ms/step - loss: 1.3510 - accuracy: 0.5784 - val_loss: 1.2793 - val_accuracy: 0.6148\n",
            "Epoch 6/20\n",
            "2500/2500 [==============================] - 9s 3ms/step - loss: 1.1981 - accuracy: 0.6310 - val_loss: 1.1474 - val_accuracy: 0.6490\n",
            "Epoch 7/20\n",
            "2500/2500 [==============================] - 10s 4ms/step - loss: 1.0910 - accuracy: 0.6600 - val_loss: 1.0718 - val_accuracy: 0.6692\n",
            "Epoch 8/20\n",
            "2500/2500 [==============================] - 9s 4ms/step - loss: 1.0219 - accuracy: 0.6826 - val_loss: 1.0097 - val_accuracy: 0.6850\n",
            "Epoch 9/20\n",
            "2500/2500 [==============================] - 9s 3ms/step - loss: 0.9713 - accuracy: 0.7027 - val_loss: 0.9715 - val_accuracy: 0.7034\n",
            "Epoch 10/20\n",
            "2500/2500 [==============================] - 9s 4ms/step - loss: 0.9350 - accuracy: 0.7147 - val_loss: 0.9414 - val_accuracy: 0.7192\n",
            "Epoch 11/20\n",
            "2500/2500 [==============================] - 9s 4ms/step - loss: 0.9099 - accuracy: 0.7244 - val_loss: 0.9167 - val_accuracy: 0.7247\n",
            "Epoch 12/20\n",
            "2500/2500 [==============================] - 9s 4ms/step - loss: 0.8908 - accuracy: 0.7307 - val_loss: 0.8981 - val_accuracy: 0.7343\n",
            "Epoch 13/20\n",
            "2500/2500 [==============================] - 9s 3ms/step - loss: 0.8743 - accuracy: 0.7372 - val_loss: 0.8841 - val_accuracy: 0.7383\n",
            "Epoch 14/20\n",
            "2500/2500 [==============================] - 10s 4ms/step - loss: 0.8590 - accuracy: 0.7424 - val_loss: 0.8698 - val_accuracy: 0.7421\n",
            "Epoch 15/20\n",
            "2500/2500 [==============================] - 9s 4ms/step - loss: 0.8444 - accuracy: 0.7477 - val_loss: 0.8545 - val_accuracy: 0.7472\n",
            "Epoch 16/20\n",
            "2500/2500 [==============================] - 8s 3ms/step - loss: 0.8304 - accuracy: 0.7520 - val_loss: 0.8420 - val_accuracy: 0.7537\n",
            "Epoch 17/20\n",
            "2500/2500 [==============================] - 10s 4ms/step - loss: 0.8167 - accuracy: 0.7557 - val_loss: 0.8266 - val_accuracy: 0.7571\n",
            "Epoch 18/20\n",
            "2500/2500 [==============================] - 10s 4ms/step - loss: 0.8031 - accuracy: 0.7609 - val_loss: 0.8127 - val_accuracy: 0.7625\n",
            "Epoch 19/20\n",
            "2500/2500 [==============================] - 10s 4ms/step - loss: 0.7904 - accuracy: 0.7653 - val_loss: 0.7992 - val_accuracy: 0.7671\n",
            "Epoch 20/20\n",
            "2500/2500 [==============================] - 8s 3ms/step - loss: 0.7781 - accuracy: 0.7680 - val_loss: 0.7914 - val_accuracy: 0.7688\n"
          ]
        }
      ]
    },
    {
      "cell_type": "markdown",
      "metadata": {
        "id": "b0QJURWh-9uv"
      },
      "source": [
        "----\n",
        "### Visualize the Results\n",
        "\n",
        "- Move results in `history` to a dataframe.\n",
        "- Use [**Seaborn**](https://seaborn.pydata.org/generated/seaborn.lineplot.html) to create line plots for both loss and accuracy by epoch.\n",
        "- Analyze the results and write a couple of observations.\n",
        "\n",
        "At what point should we have stopped training the model and why?"
      ]
    },
    {
      "cell_type": "code",
      "metadata": {
        "deletable": false,
        "id": "ijAlzfYKAFaY",
        "nbgrader": {
          "cell_type": "code",
          "checksum": "6ef8cde40701c2ef57cf853b19455125",
          "grade": false,
          "grade_id": "cell-16e647cfc3291a01",
          "locked": false,
          "schema_version": 3,
          "solution": true,
          "task": false
        }
      },
      "source": [
        "# Move results in histoy in a dataframe and call that dataframe 'df'\n",
        "\n",
        "###BEGIN SOLUTION\n",
        "df = pd.DataFrame.from_records(history.history)\n",
        "n_rows = df.shape[0]\n",
        "# Shift the index up by one for plotting epochs\n",
        "df.index = [i for i in range(1, n_rows+1)]\n",
        "###END SOLUTION"
      ],
      "execution_count": 14,
      "outputs": []
    },
    {
      "cell_type": "code",
      "metadata": {
        "id": "jFTzaMcALj1J"
      },
      "source": [
        "# a check on our model training\n",
        "assert df.shape[0] == 20, \"df should have the training results from 20 epochs\""
      ],
      "execution_count": 15,
      "outputs": []
    },
    {
      "cell_type": "code",
      "source": [
        "history.history"
      ],
      "metadata": {
        "colab": {
          "base_uri": "https://localhost:8080/"
        },
        "id": "shkP0bgjCK9U",
        "outputId": "46bab80e-7bce-418a-af09-a45ef46520ce"
      },
      "execution_count": 16,
      "outputs": [
        {
          "output_type": "execute_result",
          "data": {
            "text/plain": [
              "{'loss': [2.2932815551757812,\n",
              "  2.2314767837524414,\n",
              "  1.926751732826233,\n",
              "  1.547114372253418,\n",
              "  1.351024866104126,\n",
              "  1.198116660118103,\n",
              "  1.0910327434539795,\n",
              "  1.0219014883041382,\n",
              "  0.9713344573974609,\n",
              "  0.9349972605705261,\n",
              "  0.90993332862854,\n",
              "  0.8907809853553772,\n",
              "  0.8742663860321045,\n",
              "  0.8589708209037781,\n",
              "  0.844372570514679,\n",
              "  0.8304299712181091,\n",
              "  0.8167257308959961,\n",
              "  0.8031173944473267,\n",
              "  0.7904044389724731,\n",
              "  0.778056263923645],\n",
              " 'accuracy': [0.13353750109672546,\n",
              "  0.28737500309944153,\n",
              "  0.41327500343322754,\n",
              "  0.5063375234603882,\n",
              "  0.5784249901771545,\n",
              "  0.6310374736785889,\n",
              "  0.6599500179290771,\n",
              "  0.6825875043869019,\n",
              "  0.7026500105857849,\n",
              "  0.7147125005722046,\n",
              "  0.7244125008583069,\n",
              "  0.730650007724762,\n",
              "  0.7371749877929688,\n",
              "  0.7423999905586243,\n",
              "  0.7477375268936157,\n",
              "  0.752037525177002,\n",
              "  0.7556874752044678,\n",
              "  0.7609249949455261,\n",
              "  0.7653499841690063,\n",
              "  0.7679625153541565],\n",
              " 'val_loss': [2.2732059955596924,\n",
              "  2.1501877307891846,\n",
              "  1.6988813877105713,\n",
              "  1.4438364505767822,\n",
              "  1.2793359756469727,\n",
              "  1.1474422216415405,\n",
              "  1.071763515472412,\n",
              "  1.0097206830978394,\n",
              "  0.9715346693992615,\n",
              "  0.9413800835609436,\n",
              "  0.9166845679283142,\n",
              "  0.8981050848960876,\n",
              "  0.8841055631637573,\n",
              "  0.8697842955589294,\n",
              "  0.8544793128967285,\n",
              "  0.8419992327690125,\n",
              "  0.8266223669052124,\n",
              "  0.8127346038818359,\n",
              "  0.7992463111877441,\n",
              "  0.7914018034934998],\n",
              " 'val_accuracy': [0.1843000054359436,\n",
              "  0.39684998989105225,\n",
              "  0.5132499933242798,\n",
              "  0.5374000072479248,\n",
              "  0.6147500276565552,\n",
              "  0.6489999890327454,\n",
              "  0.6692000031471252,\n",
              "  0.6850000023841858,\n",
              "  0.7034000158309937,\n",
              "  0.7192000150680542,\n",
              "  0.7247499823570251,\n",
              "  0.7343000173568726,\n",
              "  0.7383000254631042,\n",
              "  0.7421000003814697,\n",
              "  0.7472000122070312,\n",
              "  0.7537000179290771,\n",
              "  0.757099986076355,\n",
              "  0.762499988079071,\n",
              "  0.7670999765396118,\n",
              "  0.768750011920929]}"
            ]
          },
          "metadata": {},
          "execution_count": 16
        }
      ]
    },
    {
      "cell_type": "code",
      "metadata": {
        "deletable": false,
        "nbgrader": {
          "cell_type": "code",
          "checksum": "424d241660318a72ecda935be10485d7",
          "grade": false,
          "grade_id": "cell-96dba18873c4cffc",
          "locked": false,
          "schema_version": 3,
          "solution": true,
          "task": false
        },
        "id": "i6NnocuJLj1J",
        "colab": {
          "base_uri": "https://localhost:8080/",
          "height": 376
        },
        "outputId": "6efd1f7d-2657-44f4-b962-cf8e63bf6d23"
      },
      "source": [
        "# use seaborn to plot loss and accuracy metrics\n",
        "\n",
        "### BEGIN SOLUTION\n",
        "plot_cols = [\"loss\", \"val_loss\"]\n",
        "df[plot_cols].plot(figsize=(20,6), grid=True);\n",
        "plt.title(\"Model Loss vs Epoch\");\n",
        "plt.xlabel(\"Epochs\");\n",
        "plt.ylabel(\"Validation Loss\");\n",
        "plt.xticks(df.index);\n",
        "#plt.show()\n",
        "### END SOLUTION\n"
      ],
      "execution_count": 17,
      "outputs": [
        {
          "output_type": "display_data",
          "data": {
            "text/plain": [
              "<Figure size 2000x600 with 1 Axes>"
            ],
            "image/png": "[encoded data removed]"
          },
          "metadata": {}
        }
      ]
    },
    {
      "cell_type": "markdown",
      "metadata": {
        "id": "GmjyuTlrLj1K"
      },
      "source": [
        "### Observations\n",
        "\n",
        "Based on the plot of the training and validation loss, answer the following questions."
      ]
    },
    {
      "cell_type": "markdown",
      "metadata": {
        "id": "NF_mrNmPLj1K"
      },
      "source": [
        "**Was our model able to learn throughout the 20 epochs? Why or why not?**"
      ]
    },
    {
      "cell_type": "markdown",
      "metadata": {
        "deletable": false,
        "nbgrader": {
          "cell_type": "markdown",
          "checksum": "b7713eb32ad3a910a58dfdb9494a9db3",
          "grade": true,
          "grade_id": "cell-820990a8232a858a",
          "locked": false,
          "points": 0,
          "schema_version": 3,
          "solution": true,
          "task": false
        },
        "id": "yL42yLWELj1K"
      },
      "source": [
        "YOUR ANSWER HERE"
      ]
    },
    {
      "cell_type": "markdown",
      "metadata": {
        "id": "_xKObFanLj1K"
      },
      "source": [
        "**Is our model overfitting? Why or why not?**"
      ]
    },
    {
      "cell_type": "markdown",
      "metadata": {
        "deletable": false,
        "nbgrader": {
          "cell_type": "markdown",
          "checksum": "1d30c64465cd35081d70578c20ecf96d",
          "grade": true,
          "grade_id": "cell-33868e7ef6e401b5",
          "locked": false,
          "points": 0,
          "schema_version": 3,
          "solution": true,
          "task": false
        },
        "id": "rx7xa4Z1Lj1L"
      },
      "source": [
        "YOUR ANSWER HERE"
      ]
    },
    {
      "cell_type": "markdown",
      "metadata": {
        "id": "FIvb1mftLj1L"
      },
      "source": [
        "**Could the model score benefit from additional epochs? Why or why not?**"
      ]
    },
    {
      "cell_type": "markdown",
      "metadata": {
        "deletable": false,
        "nbgrader": {
          "cell_type": "markdown",
          "checksum": "0fc2208e2c78461578fc7a05224066b8",
          "grade": true,
          "grade_id": "cell-5c883f0a3161e469",
          "locked": false,
          "points": 0,
          "schema_version": 3,
          "solution": true,
          "task": false
        },
        "id": "Ww1hBmfMLj1L"
      },
      "source": [
        "YOUR ANSWER HERE"
      ]
    },
    {
      "cell_type": "markdown",
      "metadata": {
        "id": "MAhBrcE4yOZe"
      },
      "source": [
        "-----\n",
        "## Change Optimizers\n",
        "\n",
        "Let's compare model performance between different optimizers.\n",
        "- Build a new model, identical to the last one but using `adam` for the optimizer.\n",
        "- Train (fit) the model\n",
        "- Save the modeling results to adam_history, so we don't erase the results from the previous model run\n",
        "- Visualize the training results just as we did for the last model.\n"
      ]
    },
    {
      "cell_type": "code",
      "metadata": {
        "deletable": false,
        "id": "jIW_spOZ0cxy",
        "nbgrader": {
          "cell_type": "code",
          "checksum": "6d30d8c6f4521861a77c9ef04dbde904",
          "grade": false,
          "grade_id": "cell-56663c8a5e75b71f",
          "locked": false,
          "schema_version": 3,
          "solution": true,
          "task": false
        },
        "colab": {
          "base_uri": "https://localhost:8080/"
        },
        "outputId": "066ee23b-577e-4475-db56-b0af45d60313"
      },
      "source": [
        "# train the same model as above but use the sgd optimizer if you used adam previously (or use adam if you used sgd previously)\n",
        "\n",
        "### BEGIN SOLUTION\n",
        "epochs=20\n",
        "\n",
        "model = Sequential()\n",
        "\n",
        "model.add(\n",
        "    # Hidden Layer 11\n",
        "    Dense(\n",
        "        units=500,\n",
        "        activation=\"sigmoid\",\n",
        "        input_dim=input_dim\n",
        "    )\n",
        ")\n",
        "\n",
        "model.add(\n",
        "    # Hidden Layer 2\n",
        "    Dense(\n",
        "        units=250,\n",
        "        activation=\"sigmoid\"\n",
        "    )\n",
        ")\n",
        "\n",
        "model.add(\n",
        "    # Hidden Layer 3\n",
        "    Dense(\n",
        "        units=100,\n",
        "        activation=\"sigmoid\"\n",
        "    )\n",
        ")\n",
        "\n",
        "model.add(\n",
        "    # Output Layer\n",
        "    Dense(\n",
        "        units=n_output_nodes,\n",
        "        activation=\"softmax\"\n",
        "    )\n",
        ")\n",
        "\n",
        "model.compile(\n",
        "    optimizer=\"adam\",\n",
        "    loss=\"sparse_categorical_crossentropy\",\n",
        "    metrics=[\"accuracy\"]\n",
        ")\n",
        "\n",
        "adam_history = model.fit(X_scaled, y,\n",
        "                    epochs=epochs,\n",
        "                    # test will be generated within the model\n",
        "                    validation_split=0.2\n",
        "                   )\n",
        "### END SOLUTION"
      ],
      "execution_count": 18,
      "outputs": [
        {
          "output_type": "stream",
          "name": "stdout",
          "text": [
            "Epoch 1/20\n",
            "2500/2500 [==============================] - 12s 4ms/step - loss: 0.7511 - accuracy: 0.7678 - val_loss: 0.5595 - val_accuracy: 0.8318\n",
            "Epoch 2/20\n",
            "2500/2500 [==============================] - 9s 4ms/step - loss: 0.4967 - accuracy: 0.8481 - val_loss: 0.4857 - val_accuracy: 0.8514\n",
            "Epoch 3/20\n",
            "2500/2500 [==============================] - 9s 4ms/step - loss: 0.4133 - accuracy: 0.8745 - val_loss: 0.4417 - val_accuracy: 0.8668\n",
            "Epoch 4/20\n",
            "2500/2500 [==============================] - 10s 4ms/step - loss: 0.3560 - accuracy: 0.8919 - val_loss: 0.4514 - val_accuracy: 0.8647\n",
            "Epoch 5/20\n",
            "2500/2500 [==============================] - 10s 4ms/step - loss: 0.3105 - accuracy: 0.9053 - val_loss: 0.4068 - val_accuracy: 0.8814\n",
            "Epoch 6/20\n",
            "2500/2500 [==============================] - 9s 3ms/step - loss: 0.2702 - accuracy: 0.9174 - val_loss: 0.4089 - val_accuracy: 0.8825\n",
            "Epoch 7/20\n",
            "2500/2500 [==============================] - 10s 4ms/step - loss: 0.2350 - accuracy: 0.9288 - val_loss: 0.4184 - val_accuracy: 0.8817\n",
            "Epoch 8/20\n",
            "2500/2500 [==============================] - 10s 4ms/step - loss: 0.2031 - accuracy: 0.9391 - val_loss: 0.4565 - val_accuracy: 0.8780\n",
            "Epoch 9/20\n",
            "2500/2500 [==============================] - 11s 4ms/step - loss: 0.1784 - accuracy: 0.9454 - val_loss: 0.4802 - val_accuracy: 0.8767\n",
            "Epoch 10/20\n",
            "2500/2500 [==============================] - 10s 4ms/step - loss: 0.1541 - accuracy: 0.9525 - val_loss: 0.4864 - val_accuracy: 0.8798\n",
            "Epoch 11/20\n",
            "2500/2500 [==============================] - 10s 4ms/step - loss: 0.1328 - accuracy: 0.9598 - val_loss: 0.5285 - val_accuracy: 0.8765\n",
            "Epoch 12/20\n",
            "2500/2500 [==============================] - 10s 4ms/step - loss: 0.1158 - accuracy: 0.9645 - val_loss: 0.5567 - val_accuracy: 0.8749\n",
            "Epoch 13/20\n",
            "2500/2500 [==============================] - 10s 4ms/step - loss: 0.1027 - accuracy: 0.9685 - val_loss: 0.5488 - val_accuracy: 0.8786\n",
            "Epoch 14/20\n",
            "2500/2500 [==============================] - 8s 3ms/step - loss: 0.0901 - accuracy: 0.9723 - val_loss: 0.5886 - val_accuracy: 0.8758\n",
            "Epoch 15/20\n",
            "2500/2500 [==============================] - 9s 4ms/step - loss: 0.0806 - accuracy: 0.9752 - val_loss: 0.6554 - val_accuracy: 0.8683\n",
            "Epoch 16/20\n",
            "2500/2500 [==============================] - 10s 4ms/step - loss: 0.0714 - accuracy: 0.9780 - val_loss: 0.6463 - val_accuracy: 0.8759\n",
            "Epoch 17/20\n",
            "2500/2500 [==============================] - 10s 4ms/step - loss: 0.0645 - accuracy: 0.9798 - val_loss: 0.6444 - val_accuracy: 0.8765\n",
            "Epoch 18/20\n",
            "2500/2500 [==============================] - 9s 3ms/step - loss: 0.0588 - accuracy: 0.9815 - val_loss: 0.6644 - val_accuracy: 0.8763\n",
            "Epoch 19/20\n",
            "2500/2500 [==============================] - 10s 4ms/step - loss: 0.0546 - accuracy: 0.9827 - val_loss: 0.7104 - val_accuracy: 0.8753\n",
            "Epoch 20/20\n",
            "2500/2500 [==============================] - 10s 4ms/step - loss: 0.0475 - accuracy: 0.9848 - val_loss: 0.7676 - val_accuracy: 0.8744\n"
          ]
        }
      ]
    },
    {
      "cell_type": "code",
      "metadata": {
        "id": "u9DQypQOLj1L"
      },
      "source": [
        "# a check that we're using the correct optimizer in this model\n",
        "opt_name = model.optimizer.get_config()[\"name\"]\n",
        "assert opt_name == \"Adam\", \"you need to use adam for the optimizer in this model.\""
      ],
      "execution_count": 19,
      "outputs": []
    },
    {
      "cell_type": "code",
      "metadata": {
        "deletable": false,
        "nbgrader": {
          "cell_type": "code",
          "checksum": "1a4c01aa7dbcc832d75b05bffaeaacc8",
          "grade": false,
          "grade_id": "cell-20118d1646215346",
          "locked": false,
          "schema_version": 3,
          "solution": true,
          "task": false
        },
        "id": "wBVj55zVLj1L",
        "colab": {
          "base_uri": "https://localhost:8080/",
          "height": 368
        },
        "outputId": "4e1560aa-4ea7-4a59-da32-8339739f60d6"
      },
      "source": [
        "### BEGIN SOLUTION\n",
        "# move results to df\n",
        "df_adam = pd.DataFrame.from_records(adam_history.history)\n",
        "n_rows = df_adam.shape[0]\n",
        "# Shift the index up by one for plotting epochs\n",
        "df_adam.index = [i for i in range(1, n_rows+1)]\n",
        "\n",
        "# plot results\n",
        "plot_cols = [\"loss\", \"val_loss\"]\n",
        "df_adam[plot_cols].plot(figsize=(20,6), grid=True);\n",
        "plt.title(\"Model Loss vs Epoch\");\n",
        "#plt.xlabel(\"Epochs\");\n",
        "#plt.ylabel(\"Validation Loss\");\n",
        "plt.xticks(df_adam.index);\n",
        "###END SOLUTION"
      ],
      "execution_count": 20,
      "outputs": [
        {
          "output_type": "display_data",
          "data": {
            "text/plain": [
              "<Figure size 2000x600 with 1 Axes>"
            ],
            "image/png": "[encoded data removed]"
          },
          "metadata": {}
        }
      ]
    },
    {
      "cell_type": "markdown",
      "metadata": {
        "id": "XECc5OtzLj1M"
      },
      "source": [
        "### Observations\n",
        "\n",
        "This plot should look very different from the previous plot. Based on the plot of the training and validation loss, answer the following questions."
      ]
    },
    {
      "cell_type": "markdown",
      "metadata": {
        "id": "tK8B5CszLj1M"
      },
      "source": [
        "**Is our model overfitting? Why or why not?**"
      ]
    },
    {
      "cell_type": "markdown",
      "metadata": {
        "deletable": false,
        "nbgrader": {
          "cell_type": "markdown",
          "checksum": "fa4141497af675d227aa510feb8db732",
          "grade": true,
          "grade_id": "cell-7e524ccac970c33e",
          "locked": false,
          "points": 0,
          "schema_version": 3,
          "solution": true,
          "task": false
        },
        "id": "Fn6C8NWTLj1M"
      },
      "source": [
        "YOUR ANSWER HERE"
      ]
    },
    {
      "cell_type": "markdown",
      "metadata": {
        "id": "ygXQYH8ILj1M"
      },
      "source": [
        "**Could our model's performance improve by training on more than 20 epochs? Why or why not?**"
      ]
    },
    {
      "cell_type": "markdown",
      "metadata": {
        "deletable": false,
        "nbgrader": {
          "cell_type": "markdown",
          "checksum": "ae03b8b897eb5d052590574ab3bba839",
          "grade": true,
          "grade_id": "cell-456c40e885652955",
          "locked": false,
          "points": 0,
          "schema_version": 3,
          "solution": true,
          "task": false
        },
        "id": "Sa5SRkB1Lj1M"
      },
      "source": [
        "YOUR ANSWER HERE"
      ]
    },
    {
      "cell_type": "markdown",
      "metadata": {
        "id": "bNxtLggeLj1M"
      },
      "source": [
        "**Assuming that you want to stick to this model architecture, what can you do to avoid overfitting?**"
      ]
    },
    {
      "cell_type": "markdown",
      "metadata": {
        "deletable": false,
        "nbgrader": {
          "cell_type": "markdown",
          "checksum": "9f5a9393314231d3ce253363c1df1223",
          "grade": true,
          "grade_id": "cell-74d7def19c66702b",
          "locked": false,
          "points": 0,
          "schema_version": 3,
          "solution": true,
          "task": false
        },
        "id": "tfztMm3rLj1M"
      },
      "source": [
        "YOUR ANSWER HERE"
      ]
    },
    {
      "cell_type": "markdown",
      "metadata": {
        "id": "ViaTP68cLj1M"
      },
      "source": [
        "------\n",
        "# Conclusion\n",
        "\n",
        "You have observed by comparing the two models that are identical except for the optimizer, that the choice of the optimizer can considerably influence the performance of a neural network.\n",
        "\n",
        "You might not know\n",
        "\n",
        "- why changing the optimizer from Stochastic Gradient Descent over to Adam made a difference.\n",
        "- how Gradient Descent works\n",
        "- or that Adam is known as Adaptive Gradient Descent (i.e., is it a different version of ordinary Gradient Descent).\n",
        "\n",
        "But that's ok - tomorrow's lesson will be a deep dive into Gradient Descent. You'll learn the theory of Gradient Descent, we'll code up Gradient Descent from scratch, and we'll talk about how Adam is different from ordinary Gradient Descent."
      ]
    },
    {
      "cell_type": "markdown",
      "metadata": {
        "id": "8v_TuVH5Lj1N"
      },
      "source": [
        "-----\n",
        "# Preparation for Tomorrow\n",
        "\n",
        "In preparation for tomorrow, you might need to watch a few videos. I say it might because you may or may not already be comfortable with multi-variate calculus.\n",
        "\n",
        "### Theory of Calculus\n",
        "The theory of Gradient Descent rests on [**the derivative from Calculus**](https://www.youtube.com/watch?v=WUvTyaaNkzM). If you've never taken a Calculus course before, or are a bit rusty, definitely watch this video in preparation for tomorrow's lesson. The takeaway here is to understand the derivative conceptually; you won't be asked to calculate any derivatives by hand.\n",
        "\n",
        "### The Gradient - a Multi-Dimensional Derivative\n",
        "Once you've watched the previous video, you will be ready to understand how to conceptualize a derivative in an N-dimensional space (where N is any number ranging from 2, 3, 4, ..., all the way to a very large number of dimensions N ). [**This video visually explains the multi-dimensional derivative called the Gradient visually**](https://www.youtube.com/watch?v=GkB4vW16QHI) - and that's the takeaway. The point of this video is to help you understand the Gradient visually using 3D surfaces. You should also know that the Gradient is made up of partial derivatives, more on this tomorrow.\n",
        "\n",
        "### Contour Maps\n",
        "It is very common to visual 3D surfaces as 2D contour maps - and we'll be making a lot of use of contour maps to understand Gradient Descent. Watch this video to [**understand the relationship between 3D surfaces and 2D contour maps.**](https://www.youtube.com/watch?v=acdX4YamDtU)\n",
        "\n",
        "### The Calculus of Backpropagation\n",
        "\n",
        "Unlike standard Sklearn ML models, neural networks use Gradient Descent and something called Backpropagatin to learn from the data. [**In order to understand how backpropagation works, you need to understand the Chain Rule in Calculus**](https://www.youtube.com/watch?v=acdX4YamDtU). The takeaway here is to understand how a partial derivative can be decomposed into a product of multiple derivatives."
      ]
    },
    {
      "cell_type": "markdown",
      "metadata": {
        "id": "XCjBp0vTLj1N"
      },
      "source": [
        "------\n",
        "# Stretch Goals\n",
        "\n",
        "### This Section is Optional!\n",
        "\n",
        "Only after you've completed the above work and watched the recommended videos are you then encouraged to experiment with building a few more models and analyze their results.\n",
        "\n",
        "Here are some suggestions to help you get started.\n",
        "\n",
        "- Train the same model using the Sigmoid and Relu activation functions and note the difference in their learning outcomes. [**Keras docs on activation functions**](https://keras.io/api/layers/activations/). We'll cover the Relu activation function in Sprint 2 Module 3.\n",
        "- Train the same model using normalized and non-normalized data and note the difference in their learning outcomes.\n",
        "\n",
        "\n",
        "The objective here is to get more practice with the Keras API (i.e., building models) and run a couple of experiments to help set you up for future lessons. In order words, we'll be discussing different activation functions and the effect of normalized data on model training."
      ]
    },
    {
      "cell_type": "code",
      "metadata": {
        "id": "5F1VQLmALj1N"
      },
      "source": [],
      "execution_count": null,
      "outputs": []
    }
  ]
}