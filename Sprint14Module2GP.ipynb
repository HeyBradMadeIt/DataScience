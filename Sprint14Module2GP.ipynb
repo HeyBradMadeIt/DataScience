{
  "cells": [
    {
      "cell_type": "markdown",
      "metadata": {
        "id": "aS4GZ37Wgcjr"
      },
      "source": [
        "*Unit 4, Sprint 2, Module 2*\n",
        "\n",
        "---"
      ]
    },
    {
      "cell_type": "markdown",
      "metadata": {
        "id": "etFf1WLWgcjt",
        "toc-hr-collapsed": false
      },
      "source": [
        "# Train (Prepare)\n",
        "__*Neural Network Foundations*__"
      ]
    },
    {
      "cell_type": "markdown",
      "metadata": {
        "id": "hXB80QOhgcju"
      },
      "source": [
        "## Learning Objectives\n",
        "* <a href=\"#p1\">Part 1</a>: Student should be able to explain the intuition behind backpropagation and gradient descent\n",
        "* <a href=\"#p2\">Part 2</a>: Student should be able to discuss the importance of the batch size hyperparameter\n",
        "* <a href=\"#p3\">Part 3</a>: Student should be able to discuss the importance of the learning rate hyperparameter"
      ]
    },
    {
      "cell_type": "markdown",
      "metadata": {
        "id": "8YuQu2lfgcju"
      },
      "source": [
        "## Summary of Module 1\n",
        "\n",
        "In Module 1, we learned about Neural Networks and related concepts: Neurons, Weights, Activation Functions, and Layers (input, output, & hidden). Today, we will reinforce our understanding, and learn how a neural network is trained. **Feed-forward neural networks**, such as multi-layer perceptrons (MLPs), are almost always trained using some variation of **gradient descent** where gradients has been calculated by **back-propagation**.\n",
        "\n",
        "  <center><img src=\"https://raw.githubusercontent.com/LambdaSchool/DS-Unit-4-Sprint-2-Neural-Networks/main/module1-Architect/IMG_0167.jpeg\" width=400></center>\n",
        "\n",
        "- There are three kinds of layers: **input**, **hidden**, and **output**\n",
        "- Hidden and output layers are made up of individual neurons (aka activation units) which have a corresponding weight and bias.\n",
        "- Information is passed from layer to layer through a network by:\n",
        " - Taking in inputs from the training data (or previous layer)\n",
        " - Multiplying each input by its corresponding weight (represented by arrows) and adding these products to form a weighted sum\n",
        " - Adding a bias (also represented by arrows)\n",
        " - Passing this weighted sum plus the bias term into an activation function such as sigmoid or relu or some other activation function <br>\n",
        " As an example: for a `perceptron` with three inputs and a sigmoid activation function, the output is calculated as follows: <br><br>\n",
        "\\begin{align}\n",
        " y = \\text{sigmoid} \\left(weight_{1}\\times input_{1} + weight_{2} \\times input_{2} + weight_{3} \\times input_{3} + bias\\right)\n",
        "\\end{align} <br><br>\n",
        " - This \"activated\" neuron output $y$ is the signal that gets passed into the next layer of the network\n",
        " - the \"activated\" neuron output of the output layer is the prediction\n"
      ]
    },
    {
      "cell_type": "markdown",
      "metadata": {
        "id": "bpi4R03rgcjv"
      },
      "source": [
        "## Training a Neural Network for Classification: *Formal Summary*\n",
        "\n",
        "1. Choose a network architecture\n",
        "   - Number of input units = Number of features\n",
        "   - Number of output units = Number of Classes (or categories of expected targets)\n",
        "   - Select the number of hidden layers and the number of neurons within each hidden layer\n",
        "   - set the activation functions for each neuron\n",
        "2. Randomly initialize all the weights and biases\n",
        "3. Forward propagate the weights and biases through the network to compute the output predictions $\\hat y$\n",
        "4. Given the output predictions  $\\hat y$ and the true targets  $y$, compute the loss (cost) function $J(\\theta)$, where $\\theta$ is the set of values of all the weights and biases in the network.\n",
        "5. Perform **back-propagation**, which means computing partial derivatives (gradients) of the cost function with respect to the each of the weights and biases $\\frac{\\partial}{\\partial\\theta}{J(\\theta)}$\n",
        "6. Using the method of **gradient descent** (or other advanced optimizer), adjust the weights and biases so as to decrease the cost function $J(\\theta)$.\n",
        "7. Repeat steps 3 - 6 until the cost function is 'minimized' or some other stopping criteria is met. One pass over steps 3 - 6 is called an iteration.\n",
        "\n",
        "### Highly recommended: Check out this [Neural Networks mini-course from 3Blue1Brown](https://www.3blue1brown.com/topics/neural-networks)<br>\n",
        "\n",
        "\n"
      ]
    },
    {
      "cell_type": "markdown",
      "metadata": {
        "id": "aM4CK1IarId4",
        "toc-hr-collapsed": false
      },
      "source": [
        "------\n",
        "# 1. Backpropagation & Gradient Descent (Learn)\n",
        "<a id=\"p1\"></a>"
      ]
    },
    {
      "cell_type": "markdown",
      "metadata": {
        "id": "Ktm8Fmoagcjy",
        "toc-hr-collapsed": true
      },
      "source": [
        "## Overview\n",
        "\n",
        "Backpropagation is short for [\"Backwards Propagation of errors\"](https://en.wikipedia.org/wiki/Backpropagation) and refers to a specific algorithm using calculus to update the weights and biases in a neural network in reverse order, at the end of each training epoch. Our purpose today is to demonstrate the backpropagation algorithm on a simple Feedforward Neural Network and in so doing help you get a grasp on the main process. If you want to understand all of the underlying calculus of how the gradients are calculated then you'll need to dive into it yourself, watch [Backpropagation calculus ](https://www.youtube.com/watch?v=tIeHLnjs5U8) from 3Blue1Brown. Also highly recommended is this Welch Labs series [Neural Networks Demystified](https://www.youtube.com/watch?v=bxe2T-V8XRs) if you want a rapid yet orderly walk through of the main intuition and math behind the backpropagation algorithm."
      ]
    },
    {
      "cell_type": "markdown",
      "metadata": {
        "id": "NXI2tEO9gcjy"
      },
      "source": [
        "## 1.1 What is a Gradient?\n",
        "\n",
        "> In vector calculus, the gradient is a multi-variable generalization of the derivative.\n",
        "\n",
        "The gradients that we will deal with today will be vector representations of the derivative of the activation function."
      ]
    },
    {
      "cell_type": "markdown",
      "metadata": {
        "id": "n7SvE-6H9G4y"
      },
      "source": [
        "### 1.1.1 Review: Slope of a line\n",
        "\n",
        "![](https://www.mathwarehouse.com/algebra/linear_equation/images/slope-of-a-line/slope-formula-all_no_highlight.png)"
      ]
    },
    {
      "cell_type": "markdown",
      "metadata": {
        "id": "AGYuD9yI9G4z"
      },
      "source": [
        "### 1.1.2 Review: A basic derivative\n",
        "The derivative of a one-dimensional function at any point is defined as the slope of the line tangent to the function at that point.\n",
        "\n",
        "![](https://ginsyblog.files.wordpress.com/2017/02/derivativelimitdef.gif)"
      ]
    },
    {
      "cell_type": "markdown",
      "metadata": {
        "id": "gFs3TG5O9G4z"
      },
      "source": [
        "### 1.1.3 Gradients are multi-dimensional derivatives\n",
        "\n",
        "Each partial derivative can be considered as the component of a vector that lies on the axis of the associated parameter.  <br>\n",
        "Formally, the gradient is the vector sum of these partial derivative vectors.\n",
        "\n",
        "*The gradient of a function at a given point contains information about the magnitude <br>\n",
        "and direction of the sensitivity of the function to change in every parameter.*"
      ]
    },
    {
      "cell_type": "markdown",
      "metadata": {
        "id": "fVN-8elU9G40"
      },
      "source": [
        "##1.2. Gradient Descent Formula for updating neural network parameters\n",
        "\n",
        "Given the values of the current parameters (weights and biases), this formula prescribes how to update them in order to drive down the cost function, given their current values:\n",
        "\n",
        "$$ \\huge{\\theta_j = \\theta_j - \\alpha \\frac{\\partial J(\\theta)}{\\partial \\theta_j}}$$\n",
        "\n",
        "\n",
        "In this formula,\n",
        "- $\\Large{\\theta_j}$ refers to the vector of weights and biases for the $jth$ data point<br><br>\n",
        "- $\\Large{\\theta}$ refers to the combined set of weights and biases of all the data points<br><br>\n",
        "- $\\Large{J(\\theta)}$ represents the cost function, which is a measure of the error between the predicted target values and the true target values<br><br>\n",
        "- $\\Large{\\alpha}$ is the *learning rate*, a positive scalar hyper-parameter<br><br>\n",
        "- $\\Large{\\frac{\\partial J(\\theta)}{\\partial \\theta_j}}$ are the partial derivatives of the cost function, which measure its sensitivity to changes in the parameters $\\Large{\\theta_j}$<br><br>\n",
        "\n",
        "\n",
        "More sophisticated versions of gradient descent are discussed in the excellent article [**An overview of gradient descent optimization algorithms**](https://ruder.io/optimizing-gradient-descent/) by Sebastian Ruder.\n",
        "\n",
        "\n",
        "These versions all build on the Gradient Descent Formula presented above, so it's best to understand this before moving on to more sophisticated versions. <br>\n"
      ]
    },
    {
      "cell_type": "markdown",
      "metadata": {
        "id": "yQc8iy_u9G40"
      },
      "source": [
        "### 1.2.1 Geometry of Gradient Descent\n",
        "in one dimension\n",
        "\n",
        "![](https://i.stack.imgur.com/yk1mk.png)"
      ]
    },
    {
      "cell_type": "markdown",
      "metadata": {
        "id": "QlPoxfuS9G41"
      },
      "source": [
        "### 1.2.2 Convex vs. Non-Convex Loss Functions\n",
        "\n",
        "Loss curves won't always have a single minimum point for gradient descent to converge towards. Sometimes there are multiple minimums.\n",
        "\n",
        "**Global Minimum:** The absolute minimum location of a curve (or surface).\n",
        "\n",
        "**Local Minimum:** The local minimum location of a curve (or surface).\n",
        "\n",
        "\n",
        "### In 3-Dimensions\n",
        "In Calculus, those ambiguous points that take on the form of both local minima and local maxima are known as [**saddle points**](https://en.wikipedia.org/wiki/Saddle_point). It's not necessary to dive into the mathematics, the key take away is that non-convex error curves (and surfaces) have this global/local minimum issue.\n",
        "\n",
        "![](https://www.oreilly.com/radar/wp-content/uploads/sites/3/2019/06/convex-non-convex-9c8cb9320d4b0392c5f67004e8832e85.jpg)\n",
        "\n",
        "\n",
        "**Take Away:** Sometimes the gradient descent algorithm converges but is actually trapped in a local minimum.\n",
        "\n",
        "There are at least 2 possible solutions to this problem:\n",
        "\n",
        "1) Try different approaches to randomly initalizing the model weights\n",
        "For this check out [Keras's docs on Weight Initializers](https://keras.io/api/layers/initializers/). Treat these weight initializers as just another hyper-parameter to include in your gridsearch. It's a good idea to get into the practice of including weight initializers in your gridsearches!\n",
        "\n",
        "\n",
        "2) Try non-gradient descent optimizers such as [Particle Swarm](https://en.wikipedia.org/wiki/Particle_swarm_optimization) or [Genetic Algorithms](https://en.wikipedia.org/wiki/Genetic_algorithm). Feel free to read up on these approaches but know that **you are not expected to know these approaches** and they are outside the scope of this course."
      ]
    },
    {
      "cell_type": "markdown",
      "metadata": {
        "id": "UZY66kiUgcjz",
        "toc-hr-collapsed": true
      },
      "source": [
        "------\n",
        "## 1.3 Let's see how to implement Gradient Descent in Keras for a simple toy problem! (Follow Along)\n",
        "\n",
        "In this section, we will again build a simple neural network using base TensorFlow. <br>\n",
        "We'll train a __Feed Forward Neural Network__ to predict targets,<br> using the method of __Gradient Descent__ to adjust the neural network parameters.<br><br> This is the process of __Back-propagation__!"
      ]
    },
    {
      "cell_type": "markdown",
      "metadata": {
        "id": "4d4tzpwO6B47"
      },
      "source": [
        "### 1.3.1 Generate synthetic (fake) data for a simple linear regression problem<br>\n",
        "$y = \\textbf{w} \\cdot \\textbf{x} + b + \\text{noise}$"
      ]
    },
    {
      "cell_type": "code",
      "execution_count": 1,
      "metadata": {
        "id": "ERyVgeO_IWyV"
      },
      "outputs": [],
      "source": [
        "# plotting\n",
        "import matplotlib.pyplot as plt\n",
        "\n",
        "# dataset import\n",
        "from keras.datasets import mnist\n",
        "\n",
        "# tensorflow imports for building\n",
        "import tensorflow as tf\n",
        "from keras import Sequential\n",
        "from keras.layers import Dense\n",
        "from keras.optimizers import SGD\n",
        "%matplotlib inline"
      ]
    },
    {
      "cell_type": "code",
      "execution_count": 2,
      "metadata": {
        "id": "_C6O65Q09G43",
        "nbgrader": {
          "grade": false,
          "grade_id": "cell-13ede96854baf6e5",
          "locked": false,
          "schema_version": 3,
          "solution": true,
          "task": false
        }
      },
      "outputs": [],
      "source": [
        "# Generate samples of a Linear Regression data model\n",
        "# y     =      w  *  x    +  b     + noise\n",
        "\n",
        "### BEGIN SOLUTION\n",
        "# Specify the model parameters: slope(weight) and intercept (bias)\n",
        "w_true = 3.5\n",
        "b_true = 50.0\n",
        "# Specify how many examples we want to generate\n",
        "n_examples = 1000\n",
        "\n",
        "# linear regression assumes normally distributed noise,\n",
        "#    so we'll draw noise values from Gaussian distributions\n",
        "noise = tf.random.normal(mean=0.0, stddev=1.0, shape=[n_examples])\n",
        "\n",
        "# we'll draw input values from a uniform distribution\n",
        "x = tf.random.uniform(minval=-1, maxval=1, shape=[n_examples])\n",
        "# Generate samples from the Linear Regression data model\n",
        "# y     =      w  *  x    +  b     + noise\n",
        "y_true = w_true * x + b_true + noise\n",
        "### END SOLUTION"
      ]
    },
    {
      "cell_type": "markdown",
      "metadata": {
        "id": "bCJesGEUgcj4"
      },
      "source": [
        "### 1.3.2 Loss Function\n",
        "The Mean Squared Error (MSE), is an appropriate loss function for a regression problem. We are trying to predict a continuous target.\n",
        "\n",
        "$$\\huge{\\text{MSE} = \\frac{1}{N}\\sum_{i=1}^{N} (y_i-\\hat{y}_i)^2}$$"
      ]
    },
    {
      "cell_type": "code",
      "execution_count": 3,
      "metadata": {
        "id": "kyITYhMS9G44"
      },
      "outputs": [],
      "source": [
        "def loss(target_y, predicted_y, model, reg_strength=0.0):\n",
        "    \"\"\"\n",
        "    Implements Mean Square Error (MSE) as the loss function\n",
        "    \"\"\"\n",
        "    return tf.reduce_mean(tf.square(target_y - predicted_y))"
      ]
    },
    {
      "cell_type": "markdown",
      "metadata": {
        "id": "bgTf6vTS69Sw"
      },
      "source": [
        "### 1.3.3 Neural Network Architecture\n",
        "Lets create a Neural Network class called `Model` to feed forward the input to a neural network composed of a single linear layer, with no activation function. Note: This is essentially a linear regression model whose coefficients are trained by gradient descent. In practice, gradient descent works on much more complex functions like the multi-layer networks we constructed in Module 1."
      ]
    },
    {
      "cell_type": "code",
      "execution_count": 4,
      "metadata": {
        "id": "RUI8VSR5zyBv"
      },
      "outputs": [],
      "source": [
        "class Model(object):\n",
        "\n",
        "    def __init__(self):\n",
        "        self.w = tf.Variable(8.0)\n",
        "        self.b = tf.Variable(40.0)\n",
        "\n",
        "    def __call__(self, x):\n",
        "        # returns w*x + b\n",
        "        return self.w * x + self.b\n",
        "\n",
        "# Instantiate the Model() class\n",
        "model = Model()\n",
        "\n",
        "# test the Model() class\n",
        "#    with parameters w = 8 and b = 40, our model is  y(x) = w*x + b = 8\n",
        "#    with input of x = 3, we expect y = 8*3 + 40 = 64\n",
        "\n",
        "assert model(3.0).numpy() == 64.0"
      ]
    },
    {
      "cell_type": "markdown",
      "metadata": {
        "id": "gbyT_FJ88IlK"
      },
      "source": [
        "### 1.3.4 Prediction with Initial Weights\n",
        "The weights in our model were initialized randomly, so of course our neural network's initial predictions are way off!"
      ]
    },
    {
      "cell_type": "code",
      "execution_count": 5,
      "metadata": {
        "colab": {
          "base_uri": "https://localhost:8080/",
          "height": 472
        },
        "id": "IreIDe6P8H0H",
        "outputId": "442f2e6d-ded8-41af-c06e-d4e244c3313d"
      },
      "outputs": [
        {
          "output_type": "stream",
          "name": "stdout",
          "text": [
            "Current loss: 106.160553\n"
          ]
        },
        {
          "output_type": "display_data",
          "data": {
            "text/plain": [
              "<Figure size 640x480 with 1 Axes>"
            ],
            "image/png": "[encoded data removed]"
          },
          "metadata": {}
        }
      ],
      "source": [
        "inputs = x\n",
        "outputs = y_true\n",
        "predictions = model(inputs)\n",
        "plt.scatter(inputs, outputs, c='b', label = \"data\")\n",
        "plt.plot(inputs, predictions, c='r', label = \"model predictions\")\n",
        "plt.xlabel('x',fontsize=14)\n",
        "plt.ylabel('y',fontsize=14)\n",
        "plt.legend()\n",
        "plt.grid();\n",
        "\n",
        "print('Current loss: %1.6f' % loss(predictions, outputs, model).numpy())"
      ]
    },
    {
      "cell_type": "markdown",
      "metadata": {
        "id": "16Ujj6vNYQyX",
        "toc-hr-collapsed": true
      },
      "source": [
        "### 1.3.5 Back-propagation\n",
        "Means iteratively updating the weights and bias based on the gradients of the loss function.<br>\n",
        "We'll write a helper function to train a model using Keras!\n"
      ]
    },
    {
      "cell_type": "code",
      "execution_count": 6,
      "metadata": {
        "id": "ZgaGD6YlHoid",
        "nbgrader": {
          "grade": false,
          "grade_id": "cell-100d1b1df12abe63",
          "locked": false,
          "schema_version": 3,
          "solution": true,
          "task": false
        }
      },
      "outputs": [],
      "source": [
        "# this train function updates w and b using partial derivative of the loss function w.r.t. w and b\n",
        "def train(model, inputs, outputs, learning_rate):\n",
        "    with tf.GradientTape() as tape:\n",
        "        # calculate the loss function value from our model's predictions\n",
        "        current_loss = loss(outputs, model(inputs), model)\n",
        "\n",
        "        # calculate dw and db, the gradients of the loss function with respect to w and b\n",
        "        dw, db = tape.gradient(current_loss, [model.w, model.b])\n",
        "\n",
        "        # update the value of w by subtracting (learning rate) * (gradient of the loss function wrt w) from its current value\n",
        "        model.w.assign_sub(learning_rate * dw)\n",
        "\n",
        "        # update the value of b by subtracting (learning rate) * (gradient of the loss function wrt b) from its current value\n",
        "        model.b.assign_sub(learning_rate * db)"
      ]
    },
    {
      "cell_type": "markdown",
      "metadata": {
        "id": "7iziWWURgck8"
      },
      "source": [
        "### 1.3.6 Train the Network\n",
        "At each epoch, we'll print the values of the updated parameters and the loss function"
      ]
    },
    {
      "cell_type": "code",
      "execution_count": 7,
      "metadata": {
        "colab": {
          "base_uri": "https://localhost:8080/"
        },
        "id": "4zn_HgFuHhTr",
        "outputId": "cfeba26d-c74c-4e05-93a6-5b4624a8d6cd"
      },
      "outputs": [
        {
          "output_type": "stream",
          "name": "stdout",
          "text": [
            "Epoch  0: w=7.73 b=41.98 loss=106.16055\n",
            "Epoch  1: w=7.48 b=43.57 loss=70.00787\n",
            "Epoch  2: w=7.23 b=44.84 loss=46.65230\n",
            "Epoch  3: w=7.00 b=45.86 loss=31.51409\n",
            "Epoch  4: w=6.78 b=46.68 loss=21.65904\n",
            "Epoch  5: w=6.58 b=47.33 loss=15.20641\n",
            "Epoch  6: w=6.38 b=47.85 loss=10.94990\n",
            "Epoch  7: w=6.20 b=48.27 loss=8.11518\n",
            "Epoch  8: w=6.02 b=48.61 loss=6.20464\n",
            "Epoch  9: w=5.86 b=48.88 loss=4.89801\n",
            "Epoch 10: w=5.71 b=49.09 loss=3.98870\n",
            "Epoch 11: w=5.57 b=49.27 loss=3.34315\n",
            "Epoch 12: w=5.43 b=49.41 loss=2.87463\n",
            "Epoch 13: w=5.31 b=49.52 loss=2.52657\n",
            "Epoch 14: w=5.19 b=49.61 loss=2.26187\n",
            "Epoch 15: w=5.08 b=49.68 loss=2.05594\n",
            "Epoch 16: w=4.98 b=49.74 loss=1.89237\n",
            "Epoch 17: w=4.88 b=49.79 loss=1.76003\n",
            "Epoch 18: w=4.79 b=49.82 loss=1.65126\n",
            "Epoch 19: w=4.71 b=49.85 loss=1.56070\n",
            "Epoch 20: w=4.63 b=49.88 loss=1.48452\n",
            "Epoch 21: w=4.56 b=49.90 loss=1.41989\n",
            "Epoch 22: w=4.49 b=49.91 loss=1.36473\n",
            "Epoch 23: w=4.42 b=49.93 loss=1.31740\n",
            "Epoch 24: w=4.36 b=49.94 loss=1.27666\n",
            "Epoch 25: w=4.31 b=49.95 loss=1.24149\n",
            "Epoch 26: w=4.26 b=49.95 loss=1.21106\n",
            "Epoch 27: w=4.21 b=49.96 loss=1.18469\n",
            "Epoch 28: w=4.16 b=49.97 loss=1.16182\n",
            "Epoch 29: w=4.12 b=49.97 loss=1.14196\n",
            "Epoch 30: w=4.08 b=49.97 loss=1.12471\n",
            "Epoch 31: w=4.05 b=49.98 loss=1.10972\n",
            "Epoch 32: w=4.01 b=49.98 loss=1.09669\n",
            "Epoch 33: w=3.98 b=49.98 loss=1.08535\n",
            "Epoch 34: w=3.95 b=49.98 loss=1.07549\n",
            "Epoch 35: w=3.92 b=49.98 loss=1.06691\n",
            "Epoch 36: w=3.90 b=49.98 loss=1.05945\n",
            "Epoch 37: w=3.87 b=49.99 loss=1.05296\n",
            "Epoch 38: w=3.85 b=49.99 loss=1.04731\n",
            "Epoch 39: w=3.83 b=49.99 loss=1.04239\n",
            "Epoch 40: w=3.81 b=49.99 loss=1.03812\n",
            "Epoch 41: w=3.79 b=49.99 loss=1.03439\n",
            "Epoch 42: w=3.77 b=49.99 loss=1.03116\n",
            "Epoch 43: w=3.76 b=49.99 loss=1.02834\n",
            "Epoch 44: w=3.74 b=49.99 loss=1.02588\n",
            "Epoch 45: w=3.73 b=49.99 loss=1.02375\n",
            "Epoch 46: w=3.72 b=49.99 loss=1.02189\n",
            "Epoch 47: w=3.70 b=49.99 loss=1.02028\n",
            "Epoch 48: w=3.69 b=49.99 loss=1.01887\n",
            "Epoch 49: w=3.68 b=49.99 loss=1.01764\n"
          ]
        }
      ],
      "source": [
        "model = Model()\n",
        "\n",
        "# Store parameter history\n",
        "ws, bs = [], []\n",
        "current_loss = []\n",
        "epochs = range(50)\n",
        "\n",
        "for epoch in epochs:\n",
        "\n",
        "    # forward propagate the current parameters through the network to predict targets\n",
        "    y_hat =  model(inputs)\n",
        "\n",
        "    # compute the loss function by comparing target predictions to the true targets\n",
        "    current_loss.append(loss(outputs, y_hat, model))\n",
        "\n",
        "    # update the parameters (weight and bias) based on gradient descent\n",
        "    train(model, inputs, outputs, learning_rate=0.1)\n",
        "\n",
        "    # store the updated values of weight and bias\n",
        "    ws.append(model.w.numpy())\n",
        "    bs.append(model.b.numpy())\n",
        "\n",
        "    print('Epoch %2d: w=%1.2f b=%1.2f loss=%2.5f' % (epoch, ws[-1], bs[-1], current_loss[-1]))\n",
        "\n"
      ]
    },
    {
      "cell_type": "code",
      "execution_count": 8,
      "metadata": {
        "colab": {
          "base_uri": "https://localhost:8080/",
          "height": 454
        },
        "id": "FSEt07wdHvi2",
        "outputId": "79cfbfc7-8ca7-4afe-e5a5-9ab39d4052ba"
      },
      "outputs": [
        {
          "output_type": "display_data",
          "data": {
            "text/plain": [
              "<Figure size 640x480 with 1 Axes>"
            ],
            "image/png": "[encoded data removed]"
          },
          "metadata": {}
        }
      ],
      "source": [
        "plt.plot(epochs, ws, 'r', epochs, bs, 'b')\n",
        "plt.plot([w_true] * len(epochs), 'r--',\n",
        "         [b_true] * len(epochs), 'b--')\n",
        "plt.xlabel('Epoch number',fontsize=14)\n",
        "plt.ylabel('Parameter value',fontsize=14)\n",
        "plt.legend(['w', 'b', 'True w', 'True b'])\n",
        "plt.grid()"
      ]
    },
    {
      "cell_type": "code",
      "execution_count": 9,
      "metadata": {
        "colab": {
          "base_uri": "https://localhost:8080/",
          "height": 454
        },
        "id": "8cmu3mtNTVDf",
        "outputId": "49690474-9e7a-4ce5-adfc-539cc78ce9c5"
      },
      "outputs": [
        {
          "output_type": "display_data",
          "data": {
            "text/plain": [
              "<Figure size 640x480 with 1 Axes>"
            ],
            "image/png": "[encoded data removed]"
          },
          "metadata": {}
        }
      ],
      "source": [
        "plt.plot(epochs, current_loss, 'k')\n",
        "plt.xlabel('Epoch number',fontsize=14)\n",
        "plt.ylabel('Loss',fontsize=14)\n",
        "plt.grid()"
      ]
    },
    {
      "cell_type": "code",
      "execution_count": 10,
      "metadata": {
        "colab": {
          "base_uri": "https://localhost:8080/",
          "height": 472
        },
        "id": "6pKDfpplbUxN",
        "outputId": "066661ba-40de-471f-ef20-71f409f916ec"
      },
      "outputs": [
        {
          "output_type": "stream",
          "name": "stdout",
          "text": [
            "Current loss: 1.017645\n"
          ]
        },
        {
          "output_type": "display_data",
          "data": {
            "text/plain": [
              "<Figure size 640x480 with 1 Axes>"
            ],
            "image/png": "[encoded data removed]"
          },
          "metadata": {}
        }
      ],
      "source": [
        "plt.scatter(inputs, outputs, c='b', label = \"data\")\n",
        "plt.plot(inputs, model(inputs),c='r',label = \"model predictions\")\n",
        "plt.legend()\n",
        "plt.xlabel('x',fontsize=14)\n",
        "plt.ylabel('y',fontsize=14)\n",
        "plt.grid()\n",
        "\n",
        "print('Current loss: %1.6f'% current_loss[-1])"
      ]
    },
    {
      "cell_type": "markdown",
      "metadata": {
        "id": "5N4lWxfS6YIQ"
      },
      "source": [
        "### Nice job! Our model closely fits the data.\n",
        "### Congratulations! <br>\n",
        "You've just learned how to train a neural network using gradient descent and back-propagation with Keras!"
      ]
    },
    {
      "cell_type": "markdown",
      "metadata": {
        "id": "iKUVGoRxgck_"
      },
      "source": [
        "## Challenge\n",
        "\n",
        "In the module project, you will be asked to explain the logic of back-propagation and gradient descent."
      ]
    },
    {
      "cell_type": "markdown",
      "metadata": {
        "id": "jFGB1EXNwxM-"
      },
      "source": [
        "## Investigate the effects of the `batch_size` and `learning_rate` hyperparameters.\n",
        "\n",
        "In parts 2 and 3, we'll return to modeling the MNIST handwritten digit data set. <br>\n",
        "Although we'll adjust `batch_size` and `learning_rate` separately, they are in fact related. <br>\n",
        "Larger `batch_size` gives more accurate parameter updates, so we can confidently move toward the minimum of the loss function with larger steps, i.e. we can use larger values of `learning_rate`. Conversely, smaller batch sizes give \"noisier\" updates, so we should take smaller steps, i.e. use smaller values of `learning_rate`.\n",
        "\n"
      ]
    },
    {
      "cell_type": "markdown",
      "metadata": {
        "id": "vTqZg-6igclA",
        "toc-hr-collapsed": true
      },
      "source": [
        "# 2. Effect of the Batch Size Hyperparameter on Training a Neural Network (Learn)"
      ]
    },
    {
      "cell_type": "markdown",
      "metadata": {
        "id": "0nrm-racgclA"
      },
      "source": [
        "## 2.1 Overview\n",
        "\n",
        "### 2.1.1 Stochastic Gradient Descent\n",
        "\n",
        "Stochastic Gradient Descent (SGD) estimates the gradients of the loss function over the entire dataset from the predictions of a **single** randomly chosen sample. With these gradients, we can then update the parameters.\n",
        "\n",
        "Why use a single sample instead of all of the samples (a batch), or a random subset of the samples (a minibatch)?\n",
        "\n",
        "Because calculating the gradient over the entire dataset (or a subset) is expensive computationally compared to using a single sample.\n",
        "\n",
        "So parameter updates in SGD are super-fast. What's the tradeoff? Can't get something for nothing!<br>\n",
        "The tradeoff is that SGD produces a noisy parameter update, because we are only using a small amount of information (a single sample) to compute the update!\n",
        "\n",
        "**Takeaway**: SGD computes *rapid* but *noisy* parameter updates!\n",
        "\n",
        "### 2.1.2 Minibatch Gradient Descent\n",
        "In minibatch Gradient Descent, the parameters are updated based on a batch of data points. Batch size is the number of data points our model uses to update the parameters and predict target values. A batch is a randomly selected subset of an epoch. All observations are eventually used when processing an epoch.\n",
        "\n",
        "* Smaller Batch = Slower Run Time, but potentially better generalization accuracy (due to noisier updates helping against overfitting!)\n",
        "* Default Batch = Balance between speed and generalization accuracy\n",
        "* Large Batch = Faster run time, but potentially worse generalization accuracy due to overfitting\n",
        "\n",
        "### 2.1.3 Batch Gradient Descent\n",
        "Another way to do Gradient Descent is to use all the data to compute each update, so that the parameters get updated only every epoch. But this is often problematic, because the whole dataset would have to fit in memory, and dataset can be huge."
      ]
    },
    {
      "cell_type": "markdown",
      "metadata": {
        "id": "oNQ2ZCi7I4i6"
      },
      "source": [
        "## 2.2 Baseline Model with MNIST data"
      ]
    },
    {
      "cell_type": "code",
      "execution_count": 11,
      "metadata": {
        "colab": {
          "base_uri": "https://localhost:8080/"
        },
        "id": "mZjW2lYVI9Q2",
        "nbgrader": {
          "grade": false,
          "grade_id": "cell-1c90a81f1eece31b",
          "locked": false,
          "schema_version": 3,
          "solution": true,
          "task": false
        },
        "outputId": "955205ba-a740-4d59-e80b-0293f2392b9a"
      },
      "outputs": [
        {
          "output_type": "stream",
          "name": "stdout",
          "text": [
            "Downloading data from https://storage.googleapis.com/tensorflow/tf-keras-datasets/mnist.npz\n",
            "11490434/11490434 [==============================] - 1s 0us/step\n"
          ]
        }
      ],
      "source": [
        "# load data\n",
        "\n",
        "# normalize data\n",
        "\n",
        "### BEGIN SOLUTION\n",
        "(X_train, y_train), (X_test, y_test) = mnist.load_data()\n",
        "\n",
        "# normalize data\n",
        "max_pixel_value = 255\n",
        "X_train = X_train / max_pixel_value\n",
        "X_test = X_test / max_pixel_value\n",
        "\n",
        "X_train = X_train.reshape((60000, 784))\n",
        "X_test = X_test.reshape((10000, 784))\n",
        "### END SOLUTION"
      ]
    },
    {
      "cell_type": "markdown",
      "metadata": {
        "id": "Kkvukt_X9G48"
      },
      "source": [
        "### 2.2.1 Normalizing the data can help your model learn faster\n",
        "\n",
        "If your dataset has values ranging across multiple orders of magnitude (i.e. $10^1,~~10^2,~~10^3,~~10^4$), then gradient descent will update the weights and biases in grossly uneven proportions.<br>\n",
        "\n",
        "**Normalizing** the data, i.e shifting and scaling the values to lie within the unit interval $[0,1]$ ensures that all weight and bias updates are on the same scale, which can lead to quicker convergence.\n",
        "\n",
        "![](https://quicktomaster.com/wp-content/uploads/2020/08/contour_plot.png)\n",
        "\n",
        "There's more to be said about Normalization and Gradient Descent <br>\n",
        "If you are interested in going deeper, we highly recommend this well written article [Normalizing your data](https://www.jeremyjordan.me/batch-normalization/) in which Jeremy Jordan explores the impact of normalization on Gradient Descent in greater detail."
      ]
    },
    {
      "cell_type": "markdown",
      "metadata": {
        "id": "GPDPo4LG1gxY"
      },
      "source": [
        "### 2.2.2 Helper function to build our neural network model\n",
        "Since this is a classification problem with 10 classes and the target values are integers the [appropriate loss function](https://stats.stackexchange.com/questions/326065/cross-entropy-vs-sparse-cross-entropy-when-to-use-one-over-the-other) to use in our model is `sparse_categorical_crossentropy`."
      ]
    },
    {
      "cell_type": "code",
      "execution_count": 12,
      "metadata": {
        "id": "o7x17kDKJSy5",
        "nbgrader": {
          "grade": false,
          "grade_id": "cell-38ed3365b403af52",
          "locked": false,
          "schema_version": 3,
          "solution": true,
          "task": false
        }
      },
      "outputs": [],
      "source": [
        "# write a function called create_model that accepts a learning rate alpha for SGD as an input parameter\n",
        "# it should return a complied, 2 hidden layer neural net that uses SGD as the optimizer\n",
        "# Import SGD as discussed here: https://keras.io/api/optimizers/sgd/\n",
        "\n",
        "\n",
        "\n",
        "# create create_model\n",
        "def create_model(lr=.01):\n",
        "    \"\"\"\n",
        "    Parameters\n",
        "    ----------\n",
        "    lr: float\n",
        "        Learning rate parameter used for Stocastic Gradient Descent\n",
        "\n",
        "    Returns\n",
        "    -------\n",
        "    model: keras object\n",
        "        A complied keras model\n",
        "    \"\"\"\n",
        "### BEGIN SOLUTION\n",
        "    opt = SGD(learning_rate=lr)\n",
        "\n",
        "    # build a model by passing a list of layers to Sequential()\n",
        "    model = Sequential([\n",
        "          # hidden layer 1\n",
        "          Dense(1, activation='relu', input_dim=784),\n",
        "          # hidden layer 2\n",
        "          Dense(32, activation='relu'),\n",
        "          # output layer\n",
        "          Dense(10, activation='softmax')\n",
        "\n",
        "    ])\n",
        "\n",
        "    model.compile(optimizer=opt,\n",
        "                  loss='sparse_categorical_crossentropy',\n",
        "                  metrics=['accuracy'])\n",
        "    return model\n",
        "### END SOLUTION"
      ]
    },
    {
      "cell_type": "code",
      "execution_count": 13,
      "metadata": {
        "colab": {
          "base_uri": "https://localhost:8080/"
        },
        "id": "W-HsAQ-9jgUM",
        "outputId": "93062383-ba41-40a6-c97b-a2e4863d1f4b"
      },
      "outputs": [
        {
          "output_type": "stream",
          "name": "stdout",
          "text": [
            "Model: \"sequential\"\n",
            "_________________________________________________________________\n",
            " Layer (type)                Output Shape              Param #   \n",
            "=================================================================\n",
            " dense (Dense)               (None, 1)                 785       \n",
            "                                                                 \n",
            " dense_1 (Dense)             (None, 32)                64        \n",
            "                                                                 \n",
            " dense_2 (Dense)             (None, 10)                330       \n",
            "                                                                 \n",
            "=================================================================\n",
            "Total params: 1179 (4.61 KB)\n",
            "Trainable params: 1179 (4.61 KB)\n",
            "Non-trainable params: 0 (0.00 Byte)\n",
            "_________________________________________________________________\n"
          ]
        }
      ],
      "source": [
        "create_model().summary()"
      ]
    },
    {
      "cell_type": "markdown",
      "metadata": {
        "id": "ZF7UE-KluPsX"
      },
      "source": [
        "## 2.3 Experiments to gauge the effect of batch size (Follow Along)\n",
        "Let's run a series of experiments for a default, small, and large batch size."
      ]
    },
    {
      "cell_type": "markdown",
      "metadata": {
        "id": "VhpDaVFRJl3U"
      },
      "source": [
        "### 2.3.1 Default Batch Size\n",
        "Batch Size is 32"
      ]
    },
    {
      "cell_type": "code",
      "execution_count": 14,
      "metadata": {
        "colab": {
          "base_uri": "https://localhost:8080/"
        },
        "id": "P-ChVGikgclD",
        "outputId": "cd6aefb7-3185-4e8e-f2c6-27170d781ae8",
        "scrolled": true
      },
      "outputs": [
        {
          "output_type": "stream",
          "name": "stdout",
          "text": [
            "Epoch 1/5\n",
            "1875/1875 [==============================] - 8s 4ms/step - loss: 2.1212 - accuracy: 0.1969 - val_loss: 1.9781 - val_accuracy: 0.2195\n",
            "Epoch 2/5\n",
            "1875/1875 [==============================] - 7s 4ms/step - loss: 1.9229 - accuracy: 0.2275 - val_loss: 1.8752 - val_accuracy: 0.2397\n",
            "Epoch 3/5\n",
            "1875/1875 [==============================] - 7s 4ms/step - loss: 1.8191 - accuracy: 0.2712 - val_loss: 1.7529 - val_accuracy: 0.2962\n",
            "Epoch 4/5\n",
            "1875/1875 [==============================] - 6s 3ms/step - loss: 1.7039 - accuracy: 0.3201 - val_loss: 1.6771 - val_accuracy: 0.3269\n",
            "Epoch 5/5\n",
            "1875/1875 [==============================] - 7s 4ms/step - loss: 1.6510 - accuracy: 0.3327 - val_loss: 1.6328 - val_accuracy: 0.3529\n",
            "CPU times: user 34.6 s, sys: 2.96 s, total: 37.6 s\n",
            "Wall time: 42.5 s\n"
          ]
        }
      ],
      "source": [
        "%%time\n",
        "# instantiate a model and fit it with batch size of 32\n",
        "model = create_model()\n",
        "bt_default = model.fit(X_train, y_train, batch_size=32, validation_data=(X_test, y_test), epochs=5)"
      ]
    },
    {
      "cell_type": "markdown",
      "metadata": {
        "id": "krYQ1XHvnpk_"
      },
      "source": [
        "What's that number 1875? It's the number of batches in the full data set"
      ]
    },
    {
      "cell_type": "code",
      "execution_count": 15,
      "metadata": {
        "colab": {
          "base_uri": "https://localhost:8080/"
        },
        "id": "knaV6-vBjwNQ",
        "outputId": "800e5dd0-c8bd-445c-f915-456cbf74a083"
      },
      "outputs": [
        {
          "output_type": "stream",
          "name": "stdout",
          "text": [
            "(60000, 784)\n",
            "1875.0\n"
          ]
        }
      ],
      "source": [
        "print(X_train.shape)\n",
        "print(X_train.shape[0]/32)"
      ]
    },
    {
      "cell_type": "code",
      "execution_count": 16,
      "metadata": {
        "colab": {
          "base_uri": "https://localhost:8080/"
        },
        "id": "A0hxaeqyj4ye",
        "outputId": "a5367635-2331-4807-e633-241b4a121fb5"
      },
      "outputs": [
        {
          "output_type": "execute_result",
          "data": {
            "text/plain": [
              "1875.0"
            ]
          },
          "metadata": {},
          "execution_count": 16
        }
      ],
      "source": [
        "60000/32"
      ]
    },
    {
      "cell_type": "markdown",
      "metadata": {
        "id": "KvsbOFnDJuG0"
      },
      "source": [
        "### 2.3.2 Small Batch Size\n",
        "Batch Size is 8"
      ]
    },
    {
      "cell_type": "code",
      "execution_count": 17,
      "metadata": {
        "colab": {
          "base_uri": "https://localhost:8080/"
        },
        "id": "diDzvb-UJ1je",
        "outputId": "cce479fa-3fa7-49ea-c04a-d19ce43add12",
        "scrolled": true
      },
      "outputs": [
        {
          "output_type": "stream",
          "name": "stdout",
          "text": [
            "Epoch 1/5\n",
            "7500/7500 [==============================] - 27s 4ms/step - loss: 1.5944 - accuracy: 0.3410 - val_loss: 1.5547 - val_accuracy: 0.3675\n",
            "Epoch 2/5\n",
            "7500/7500 [==============================] - 27s 4ms/step - loss: 1.5388 - accuracy: 0.3549 - val_loss: 1.5238 - val_accuracy: 0.3693\n",
            "Epoch 3/5\n",
            "7500/7500 [==============================] - 29s 4ms/step - loss: 1.5176 - accuracy: 0.3656 - val_loss: 1.5179 - val_accuracy: 0.3802\n",
            "Epoch 4/5\n",
            "7500/7500 [==============================] - 27s 4ms/step - loss: 1.5061 - accuracy: 0.3744 - val_loss: 1.5086 - val_accuracy: 0.3762\n",
            "Epoch 5/5\n",
            "7500/7500 [==============================] - 26s 4ms/step - loss: 1.5008 - accuracy: 0.3777 - val_loss: 1.5155 - val_accuracy: 0.3842\n",
            "CPU times: user 2min 24s, sys: 12.1 s, total: 2min 36s\n",
            "Wall time: 2min 22s\n"
          ]
        }
      ],
      "source": [
        "%%time\n",
        "# instantiate a model and fit it with batch size of 8\n",
        "#YOUR CODE HERE\n",
        "bt_small = model.fit(X_train, y_train, batch_size=8, validation_data=(X_test, y_test), epochs=5)"
      ]
    },
    {
      "cell_type": "markdown",
      "metadata": {
        "id": "_iPvvvt5J2Xl"
      },
      "source": [
        "### 2.3.3 Large Batch Size\n",
        "Batch Size is 512"
      ]
    },
    {
      "cell_type": "code",
      "execution_count": 18,
      "metadata": {
        "colab": {
          "base_uri": "https://localhost:8080/"
        },
        "id": "7h8Z5293KABT",
        "outputId": "136dba04-992a-4051-b6b8-84c150eef31d"
      },
      "outputs": [
        {
          "output_type": "stream",
          "name": "stdout",
          "text": [
            "Epoch 1/5\n",
            "118/118 [==============================] - 1s 5ms/step - loss: 1.4715 - accuracy: 0.3959 - val_loss: 1.4793 - val_accuracy: 0.3999\n",
            "Epoch 2/5\n",
            "118/118 [==============================] - 0s 4ms/step - loss: 1.4692 - accuracy: 0.3955 - val_loss: 1.4752 - val_accuracy: 0.4006\n",
            "Epoch 3/5\n",
            "118/118 [==============================] - 1s 7ms/step - loss: 1.4682 - accuracy: 0.3957 - val_loss: 1.4754 - val_accuracy: 0.3988\n",
            "Epoch 4/5\n",
            "118/118 [==============================] - 0s 4ms/step - loss: 1.4676 - accuracy: 0.3964 - val_loss: 1.4742 - val_accuracy: 0.3992\n",
            "Epoch 5/5\n",
            "118/118 [==============================] - 0s 4ms/step - loss: 1.4674 - accuracy: 0.3961 - val_loss: 1.4741 - val_accuracy: 0.3941\n"
          ]
        }
      ],
      "source": [
        "# instantiate a model and fit it with batch size of 512\n",
        "#YOUR CODE HERE\n",
        "bt_large = model.fit(X_train, y_train, batch_size=512, validation_data=(X_test, y_test), epochs=5)"
      ]
    },
    {
      "cell_type": "code",
      "execution_count": 19,
      "metadata": {
        "colab": {
          "base_uri": "https://localhost:8080/"
        },
        "id": "vE2Awnk3aXPv",
        "outputId": "0f1b0168-0e8b-46c9-d39c-8c746326f37a"
      },
      "outputs": [
        {
          "output_type": "execute_result",
          "data": {
            "text/plain": [
              "{'loss': [2.1211674213409424,\n",
              "  1.92294442653656,\n",
              "  1.8190635442733765,\n",
              "  1.70391047000885,\n",
              "  1.651026725769043],\n",
              " 'accuracy': [0.19688333570957184,\n",
              "  0.22751666605472565,\n",
              "  0.27121666073799133,\n",
              "  0.32011666893959045,\n",
              "  0.33274999260902405],\n",
              " 'val_loss': [1.9781274795532227,\n",
              "  1.875241756439209,\n",
              "  1.752907395362854,\n",
              "  1.6770943403244019,\n",
              "  1.632779836654663],\n",
              " 'val_accuracy': [0.21950000524520874,\n",
              "  0.23970000445842743,\n",
              "  0.2962000072002411,\n",
              "  0.32690000534057617,\n",
              "  0.3528999984264374]}"
            ]
          },
          "metadata": {},
          "execution_count": 19
        }
      ],
      "source": [
        "bt_default.history"
      ]
    },
    {
      "cell_type": "code",
      "execution_count": 20,
      "metadata": {
        "colab": {
          "base_uri": "https://localhost:8080/",
          "height": 206
        },
        "id": "YQFCYnUSakDU",
        "outputId": "f0abe8a9-464e-4cff-f2c4-b22b8cdb0509"
      },
      "outputs": [
        {
          "output_type": "execute_result",
          "data": {
            "text/plain": [
              "       loss  accuracy  val_loss  val_accuracy\n",
              "0  2.121167  0.196883  1.978127        0.2195\n",
              "1  1.922944  0.227517  1.875242        0.2397\n",
              "2  1.819064  0.271217  1.752907        0.2962\n",
              "3  1.703910  0.320117  1.677094        0.3269\n",
              "4  1.651027  0.332750  1.632780        0.3529"
            ],
            "text/html": [
              "\n",
              "  <div id=\"df-7bb0b772-18fe-4748-b899-4978ec5d97fa\" class=\"colab-df-container\">\n",
              "    <div>\n",
              "<style scoped>\n",
              "    .dataframe tbody tr th:only-of-type {\n",
              "        vertical-align: middle;\n",
              "    }\n",
              "\n",
              "    .dataframe tbody tr th {\n",
              "        vertical-align: top;\n",
              "    }\n",
              "\n",
              "    .dataframe thead th {\n",
              "        text-align: right;\n",
              "    }\n",
              "</style>\n",
              "<table border=\"1\" class=\"dataframe\">\n",
              "  <thead>\n",
              "    <tr style=\"text-align: right;\">\n",
              "      <th></th>\n",
              "      <th>loss</th>\n",
              "      <th>accuracy</th>\n",
              "      <th>val_loss</th>\n",
              "      <th>val_accuracy</th>\n",
              "    </tr>\n",
              "  </thead>\n",
              "  <tbody>\n",
              "    <tr>\n",
              "      <th>0</th>\n",
              "      <td>2.121167</td>\n",
              "      <td>0.196883</td>\n",
              "      <td>1.978127</td>\n",
              "      <td>0.2195</td>\n",
              "    </tr>\n",
              "    <tr>\n",
              "      <th>1</th>\n",
              "      <td>1.922944</td>\n",
              "      <td>0.227517</td>\n",
              "      <td>1.875242</td>\n",
              "      <td>0.2397</td>\n",
              "    </tr>\n",
              "    <tr>\n",
              "      <th>2</th>\n",
              "      <td>1.819064</td>\n",
              "      <td>0.271217</td>\n",
              "      <td>1.752907</td>\n",
              "      <td>0.2962</td>\n",
              "    </tr>\n",
              "    <tr>\n",
              "      <th>3</th>\n",
              "      <td>1.703910</td>\n",
              "      <td>0.320117</td>\n",
              "      <td>1.677094</td>\n",
              "      <td>0.3269</td>\n",
              "    </tr>\n",
              "    <tr>\n",
              "      <th>4</th>\n",
              "      <td>1.651027</td>\n",
              "      <td>0.332750</td>\n",
              "      <td>1.632780</td>\n",
              "      <td>0.3529</td>\n",
              "    </tr>\n",
              "  </tbody>\n",
              "</table>\n",
              "</div>\n",
              "    <div class=\"colab-df-buttons\">\n",
              "\n",
              "  <div class=\"colab-df-container\">\n",
              "    <button class=\"colab-df-convert\" onclick=\"convertToInteractive('df-7bb0b772-18fe-4748-b899-4978ec5d97fa')\"\n",
              "            title=\"Convert this dataframe to an interactive table.\"\n",
              "            style=\"display:none;\">\n",
              "\n",
              "  <svg xmlns=\"http://www.w3.org/2000/svg\" height=\"24px\" viewBox=\"0 -960 960 960\">\n",
              "    <path d=\"M120-120v-720h720v720H120Zm60-500h600v-160H180v160Zm220 220h160v-160H400v160Zm0 220h160v-160H400v160ZM180-400h160v-160H180v160Zm440 0h160v-160H620v160ZM180-180h160v-160H180v160Zm440 0h160v-160H620v160Z\"/>\n",
              "  </svg>\n",
              "    </button>\n",
              "\n",
              "  <style>\n",
              "    .colab-df-container {\n",
              "      display:flex;\n",
              "      gap: 12px;\n",
              "    }\n",
              "\n",
              "    .colab-df-convert {\n",
              "      background-color: #E8F0FE;\n",
              "      border: none;\n",
              "      border-radius: 50%;\n",
              "      cursor: pointer;\n",
              "      display: none;\n",
              "      fill: #1967D2;\n",
              "      height: 32px;\n",
              "      padding: 0 0 0 0;\n",
              "      width: 32px;\n",
              "    }\n",
              "\n",
              "    .colab-df-convert:hover {\n",
              "      background-color: #E2EBFA;\n",
              "      box-shadow: 0px 1px 2px rgba(60, 64, 67, 0.3), 0px 1px 3px 1px rgba(60, 64, 67, 0.15);\n",
              "      fill: #174EA6;\n",
              "    }\n",
              "\n",
              "    .colab-df-buttons div {\n",
              "      margin-bottom: 4px;\n",
              "    }\n",
              "\n",
              "    [theme=dark] .colab-df-convert {\n",
              "      background-color: #3B4455;\n",
              "      fill: #D2E3FC;\n",
              "    }\n",
              "\n",
              "    [theme=dark] .colab-df-convert:hover {\n",
              "      background-color: #434B5C;\n",
              "      box-shadow: 0px 1px 3px 1px rgba(0, 0, 0, 0.15);\n",
              "      filter: drop-shadow(0px 1px 2px rgba(0, 0, 0, 0.3));\n",
              "      fill: #FFFFFF;\n",
              "    }\n",
              "  </style>\n",
              "\n",
              "    <script>\n",
              "      const buttonEl =\n",
              "        document.querySelector('#df-7bb0b772-18fe-4748-b899-4978ec5d97fa button.colab-df-convert');\n",
              "      buttonEl.style.display =\n",
              "        google.colab.kernel.accessAllowed ? 'block' : 'none';\n",
              "\n",
              "      async function convertToInteractive(key) {\n",
              "        const element = document.querySelector('#df-7bb0b772-18fe-4748-b899-4978ec5d97fa');\n",
              "        const dataTable =\n",
              "          await google.colab.kernel.invokeFunction('convertToInteractive',\n",
              "                                                    [key], {});\n",
              "        if (!dataTable) return;\n",
              "\n",
              "        const docLinkHtml = 'Like what you see? Visit the ' +\n",
              "          '<a target=\"_blank\" href=https://colab.research.google.com/notebooks/data_table.ipynb>data table notebook</a>'\n",
              "          + ' to learn more about interactive tables.';\n",
              "        element.innerHTML = '';\n",
              "        dataTable['output_type'] = 'display_data';\n",
              "        await google.colab.output.renderOutput(dataTable, element);\n",
              "        const docLink = document.createElement('div');\n",
              "        docLink.innerHTML = docLinkHtml;\n",
              "        element.appendChild(docLink);\n",
              "      }\n",
              "    </script>\n",
              "  </div>\n",
              "\n",
              "\n",
              "<div id=\"df-117729f9-20b4-4693-bdf8-7c394f53b1c0\">\n",
              "  <button class=\"colab-df-quickchart\" onclick=\"quickchart('df-117729f9-20b4-4693-bdf8-7c394f53b1c0')\"\n",
              "            title=\"Suggest charts\"\n",
              "            style=\"display:none;\">\n",
              "\n",
              "<svg xmlns=\"http://www.w3.org/2000/svg\" height=\"24px\"viewBox=\"0 0 24 24\"\n",
              "     width=\"24px\">\n",
              "    <g>\n",
              "        <path d=\"M19 3H5c-1.1 0-2 .9-2 2v14c0 1.1.9 2 2 2h14c1.1 0 2-.9 2-2V5c0-1.1-.9-2-2-2zM9 17H7v-7h2v7zm4 0h-2V7h2v10zm4 0h-2v-4h2v4z\"/>\n",
              "    </g>\n",
              "</svg>\n",
              "  </button>\n",
              "\n",
              "<style>\n",
              "  .colab-df-quickchart {\n",
              "      --bg-color: #E8F0FE;\n",
              "      --fill-color: #1967D2;\n",
              "      --hover-bg-color: #E2EBFA;\n",
              "      --hover-fill-color: #174EA6;\n",
              "      --disabled-fill-color: #AAA;\n",
              "      --disabled-bg-color: #DDD;\n",
              "  }\n",
              "\n",
              "  [theme=dark] .colab-df-quickchart {\n",
              "      --bg-color: #3B4455;\n",
              "      --fill-color: #D2E3FC;\n",
              "      --hover-bg-color: #434B5C;\n",
              "      --hover-fill-color: #FFFFFF;\n",
              "      --disabled-bg-color: #3B4455;\n",
              "      --disabled-fill-color: #666;\n",
              "  }\n",
              "\n",
              "  .colab-df-quickchart {\n",
              "    background-color: var(--bg-color);\n",
              "    border: none;\n",
              "    border-radius: 50%;\n",
              "    cursor: pointer;\n",
              "    display: none;\n",
              "    fill: var(--fill-color);\n",
              "    height: 32px;\n",
              "    padding: 0;\n",
              "    width: 32px;\n",
              "  }\n",
              "\n",
              "  .colab-df-quickchart:hover {\n",
              "    background-color: var(--hover-bg-color);\n",
              "    box-shadow: 0 1px 2px rgba(60, 64, 67, 0.3), 0 1px 3px 1px rgba(60, 64, 67, 0.15);\n",
              "    fill: var(--button-hover-fill-color);\n",
              "  }\n",
              "\n",
              "  .colab-df-quickchart-complete:disabled,\n",
              "  .colab-df-quickchart-complete:disabled:hover {\n",
              "    background-color: var(--disabled-bg-color);\n",
              "    fill: var(--disabled-fill-color);\n",
              "    box-shadow: none;\n",
              "  }\n",
              "\n",
              "  .colab-df-spinner {\n",
              "    border: 2px solid var(--fill-color);\n",
              "    border-color: transparent;\n",
              "    border-bottom-color: var(--fill-color);\n",
              "    animation:\n",
              "      spin 1s steps(1) infinite;\n",
              "  }\n",
              "\n",
              "  @keyframes spin {\n",
              "    0% {\n",
              "      border-color: transparent;\n",
              "      border-bottom-color: var(--fill-color);\n",
              "      border-left-color: var(--fill-color);\n",
              "    }\n",
              "    20% {\n",
              "      border-color: transparent;\n",
              "      border-left-color: var(--fill-color);\n",
              "      border-top-color: var(--fill-color);\n",
              "    }\n",
              "    30% {\n",
              "      border-color: transparent;\n",
              "      border-left-color: var(--fill-color);\n",
              "      border-top-color: var(--fill-color);\n",
              "      border-right-color: var(--fill-color);\n",
              "    }\n",
              "    40% {\n",
              "      border-color: transparent;\n",
              "      border-right-color: var(--fill-color);\n",
              "      border-top-color: var(--fill-color);\n",
              "    }\n",
              "    60% {\n",
              "      border-color: transparent;\n",
              "      border-right-color: var(--fill-color);\n",
              "    }\n",
              "    80% {\n",
              "      border-color: transparent;\n",
              "      border-right-color: var(--fill-color);\n",
              "      border-bottom-color: var(--fill-color);\n",
              "    }\n",
              "    90% {\n",
              "      border-color: transparent;\n",
              "      border-bottom-color: var(--fill-color);\n",
              "    }\n",
              "  }\n",
              "</style>\n",
              "\n",
              "  <script>\n",
              "    async function quickchart(key) {\n",
              "      const quickchartButtonEl =\n",
              "        document.querySelector('#' + key + ' button');\n",
              "      quickchartButtonEl.disabled = true;  // To prevent multiple clicks.\n",
              "      quickchartButtonEl.classList.add('colab-df-spinner');\n",
              "      try {\n",
              "        const charts = await google.colab.kernel.invokeFunction(\n",
              "            'suggestCharts', [key], {});\n",
              "      } catch (error) {\n",
              "        console.error('Error during call to suggestCharts:', error);\n",
              "      }\n",
              "      quickchartButtonEl.classList.remove('colab-df-spinner');\n",
              "      quickchartButtonEl.classList.add('colab-df-quickchart-complete');\n",
              "    }\n",
              "    (() => {\n",
              "      let quickchartButtonEl =\n",
              "        document.querySelector('#df-117729f9-20b4-4693-bdf8-7c394f53b1c0 button');\n",
              "      quickchartButtonEl.style.display =\n",
              "        google.colab.kernel.accessAllowed ? 'block' : 'none';\n",
              "    })();\n",
              "  </script>\n",
              "</div>\n",
              "\n",
              "  <div id=\"id_28be63f7-eb99-4fc9-9c75-453472a78971\">\n",
              "    <style>\n",
              "      .colab-df-generate {\n",
              "        background-color: #E8F0FE;\n",
              "        border: none;\n",
              "        border-radius: 50%;\n",
              "        cursor: pointer;\n",
              "        display: none;\n",
              "        fill: #1967D2;\n",
              "        height: 32px;\n",
              "        padding: 0 0 0 0;\n",
              "        width: 32px;\n",
              "      }\n",
              "\n",
              "      .colab-df-generate:hover {\n",
              "        background-color: #E2EBFA;\n",
              "        box-shadow: 0px 1px 2px rgba(60, 64, 67, 0.3), 0px 1px 3px 1px rgba(60, 64, 67, 0.15);\n",
              "        fill: #174EA6;\n",
              "      }\n",
              "\n",
              "      [theme=dark] .colab-df-generate {\n",
              "        background-color: #3B4455;\n",
              "        fill: #D2E3FC;\n",
              "      }\n",
              "\n",
              "      [theme=dark] .colab-df-generate:hover {\n",
              "        background-color: #434B5C;\n",
              "        box-shadow: 0px 1px 3px 1px rgba(0, 0, 0, 0.15);\n",
              "        filter: drop-shadow(0px 1px 2px rgba(0, 0, 0, 0.3));\n",
              "        fill: #FFFFFF;\n",
              "      }\n",
              "    </style>\n",
              "    <button class=\"colab-df-generate\" onclick=\"generateWithVariable('dd')\"\n",
              "            title=\"Generate code using this dataframe.\"\n",
              "            style=\"display:none;\">\n",
              "\n",
              "  <svg xmlns=\"http://www.w3.org/2000/svg\" height=\"24px\"viewBox=\"0 0 24 24\"\n",
              "       width=\"24px\">\n",
              "    <path d=\"M7,19H8.4L18.45,9,17,7.55,7,17.6ZM5,21V16.75L18.45,3.32a2,2,0,0,1,2.83,0l1.4,1.43a1.91,1.91,0,0,1,.58,1.4,1.91,1.91,0,0,1-.58,1.4L9.25,21ZM18.45,9,17,7.55Zm-12,3A5.31,5.31,0,0,0,4.9,8.1,5.31,5.31,0,0,0,1,6.5,5.31,5.31,0,0,0,4.9,4.9,5.31,5.31,0,0,0,6.5,1,5.31,5.31,0,0,0,8.1,4.9,5.31,5.31,0,0,0,12,6.5,5.46,5.46,0,0,0,6.5,12Z\"/>\n",
              "  </svg>\n",
              "    </button>\n",
              "    <script>\n",
              "      (() => {\n",
              "      const buttonEl =\n",
              "        document.querySelector('#id_28be63f7-eb99-4fc9-9c75-453472a78971 button.colab-df-generate');\n",
              "      buttonEl.style.display =\n",
              "        google.colab.kernel.accessAllowed ? 'block' : 'none';\n",
              "\n",
              "      buttonEl.onclick = () => {\n",
              "        google.colab.notebook.generateWithVariable('dd');\n",
              "      }\n",
              "      })();\n",
              "    </script>\n",
              "  </div>\n",
              "\n",
              "    </div>\n",
              "  </div>\n"
            ],
            "application/vnd.google.colaboratory.intrinsic+json": {
              "type": "dataframe",
              "variable_name": "dd",
              "summary": "{\n  \"name\": \"dd\",\n  \"rows\": 5,\n  \"fields\": [\n    {\n      \"column\": \"loss\",\n      \"properties\": {\n        \"dtype\": \"number\",\n        \"std\": 0.18744257605588957,\n        \"min\": 1.651026725769043,\n        \"max\": 2.1211674213409424,\n        \"num_unique_values\": 5,\n        \"samples\": [\n          1.92294442653656,\n          1.651026725769043,\n          1.8190635442733765\n        ],\n        \"semantic_type\": \"\",\n        \"description\": \"\"\n      }\n    },\n    {\n      \"column\": \"accuracy\",\n      \"properties\": {\n        \"dtype\": \"number\",\n        \"std\": 0.058311968197494436,\n        \"min\": 0.19688333570957184,\n        \"max\": 0.33274999260902405,\n        \"num_unique_values\": 5,\n        \"samples\": [\n          0.22751666605472565,\n          0.33274999260902405,\n          0.27121666073799133\n        ],\n        \"semantic_type\": \"\",\n        \"description\": \"\"\n      }\n    },\n    {\n      \"column\": \"val_loss\",\n      \"properties\": {\n        \"dtype\": \"number\",\n        \"std\": 0.14254006552237347,\n        \"min\": 1.632779836654663,\n        \"max\": 1.9781274795532227,\n        \"num_unique_values\": 5,\n        \"samples\": [\n          1.875241756439209,\n          1.632779836654663,\n          1.752907395362854\n        ],\n        \"semantic_type\": \"\",\n        \"description\": \"\"\n      }\n    },\n    {\n      \"column\": \"val_accuracy\",\n      \"properties\": {\n        \"dtype\": \"number\",\n        \"std\": 0.05659724202587706,\n        \"min\": 0.21950000524520874,\n        \"max\": 0.3528999984264374,\n        \"num_unique_values\": 5,\n        \"samples\": [\n          0.23970000445842743,\n          0.3528999984264374,\n          0.2962000072002411\n        ],\n        \"semantic_type\": \"\",\n        \"description\": \"\"\n      }\n    }\n  ]\n}"
            }
          },
          "metadata": {},
          "execution_count": 20
        }
      ],
      "source": [
        "import pandas as pd\n",
        "\n",
        "dd = pd.DataFrame.from_dict(bt_default.history)\n",
        "dd"
      ]
    },
    {
      "cell_type": "markdown",
      "metadata": {
        "id": "B0ujUz6BKUGz"
      },
      "source": [
        "### 2.3.4 Visualize Results"
      ]
    },
    {
      "cell_type": "code",
      "execution_count": 21,
      "metadata": {
        "colab": {
          "base_uri": "https://localhost:8080/",
          "height": 520
        },
        "id": "o-5DOZNMKYt-",
        "outputId": "d2d7caa4-68ef-4095-e398-442d0246f4bf"
      },
      "outputs": [
        {
          "output_type": "execute_result",
          "data": {
            "text/plain": [
              "        loss  accuracy  val_loss  val_accuracy  epoch Batch Size\n",
              "0   2.121167  0.196883  1.978127        0.2195      0        32_\n",
              "1   1.922944  0.227517  1.875242        0.2397      1        32_\n",
              "2   1.819064  0.271217  1.752907        0.2962      2        32_\n",
              "3   1.703910  0.320117  1.677094        0.3269      3        32_\n",
              "4   1.651027  0.332750  1.632780        0.3529      4        32_\n",
              "5   1.594373  0.340983  1.554699        0.3675      0         8_\n",
              "6   1.538755  0.354883  1.523781        0.3693      1         8_\n",
              "7   1.517621  0.365633  1.517913        0.3802      2         8_\n",
              "8   1.506071  0.374350  1.508630        0.3762      3         8_\n",
              "9   1.500796  0.377733  1.515459        0.3842      4         8_\n",
              "10  1.471547  0.395900  1.479287        0.3999      0       512_\n",
              "11  1.469187  0.395467  1.475238        0.4006      1       512_\n",
              "12  1.468169  0.395733  1.475356        0.3988      2       512_\n",
              "13  1.467631  0.396400  1.474183        0.3992      3       512_\n",
              "14  1.467434  0.396050  1.474093        0.3941      4       512_"
            ],
            "text/html": [
              "\n",
              "  <div id=\"df-3afb96c7-b2d3-429e-ac11-fedb483b1426\" class=\"colab-df-container\">\n",
              "    <div>\n",
              "<style scoped>\n",
              "    .dataframe tbody tr th:only-of-type {\n",
              "        vertical-align: middle;\n",
              "    }\n",
              "\n",
              "    .dataframe tbody tr th {\n",
              "        vertical-align: top;\n",
              "    }\n",
              "\n",
              "    .dataframe thead th {\n",
              "        text-align: right;\n",
              "    }\n",
              "</style>\n",
              "<table border=\"1\" class=\"dataframe\">\n",
              "  <thead>\n",
              "    <tr style=\"text-align: right;\">\n",
              "      <th></th>\n",
              "      <th>loss</th>\n",
              "      <th>accuracy</th>\n",
              "      <th>val_loss</th>\n",
              "      <th>val_accuracy</th>\n",
              "      <th>epoch</th>\n",
              "      <th>Batch Size</th>\n",
              "    </tr>\n",
              "  </thead>\n",
              "  <tbody>\n",
              "    <tr>\n",
              "      <th>0</th>\n",
              "      <td>2.121167</td>\n",
              "      <td>0.196883</td>\n",
              "      <td>1.978127</td>\n",
              "      <td>0.2195</td>\n",
              "      <td>0</td>\n",
              "      <td>32_</td>\n",
              "    </tr>\n",
              "    <tr>\n",
              "      <th>1</th>\n",
              "      <td>1.922944</td>\n",
              "      <td>0.227517</td>\n",
              "      <td>1.875242</td>\n",
              "      <td>0.2397</td>\n",
              "      <td>1</td>\n",
              "      <td>32_</td>\n",
              "    </tr>\n",
              "    <tr>\n",
              "      <th>2</th>\n",
              "      <td>1.819064</td>\n",
              "      <td>0.271217</td>\n",
              "      <td>1.752907</td>\n",
              "      <td>0.2962</td>\n",
              "      <td>2</td>\n",
              "      <td>32_</td>\n",
              "    </tr>\n",
              "    <tr>\n",
              "      <th>3</th>\n",
              "      <td>1.703910</td>\n",
              "      <td>0.320117</td>\n",
              "      <td>1.677094</td>\n",
              "      <td>0.3269</td>\n",
              "      <td>3</td>\n",
              "      <td>32_</td>\n",
              "    </tr>\n",
              "    <tr>\n",
              "      <th>4</th>\n",
              "      <td>1.651027</td>\n",
              "      <td>0.332750</td>\n",
              "      <td>1.632780</td>\n",
              "      <td>0.3529</td>\n",
              "      <td>4</td>\n",
              "      <td>32_</td>\n",
              "    </tr>\n",
              "    <tr>\n",
              "      <th>5</th>\n",
              "      <td>1.594373</td>\n",
              "      <td>0.340983</td>\n",
              "      <td>1.554699</td>\n",
              "      <td>0.3675</td>\n",
              "      <td>0</td>\n",
              "      <td>8_</td>\n",
              "    </tr>\n",
              "    <tr>\n",
              "      <th>6</th>\n",
              "      <td>1.538755</td>\n",
              "      <td>0.354883</td>\n",
              "      <td>1.523781</td>\n",
              "      <td>0.3693</td>\n",
              "      <td>1</td>\n",
              "      <td>8_</td>\n",
              "    </tr>\n",
              "    <tr>\n",
              "      <th>7</th>\n",
              "      <td>1.517621</td>\n",
              "      <td>0.365633</td>\n",
              "      <td>1.517913</td>\n",
              "      <td>0.3802</td>\n",
              "      <td>2</td>\n",
              "      <td>8_</td>\n",
              "    </tr>\n",
              "    <tr>\n",
              "      <th>8</th>\n",
              "      <td>1.506071</td>\n",
              "      <td>0.374350</td>\n",
              "      <td>1.508630</td>\n",
              "      <td>0.3762</td>\n",
              "      <td>3</td>\n",
              "      <td>8_</td>\n",
              "    </tr>\n",
              "    <tr>\n",
              "      <th>9</th>\n",
              "      <td>1.500796</td>\n",
              "      <td>0.377733</td>\n",
              "      <td>1.515459</td>\n",
              "      <td>0.3842</td>\n",
              "      <td>4</td>\n",
              "      <td>8_</td>\n",
              "    </tr>\n",
              "    <tr>\n",
              "      <th>10</th>\n",
              "      <td>1.471547</td>\n",
              "      <td>0.395900</td>\n",
              "      <td>1.479287</td>\n",
              "      <td>0.3999</td>\n",
              "      <td>0</td>\n",
              "      <td>512_</td>\n",
              "    </tr>\n",
              "    <tr>\n",
              "      <th>11</th>\n",
              "      <td>1.469187</td>\n",
              "      <td>0.395467</td>\n",
              "      <td>1.475238</td>\n",
              "      <td>0.4006</td>\n",
              "      <td>1</td>\n",
              "      <td>512_</td>\n",
              "    </tr>\n",
              "    <tr>\n",
              "      <th>12</th>\n",
              "      <td>1.468169</td>\n",
              "      <td>0.395733</td>\n",
              "      <td>1.475356</td>\n",
              "      <td>0.3988</td>\n",
              "      <td>2</td>\n",
              "      <td>512_</td>\n",
              "    </tr>\n",
              "    <tr>\n",
              "      <th>13</th>\n",
              "      <td>1.467631</td>\n",
              "      <td>0.396400</td>\n",
              "      <td>1.474183</td>\n",
              "      <td>0.3992</td>\n",
              "      <td>3</td>\n",
              "      <td>512_</td>\n",
              "    </tr>\n",
              "    <tr>\n",
              "      <th>14</th>\n",
              "      <td>1.467434</td>\n",
              "      <td>0.396050</td>\n",
              "      <td>1.474093</td>\n",
              "      <td>0.3941</td>\n",
              "      <td>4</td>\n",
              "      <td>512_</td>\n",
              "    </tr>\n",
              "  </tbody>\n",
              "</table>\n",
              "</div>\n",
              "    <div class=\"colab-df-buttons\">\n",
              "\n",
              "  <div class=\"colab-df-container\">\n",
              "    <button class=\"colab-df-convert\" onclick=\"convertToInteractive('df-3afb96c7-b2d3-429e-ac11-fedb483b1426')\"\n",
              "            title=\"Convert this dataframe to an interactive table.\"\n",
              "            style=\"display:none;\">\n",
              "\n",
              "  <svg xmlns=\"http://www.w3.org/2000/svg\" height=\"24px\" viewBox=\"0 -960 960 960\">\n",
              "    <path d=\"M120-120v-720h720v720H120Zm60-500h600v-160H180v160Zm220 220h160v-160H400v160Zm0 220h160v-160H400v160ZM180-400h160v-160H180v160Zm440 0h160v-160H620v160ZM180-180h160v-160H180v160Zm440 0h160v-160H620v160Z\"/>\n",
              "  </svg>\n",
              "    </button>\n",
              "\n",
              "  <style>\n",
              "    .colab-df-container {\n",
              "      display:flex;\n",
              "      gap: 12px;\n",
              "    }\n",
              "\n",
              "    .colab-df-convert {\n",
              "      background-color: #E8F0FE;\n",
              "      border: none;\n",
              "      border-radius: 50%;\n",
              "      cursor: pointer;\n",
              "      display: none;\n",
              "      fill: #1967D2;\n",
              "      height: 32px;\n",
              "      padding: 0 0 0 0;\n",
              "      width: 32px;\n",
              "    }\n",
              "\n",
              "    .colab-df-convert:hover {\n",
              "      background-color: #E2EBFA;\n",
              "      box-shadow: 0px 1px 2px rgba(60, 64, 67, 0.3), 0px 1px 3px 1px rgba(60, 64, 67, 0.15);\n",
              "      fill: #174EA6;\n",
              "    }\n",
              "\n",
              "    .colab-df-buttons div {\n",
              "      margin-bottom: 4px;\n",
              "    }\n",
              "\n",
              "    [theme=dark] .colab-df-convert {\n",
              "      background-color: #3B4455;\n",
              "      fill: #D2E3FC;\n",
              "    }\n",
              "\n",
              "    [theme=dark] .colab-df-convert:hover {\n",
              "      background-color: #434B5C;\n",
              "      box-shadow: 0px 1px 3px 1px rgba(0, 0, 0, 0.15);\n",
              "      filter: drop-shadow(0px 1px 2px rgba(0, 0, 0, 0.3));\n",
              "      fill: #FFFFFF;\n",
              "    }\n",
              "  </style>\n",
              "\n",
              "    <script>\n",
              "      const buttonEl =\n",
              "        document.querySelector('#df-3afb96c7-b2d3-429e-ac11-fedb483b1426 button.colab-df-convert');\n",
              "      buttonEl.style.display =\n",
              "        google.colab.kernel.accessAllowed ? 'block' : 'none';\n",
              "\n",
              "      async function convertToInteractive(key) {\n",
              "        const element = document.querySelector('#df-3afb96c7-b2d3-429e-ac11-fedb483b1426');\n",
              "        const dataTable =\n",
              "          await google.colab.kernel.invokeFunction('convertToInteractive',\n",
              "                                                    [key], {});\n",
              "        if (!dataTable) return;\n",
              "\n",
              "        const docLinkHtml = 'Like what you see? Visit the ' +\n",
              "          '<a target=\"_blank\" href=https://colab.research.google.com/notebooks/data_table.ipynb>data table notebook</a>'\n",
              "          + ' to learn more about interactive tables.';\n",
              "        element.innerHTML = '';\n",
              "        dataTable['output_type'] = 'display_data';\n",
              "        await google.colab.output.renderOutput(dataTable, element);\n",
              "        const docLink = document.createElement('div');\n",
              "        docLink.innerHTML = docLinkHtml;\n",
              "        element.appendChild(docLink);\n",
              "      }\n",
              "    </script>\n",
              "  </div>\n",
              "\n",
              "\n",
              "<div id=\"df-ab86d801-b60d-4f03-ba5c-06be8b7bb095\">\n",
              "  <button class=\"colab-df-quickchart\" onclick=\"quickchart('df-ab86d801-b60d-4f03-ba5c-06be8b7bb095')\"\n",
              "            title=\"Suggest charts\"\n",
              "            style=\"display:none;\">\n",
              "\n",
              "<svg xmlns=\"http://www.w3.org/2000/svg\" height=\"24px\"viewBox=\"0 0 24 24\"\n",
              "     width=\"24px\">\n",
              "    <g>\n",
              "        <path d=\"M19 3H5c-1.1 0-2 .9-2 2v14c0 1.1.9 2 2 2h14c1.1 0 2-.9 2-2V5c0-1.1-.9-2-2-2zM9 17H7v-7h2v7zm4 0h-2V7h2v10zm4 0h-2v-4h2v4z\"/>\n",
              "    </g>\n",
              "</svg>\n",
              "  </button>\n",
              "\n",
              "<style>\n",
              "  .colab-df-quickchart {\n",
              "      --bg-color: #E8F0FE;\n",
              "      --fill-color: #1967D2;\n",
              "      --hover-bg-color: #E2EBFA;\n",
              "      --hover-fill-color: #174EA6;\n",
              "      --disabled-fill-color: #AAA;\n",
              "      --disabled-bg-color: #DDD;\n",
              "  }\n",
              "\n",
              "  [theme=dark] .colab-df-quickchart {\n",
              "      --bg-color: #3B4455;\n",
              "      --fill-color: #D2E3FC;\n",
              "      --hover-bg-color: #434B5C;\n",
              "      --hover-fill-color: #FFFFFF;\n",
              "      --disabled-bg-color: #3B4455;\n",
              "      --disabled-fill-color: #666;\n",
              "  }\n",
              "\n",
              "  .colab-df-quickchart {\n",
              "    background-color: var(--bg-color);\n",
              "    border: none;\n",
              "    border-radius: 50%;\n",
              "    cursor: pointer;\n",
              "    display: none;\n",
              "    fill: var(--fill-color);\n",
              "    height: 32px;\n",
              "    padding: 0;\n",
              "    width: 32px;\n",
              "  }\n",
              "\n",
              "  .colab-df-quickchart:hover {\n",
              "    background-color: var(--hover-bg-color);\n",
              "    box-shadow: 0 1px 2px rgba(60, 64, 67, 0.3), 0 1px 3px 1px rgba(60, 64, 67, 0.15);\n",
              "    fill: var(--button-hover-fill-color);\n",
              "  }\n",
              "\n",
              "  .colab-df-quickchart-complete:disabled,\n",
              "  .colab-df-quickchart-complete:disabled:hover {\n",
              "    background-color: var(--disabled-bg-color);\n",
              "    fill: var(--disabled-fill-color);\n",
              "    box-shadow: none;\n",
              "  }\n",
              "\n",
              "  .colab-df-spinner {\n",
              "    border: 2px solid var(--fill-color);\n",
              "    border-color: transparent;\n",
              "    border-bottom-color: var(--fill-color);\n",
              "    animation:\n",
              "      spin 1s steps(1) infinite;\n",
              "  }\n",
              "\n",
              "  @keyframes spin {\n",
              "    0% {\n",
              "      border-color: transparent;\n",
              "      border-bottom-color: var(--fill-color);\n",
              "      border-left-color: var(--fill-color);\n",
              "    }\n",
              "    20% {\n",
              "      border-color: transparent;\n",
              "      border-left-color: var(--fill-color);\n",
              "      border-top-color: var(--fill-color);\n",
              "    }\n",
              "    30% {\n",
              "      border-color: transparent;\n",
              "      border-left-color: var(--fill-color);\n",
              "      border-top-color: var(--fill-color);\n",
              "      border-right-color: var(--fill-color);\n",
              "    }\n",
              "    40% {\n",
              "      border-color: transparent;\n",
              "      border-right-color: var(--fill-color);\n",
              "      border-top-color: var(--fill-color);\n",
              "    }\n",
              "    60% {\n",
              "      border-color: transparent;\n",
              "      border-right-color: var(--fill-color);\n",
              "    }\n",
              "    80% {\n",
              "      border-color: transparent;\n",
              "      border-right-color: var(--fill-color);\n",
              "      border-bottom-color: var(--fill-color);\n",
              "    }\n",
              "    90% {\n",
              "      border-color: transparent;\n",
              "      border-bottom-color: var(--fill-color);\n",
              "    }\n",
              "  }\n",
              "</style>\n",
              "\n",
              "  <script>\n",
              "    async function quickchart(key) {\n",
              "      const quickchartButtonEl =\n",
              "        document.querySelector('#' + key + ' button');\n",
              "      quickchartButtonEl.disabled = true;  // To prevent multiple clicks.\n",
              "      quickchartButtonEl.classList.add('colab-df-spinner');\n",
              "      try {\n",
              "        const charts = await google.colab.kernel.invokeFunction(\n",
              "            'suggestCharts', [key], {});\n",
              "      } catch (error) {\n",
              "        console.error('Error during call to suggestCharts:', error);\n",
              "      }\n",
              "      quickchartButtonEl.classList.remove('colab-df-spinner');\n",
              "      quickchartButtonEl.classList.add('colab-df-quickchart-complete');\n",
              "    }\n",
              "    (() => {\n",
              "      let quickchartButtonEl =\n",
              "        document.querySelector('#df-ab86d801-b60d-4f03-ba5c-06be8b7bb095 button');\n",
              "      quickchartButtonEl.style.display =\n",
              "        google.colab.kernel.accessAllowed ? 'block' : 'none';\n",
              "    })();\n",
              "  </script>\n",
              "</div>\n",
              "\n",
              "  <div id=\"id_6e36e575-a81c-441d-956e-a187144257e4\">\n",
              "    <style>\n",
              "      .colab-df-generate {\n",
              "        background-color: #E8F0FE;\n",
              "        border: none;\n",
              "        border-radius: 50%;\n",
              "        cursor: pointer;\n",
              "        display: none;\n",
              "        fill: #1967D2;\n",
              "        height: 32px;\n",
              "        padding: 0 0 0 0;\n",
              "        width: 32px;\n",
              "      }\n",
              "\n",
              "      .colab-df-generate:hover {\n",
              "        background-color: #E2EBFA;\n",
              "        box-shadow: 0px 1px 2px rgba(60, 64, 67, 0.3), 0px 1px 3px 1px rgba(60, 64, 67, 0.15);\n",
              "        fill: #174EA6;\n",
              "      }\n",
              "\n",
              "      [theme=dark] .colab-df-generate {\n",
              "        background-color: #3B4455;\n",
              "        fill: #D2E3FC;\n",
              "      }\n",
              "\n",
              "      [theme=dark] .colab-df-generate:hover {\n",
              "        background-color: #434B5C;\n",
              "        box-shadow: 0px 1px 3px 1px rgba(0, 0, 0, 0.15);\n",
              "        filter: drop-shadow(0px 1px 2px rgba(0, 0, 0, 0.3));\n",
              "        fill: #FFFFFF;\n",
              "      }\n",
              "    </style>\n",
              "    <button class=\"colab-df-generate\" onclick=\"generateWithVariable('df')\"\n",
              "            title=\"Generate code using this dataframe.\"\n",
              "            style=\"display:none;\">\n",
              "\n",
              "  <svg xmlns=\"http://www.w3.org/2000/svg\" height=\"24px\"viewBox=\"0 0 24 24\"\n",
              "       width=\"24px\">\n",
              "    <path d=\"M7,19H8.4L18.45,9,17,7.55,7,17.6ZM5,21V16.75L18.45,3.32a2,2,0,0,1,2.83,0l1.4,1.43a1.91,1.91,0,0,1,.58,1.4,1.91,1.91,0,0,1-.58,1.4L9.25,21ZM18.45,9,17,7.55Zm-12,3A5.31,5.31,0,0,0,4.9,8.1,5.31,5.31,0,0,0,1,6.5,5.31,5.31,0,0,0,4.9,4.9,5.31,5.31,0,0,0,6.5,1,5.31,5.31,0,0,0,8.1,4.9,5.31,5.31,0,0,0,12,6.5,5.46,5.46,0,0,0,6.5,12Z\"/>\n",
              "  </svg>\n",
              "    </button>\n",
              "    <script>\n",
              "      (() => {\n",
              "      const buttonEl =\n",
              "        document.querySelector('#id_6e36e575-a81c-441d-956e-a187144257e4 button.colab-df-generate');\n",
              "      buttonEl.style.display =\n",
              "        google.colab.kernel.accessAllowed ? 'block' : 'none';\n",
              "\n",
              "      buttonEl.onclick = () => {\n",
              "        google.colab.notebook.generateWithVariable('df');\n",
              "      }\n",
              "      })();\n",
              "    </script>\n",
              "  </div>\n",
              "\n",
              "    </div>\n",
              "  </div>\n"
            ],
            "application/vnd.google.colaboratory.intrinsic+json": {
              "type": "dataframe",
              "variable_name": "df",
              "summary": "{\n  \"name\": \"df\",\n  \"rows\": 15,\n  \"fields\": [\n    {\n      \"column\": \"loss\",\n      \"properties\": {\n        \"dtype\": \"number\",\n        \"std\": 0.19809824487813213,\n        \"min\": 1.4674341678619385,\n        \"max\": 2.1211674213409424,\n        \"num_unique_values\": 15,\n        \"samples\": [\n          1.500795841217041,\n          1.4691874980926514,\n          2.1211674213409424\n        ],\n        \"semantic_type\": \"\",\n        \"description\": \"\"\n      }\n    },\n    {\n      \"column\": \"accuracy\",\n      \"properties\": {\n        \"dtype\": \"number\",\n        \"std\": 0.06398207237966433,\n        \"min\": 0.19688333570957184,\n        \"max\": 0.39640000462532043,\n        \"num_unique_values\": 15,\n        \"samples\": [\n          0.3777333199977875,\n          0.3954666554927826,\n          0.19688333570957184\n        ],\n        \"semantic_type\": \"\",\n        \"description\": \"\"\n      }\n    },\n    {\n      \"column\": \"val_loss\",\n      \"properties\": {\n        \"dtype\": \"number\",\n        \"std\": 0.15948673489063186,\n        \"min\": 1.4740930795669556,\n        \"max\": 1.9781274795532227,\n        \"num_unique_values\": 15,\n        \"samples\": [\n          1.5154591798782349,\n          1.4752379655838013,\n          1.9781274795532227\n        ],\n        \"semantic_type\": \"\",\n        \"description\": \"\"\n      }\n    },\n    {\n      \"column\": \"val_accuracy\",\n      \"properties\": {\n        \"dtype\": \"number\",\n        \"std\": 0.0583546897393799,\n        \"min\": 0.21950000524520874,\n        \"max\": 0.40059998631477356,\n        \"num_unique_values\": 15,\n        \"samples\": [\n          0.38420000672340393,\n          0.40059998631477356,\n          0.21950000524520874\n        ],\n        \"semantic_type\": \"\",\n        \"description\": \"\"\n      }\n    },\n    {\n      \"column\": \"epoch\",\n      \"properties\": {\n        \"dtype\": \"number\",\n        \"std\": 1,\n        \"min\": 0,\n        \"max\": 4,\n        \"num_unique_values\": 5,\n        \"samples\": [\n          1,\n          4,\n          2\n        ],\n        \"semantic_type\": \"\",\n        \"description\": \"\"\n      }\n    },\n    {\n      \"column\": \"Batch Size\",\n      \"properties\": {\n        \"dtype\": \"category\",\n        \"num_unique_values\": 3,\n        \"samples\": [\n          \"32_\",\n          \"8_\",\n          \"512_\"\n        ],\n        \"semantic_type\": \"\",\n        \"description\": \"\"\n      }\n    }\n  ]\n}"
            }
          },
          "metadata": {},
          "execution_count": 21
        }
      ],
      "source": [
        "import seaborn as sns\n",
        "import pandas as pd\n",
        "\n",
        "experiment_dfs = []\n",
        "\n",
        "for experiment, label in zip([bt_default, bt_small, bt_large], [\"32_\", \"8_\", \"512_\"]):\n",
        "\n",
        "    df = pd.DataFrame.from_dict(experiment.history)\n",
        "    df['epoch'] = df.index.values\n",
        "    df['Batch Size'] = label\n",
        "\n",
        "    # append to list of experiment data frames\n",
        "    experiment_dfs.append(df)\n",
        "\n",
        "df = pd.concat(experiment_dfs,ignore_index=True)\n",
        "df['Batch Size'] = df['Batch Size'].astype('str')\n",
        "df"
      ]
    },
    {
      "cell_type": "code",
      "execution_count": 22,
      "metadata": {
        "colab": {
          "base_uri": "https://localhost:8080/",
          "height": 449
        },
        "id": "Dlg9uSEEmIJB",
        "outputId": "1562ac66-66de-4344-fb4b-88ad1efcb813"
      },
      "outputs": [
        {
          "output_type": "display_data",
          "data": {
            "text/plain": [
              "<Figure size 640x480 with 1 Axes>"
            ],
            "image/png": "[encoded data removed]"
          },
          "metadata": {}
        }
      ],
      "source": [
        "sns.lineplot(x='epoch', y='val_accuracy', hue='Batch Size', data=df);\n",
        "plt.grid()"
      ]
    },
    {
      "cell_type": "code",
      "execution_count": 23,
      "metadata": {
        "colab": {
          "base_uri": "https://localhost:8080/",
          "height": 453
        },
        "id": "94bJYgz3nkp0",
        "outputId": "895cd631-e896-4a33-b1e5-7b2beae0f4a3"
      },
      "outputs": [
        {
          "output_type": "display_data",
          "data": {
            "text/plain": [
              "<Figure size 640x480 with 1 Axes>"
            ],
            "image/png": "[encoded data removed]"
          },
          "metadata": {}
        }
      ],
      "source": [
        "sns.lineplot(x='epoch', y='val_loss', hue='Batch Size', data=df);\n",
        "plt.grid()"
      ]
    },
    {
      "cell_type": "markdown",
      "metadata": {
        "id": "4kZ2vUYYgclS"
      },
      "source": [
        "## Challenge\n",
        "\n",
        "You will be expected to experiment with batch size on today's assignment."
      ]
    },
    {
      "cell_type": "markdown",
      "metadata": {
        "id": "46cP9Pm_gclS"
      },
      "source": [
        "# 3. The Effect of the Learning Rate Hyperparameter on Neural Network Training (Learn)"
      ]
    },
    {
      "cell_type": "markdown",
      "metadata": {
        "id": "SXBoghYG9G5A"
      },
      "source": [
        "![](https://www.jeremyjordan.me/content/images/2018/02/Screen-Shot-2018-02-24-at-11.47.09-AM.png)"
      ]
    },
    {
      "cell_type": "markdown",
      "metadata": {
        "id": "Bna67ADZgclT",
        "toc-hr-collapsed": true
      },
      "source": [
        "## 3.1 Overview\n",
        "\n",
        "Learning Rate controls the size of the update to our weights that the optimization algorithm makes. VERY IMPORTANT hyperparameter.\n",
        "\n",
        "* If the learning rate is too high, the model will not find the minimum\n",
        "* If the learning rate is too low, the model will underfit or take too long to converge\n",
        "* Goldilocks learning rate is \"just right\", the model converges rapidly\n",
        "* Scale of 0-1"
      ]
    },
    {
      "cell_type": "markdown",
      "metadata": {
        "id": "gsVYOn7bgcle",
        "toc-hr-collapsed": true
      },
      "source": [
        "## 3.2 Experiments to gauge the effect of learning rate (Follow Along)\n",
        "\n",
        "Try experiments with same Batch Size = 32 but different Learning Rates:\n",
        "* High Learning Rate = .75\n",
        "* Default Learning Rate = .01\n",
        "* Low Learning Rate = .0001"
      ]
    },
    {
      "cell_type": "markdown",
      "metadata": {
        "id": "CI_H8Em1NOii"
      },
      "source": [
        "### 3.2.1 Default Learning Rate"
      ]
    },
    {
      "cell_type": "code",
      "execution_count": 24,
      "metadata": {
        "colab": {
          "base_uri": "https://localhost:8080/"
        },
        "id": "Se8cb_ZUNVtL",
        "outputId": "3e46c7f5-a8f9-4706-c118-ae5c2f351291"
      },
      "outputs": [
        {
          "output_type": "stream",
          "name": "stdout",
          "text": [
            "Epoch 1/5\n",
            "1875/1875 [==============================] - 7s 3ms/step - loss: 1.9838 - accuracy: 0.2126 - val_loss: 1.8681 - val_accuracy: 0.2377\n",
            "Epoch 2/5\n",
            "1875/1875 [==============================] - 6s 3ms/step - loss: 1.8310 - accuracy: 0.2499 - val_loss: 1.7992 - val_accuracy: 0.2586\n",
            "Epoch 3/5\n",
            "1875/1875 [==============================] - 6s 3ms/step - loss: 1.7745 - accuracy: 0.2735 - val_loss: 1.7589 - val_accuracy: 0.2723\n",
            "Epoch 4/5\n",
            "1875/1875 [==============================] - 6s 3ms/step - loss: 1.7352 - accuracy: 0.2920 - val_loss: 1.7268 - val_accuracy: 0.2962\n",
            "Epoch 5/5\n",
            "1875/1875 [==============================] - 6s 3ms/step - loss: 1.7042 - accuracy: 0.3102 - val_loss: 1.7005 - val_accuracy: 0.3189\n"
          ]
        }
      ],
      "source": [
        "# instantiate a model and fit it with a learning rate value of 0.01\n",
        "model = create_model(lr=.01)\n",
        "lr_default = model.fit(X_train, y_train, batch_size=32, validation_data=(X_test, y_test), epochs=5)"
      ]
    },
    {
      "cell_type": "markdown",
      "metadata": {
        "id": "IQZ4SZdKNMRO"
      },
      "source": [
        "### 3.2.2 High Learning Rate"
      ]
    },
    {
      "cell_type": "code",
      "execution_count": 25,
      "metadata": {
        "colab": {
          "base_uri": "https://localhost:8080/"
        },
        "id": "Ny72mU_dNWMR",
        "outputId": "9c64ea09-0b52-453d-e0e6-6cf1a65f0709"
      },
      "outputs": [
        {
          "output_type": "stream",
          "name": "stdout",
          "text": [
            "Epoch 1/5\n",
            "1875/1875 [==============================] - 7s 4ms/step - loss: 2.3055 - accuracy: 0.1035 - val_loss: 2.3035 - val_accuracy: 0.1032\n",
            "Epoch 2/5\n",
            "1875/1875 [==============================] - 9s 5ms/step - loss: 2.3066 - accuracy: 0.1068 - val_loss: 2.3028 - val_accuracy: 0.1028\n",
            "Epoch 3/5\n",
            "1875/1875 [==============================] - 7s 4ms/step - loss: 2.3064 - accuracy: 0.1064 - val_loss: 2.3078 - val_accuracy: 0.0958\n",
            "Epoch 4/5\n",
            "1875/1875 [==============================] - 6s 3ms/step - loss: 2.3065 - accuracy: 0.1052 - val_loss: 2.3031 - val_accuracy: 0.1135\n",
            "Epoch 5/5\n",
            "1875/1875 [==============================] - 7s 4ms/step - loss: 2.3068 - accuracy: 0.1037 - val_loss: 2.3038 - val_accuracy: 0.0892\n"
          ]
        }
      ],
      "source": [
        "# instantiate a model and fit it with a learning rate value of 0.75\n",
        "model = create_model(lr=0.75)\n",
        "lr_high = model.fit(X_train, y_train, batch_size=32, validation_data=(X_test, y_test), epochs=5)"
      ]
    },
    {
      "cell_type": "markdown",
      "metadata": {
        "id": "kAqDmTVBNSMR"
      },
      "source": [
        "### 3.2.3 Low Learning Rate"
      ]
    },
    {
      "cell_type": "code",
      "execution_count": 26,
      "metadata": {
        "colab": {
          "base_uri": "https://localhost:8080/"
        },
        "id": "Ech1ER64NXBn",
        "jupyter": {
          "outputs_hidden": true
        },
        "outputId": "0cb6d543-7b61-45dd-c00c-2f4ec8c302c6"
      },
      "outputs": [
        {
          "output_type": "stream",
          "name": "stdout",
          "text": [
            "Epoch 1/5\n",
            "1875/1875 [==============================] - 7s 4ms/step - loss: 2.3025 - accuracy: 0.0945 - val_loss: 2.3026 - val_accuracy: 0.0959\n",
            "Epoch 2/5\n",
            "1875/1875 [==============================] - 6s 3ms/step - loss: 2.3024 - accuracy: 0.0971 - val_loss: 2.3025 - val_accuracy: 0.0979\n",
            "Epoch 3/5\n",
            "1875/1875 [==============================] - 6s 3ms/step - loss: 2.3023 - accuracy: 0.0997 - val_loss: 2.3023 - val_accuracy: 0.0999\n",
            "Epoch 4/5\n",
            "1875/1875 [==============================] - 6s 3ms/step - loss: 2.3022 - accuracy: 0.1019 - val_loss: 2.3022 - val_accuracy: 0.1021\n",
            "Epoch 5/5\n",
            "1875/1875 [==============================] - 7s 3ms/step - loss: 2.3021 - accuracy: 0.1039 - val_loss: 2.3021 - val_accuracy: 0.1041\n"
          ]
        }
      ],
      "source": [
        "# instantiate a model and fit it with a learning rate value of 0.0001\n",
        "model = create_model(lr=0.0001)\n",
        "lr_low = model.fit(X_train, y_train, batch_size=32, validation_data=(X_test, y_test), epochs=5)"
      ]
    },
    {
      "cell_type": "markdown",
      "metadata": {
        "id": "sZe6DyhANXdU"
      },
      "source": [
        "### 3.2.4 Visualize Results"
      ]
    },
    {
      "cell_type": "code",
      "execution_count": 27,
      "metadata": {
        "colab": {
          "base_uri": "https://localhost:8080/",
          "height": 520
        },
        "id": "Bn-BdFdMNph-",
        "outputId": "ebf9abdf-030a-4adc-f555-fa86bd2cef40"
      },
      "outputs": [
        {
          "output_type": "execute_result",
          "data": {
            "text/plain": [
              "        loss  accuracy  val_loss  val_accuracy  epoch Learning Rate\n",
              "0   1.983781  0.212567  1.868110        0.2377      0          .01_\n",
              "1   1.830957  0.249883  1.799209        0.2586      1          .01_\n",
              "2   1.774509  0.273483  1.758898        0.2723      2          .01_\n",
              "3   1.735151  0.292000  1.726818        0.2962      3          .01_\n",
              "4   1.704172  0.310233  1.700450        0.3189      4          .01_\n",
              "5   2.302513  0.094500  2.302577        0.0959      0        .0001_\n",
              "6   2.302391  0.097117  2.302454        0.0979      1        .0001_\n",
              "7   2.302279  0.099700  2.302338        0.0999      2        .0001_\n",
              "8   2.302171  0.101883  2.302227        0.1021      3        .0001_\n",
              "9   2.302070  0.103867  2.302122        0.1041      4        .0001_\n",
              "10  2.305484  0.103483  2.303485        0.1032      0          .75_\n",
              "11  2.306557  0.106767  2.302792        0.1028      1          .75_\n",
              "12  2.306392  0.106433  2.307846        0.0958      2          .75_\n",
              "13  2.306533  0.105200  2.303060        0.1135      3          .75_\n",
              "14  2.306840  0.103717  2.303755        0.0892      4          .75_"
            ],
            "text/html": [
              "\n",
              "  <div id=\"df-71afcb68-098f-462f-8fce-3d36392dd792\" class=\"colab-df-container\">\n",
              "    <div>\n",
              "<style scoped>\n",
              "    .dataframe tbody tr th:only-of-type {\n",
              "        vertical-align: middle;\n",
              "    }\n",
              "\n",
              "    .dataframe tbody tr th {\n",
              "        vertical-align: top;\n",
              "    }\n",
              "\n",
              "    .dataframe thead th {\n",
              "        text-align: right;\n",
              "    }\n",
              "</style>\n",
              "<table border=\"1\" class=\"dataframe\">\n",
              "  <thead>\n",
              "    <tr style=\"text-align: right;\">\n",
              "      <th></th>\n",
              "      <th>loss</th>\n",
              "      <th>accuracy</th>\n",
              "      <th>val_loss</th>\n",
              "      <th>val_accuracy</th>\n",
              "      <th>epoch</th>\n",
              "      <th>Learning Rate</th>\n",
              "    </tr>\n",
              "  </thead>\n",
              "  <tbody>\n",
              "    <tr>\n",
              "      <th>0</th>\n",
              "      <td>1.983781</td>\n",
              "      <td>0.212567</td>\n",
              "      <td>1.868110</td>\n",
              "      <td>0.2377</td>\n",
              "      <td>0</td>\n",
              "      <td>.01_</td>\n",
              "    </tr>\n",
              "    <tr>\n",
              "      <th>1</th>\n",
              "      <td>1.830957</td>\n",
              "      <td>0.249883</td>\n",
              "      <td>1.799209</td>\n",
              "      <td>0.2586</td>\n",
              "      <td>1</td>\n",
              "      <td>.01_</td>\n",
              "    </tr>\n",
              "    <tr>\n",
              "      <th>2</th>\n",
              "      <td>1.774509</td>\n",
              "      <td>0.273483</td>\n",
              "      <td>1.758898</td>\n",
              "      <td>0.2723</td>\n",
              "      <td>2</td>\n",
              "      <td>.01_</td>\n",
              "    </tr>\n",
              "    <tr>\n",
              "      <th>3</th>\n",
              "      <td>1.735151</td>\n",
              "      <td>0.292000</td>\n",
              "      <td>1.726818</td>\n",
              "      <td>0.2962</td>\n",
              "      <td>3</td>\n",
              "      <td>.01_</td>\n",
              "    </tr>\n",
              "    <tr>\n",
              "      <th>4</th>\n",
              "      <td>1.704172</td>\n",
              "      <td>0.310233</td>\n",
              "      <td>1.700450</td>\n",
              "      <td>0.3189</td>\n",
              "      <td>4</td>\n",
              "      <td>.01_</td>\n",
              "    </tr>\n",
              "    <tr>\n",
              "      <th>5</th>\n",
              "      <td>2.302513</td>\n",
              "      <td>0.094500</td>\n",
              "      <td>2.302577</td>\n",
              "      <td>0.0959</td>\n",
              "      <td>0</td>\n",
              "      <td>.0001_</td>\n",
              "    </tr>\n",
              "    <tr>\n",
              "      <th>6</th>\n",
              "      <td>2.302391</td>\n",
              "      <td>0.097117</td>\n",
              "      <td>2.302454</td>\n",
              "      <td>0.0979</td>\n",
              "      <td>1</td>\n",
              "      <td>.0001_</td>\n",
              "    </tr>\n",
              "    <tr>\n",
              "      <th>7</th>\n",
              "      <td>2.302279</td>\n",
              "      <td>0.099700</td>\n",
              "      <td>2.302338</td>\n",
              "      <td>0.0999</td>\n",
              "      <td>2</td>\n",
              "      <td>.0001_</td>\n",
              "    </tr>\n",
              "    <tr>\n",
              "      <th>8</th>\n",
              "      <td>2.302171</td>\n",
              "      <td>0.101883</td>\n",
              "      <td>2.302227</td>\n",
              "      <td>0.1021</td>\n",
              "      <td>3</td>\n",
              "      <td>.0001_</td>\n",
              "    </tr>\n",
              "    <tr>\n",
              "      <th>9</th>\n",
              "      <td>2.302070</td>\n",
              "      <td>0.103867</td>\n",
              "      <td>2.302122</td>\n",
              "      <td>0.1041</td>\n",
              "      <td>4</td>\n",
              "      <td>.0001_</td>\n",
              "    </tr>\n",
              "    <tr>\n",
              "      <th>10</th>\n",
              "      <td>2.305484</td>\n",
              "      <td>0.103483</td>\n",
              "      <td>2.303485</td>\n",
              "      <td>0.1032</td>\n",
              "      <td>0</td>\n",
              "      <td>.75_</td>\n",
              "    </tr>\n",
              "    <tr>\n",
              "      <th>11</th>\n",
              "      <td>2.306557</td>\n",
              "      <td>0.106767</td>\n",
              "      <td>2.302792</td>\n",
              "      <td>0.1028</td>\n",
              "      <td>1</td>\n",
              "      <td>.75_</td>\n",
              "    </tr>\n",
              "    <tr>\n",
              "      <th>12</th>\n",
              "      <td>2.306392</td>\n",
              "      <td>0.106433</td>\n",
              "      <td>2.307846</td>\n",
              "      <td>0.0958</td>\n",
              "      <td>2</td>\n",
              "      <td>.75_</td>\n",
              "    </tr>\n",
              "    <tr>\n",
              "      <th>13</th>\n",
              "      <td>2.306533</td>\n",
              "      <td>0.105200</td>\n",
              "      <td>2.303060</td>\n",
              "      <td>0.1135</td>\n",
              "      <td>3</td>\n",
              "      <td>.75_</td>\n",
              "    </tr>\n",
              "    <tr>\n",
              "      <th>14</th>\n",
              "      <td>2.306840</td>\n",
              "      <td>0.103717</td>\n",
              "      <td>2.303755</td>\n",
              "      <td>0.0892</td>\n",
              "      <td>4</td>\n",
              "      <td>.75_</td>\n",
              "    </tr>\n",
              "  </tbody>\n",
              "</table>\n",
              "</div>\n",
              "    <div class=\"colab-df-buttons\">\n",
              "\n",
              "  <div class=\"colab-df-container\">\n",
              "    <button class=\"colab-df-convert\" onclick=\"convertToInteractive('df-71afcb68-098f-462f-8fce-3d36392dd792')\"\n",
              "            title=\"Convert this dataframe to an interactive table.\"\n",
              "            style=\"display:none;\">\n",
              "\n",
              "  <svg xmlns=\"http://www.w3.org/2000/svg\" height=\"24px\" viewBox=\"0 -960 960 960\">\n",
              "    <path d=\"M120-120v-720h720v720H120Zm60-500h600v-160H180v160Zm220 220h160v-160H400v160Zm0 220h160v-160H400v160ZM180-400h160v-160H180v160Zm440 0h160v-160H620v160ZM180-180h160v-160H180v160Zm440 0h160v-160H620v160Z\"/>\n",
              "  </svg>\n",
              "    </button>\n",
              "\n",
              "  <style>\n",
              "    .colab-df-container {\n",
              "      display:flex;\n",
              "      gap: 12px;\n",
              "    }\n",
              "\n",
              "    .colab-df-convert {\n",
              "      background-color: #E8F0FE;\n",
              "      border: none;\n",
              "      border-radius: 50%;\n",
              "      cursor: pointer;\n",
              "      display: none;\n",
              "      fill: #1967D2;\n",
              "      height: 32px;\n",
              "      padding: 0 0 0 0;\n",
              "      width: 32px;\n",
              "    }\n",
              "\n",
              "    .colab-df-convert:hover {\n",
              "      background-color: #E2EBFA;\n",
              "      box-shadow: 0px 1px 2px rgba(60, 64, 67, 0.3), 0px 1px 3px 1px rgba(60, 64, 67, 0.15);\n",
              "      fill: #174EA6;\n",
              "    }\n",
              "\n",
              "    .colab-df-buttons div {\n",
              "      margin-bottom: 4px;\n",
              "    }\n",
              "\n",
              "    [theme=dark] .colab-df-convert {\n",
              "      background-color: #3B4455;\n",
              "      fill: #D2E3FC;\n",
              "    }\n",
              "\n",
              "    [theme=dark] .colab-df-convert:hover {\n",
              "      background-color: #434B5C;\n",
              "      box-shadow: 0px 1px 3px 1px rgba(0, 0, 0, 0.15);\n",
              "      filter: drop-shadow(0px 1px 2px rgba(0, 0, 0, 0.3));\n",
              "      fill: #FFFFFF;\n",
              "    }\n",
              "  </style>\n",
              "\n",
              "    <script>\n",
              "      const buttonEl =\n",
              "        document.querySelector('#df-71afcb68-098f-462f-8fce-3d36392dd792 button.colab-df-convert');\n",
              "      buttonEl.style.display =\n",
              "        google.colab.kernel.accessAllowed ? 'block' : 'none';\n",
              "\n",
              "      async function convertToInteractive(key) {\n",
              "        const element = document.querySelector('#df-71afcb68-098f-462f-8fce-3d36392dd792');\n",
              "        const dataTable =\n",
              "          await google.colab.kernel.invokeFunction('convertToInteractive',\n",
              "                                                    [key], {});\n",
              "        if (!dataTable) return;\n",
              "\n",
              "        const docLinkHtml = 'Like what you see? Visit the ' +\n",
              "          '<a target=\"_blank\" href=https://colab.research.google.com/notebooks/data_table.ipynb>data table notebook</a>'\n",
              "          + ' to learn more about interactive tables.';\n",
              "        element.innerHTML = '';\n",
              "        dataTable['output_type'] = 'display_data';\n",
              "        await google.colab.output.renderOutput(dataTable, element);\n",
              "        const docLink = document.createElement('div');\n",
              "        docLink.innerHTML = docLinkHtml;\n",
              "        element.appendChild(docLink);\n",
              "      }\n",
              "    </script>\n",
              "  </div>\n",
              "\n",
              "\n",
              "<div id=\"df-ee348fbd-7a81-42a3-bd77-0e8fc0c7dfac\">\n",
              "  <button class=\"colab-df-quickchart\" onclick=\"quickchart('df-ee348fbd-7a81-42a3-bd77-0e8fc0c7dfac')\"\n",
              "            title=\"Suggest charts\"\n",
              "            style=\"display:none;\">\n",
              "\n",
              "<svg xmlns=\"http://www.w3.org/2000/svg\" height=\"24px\"viewBox=\"0 0 24 24\"\n",
              "     width=\"24px\">\n",
              "    <g>\n",
              "        <path d=\"M19 3H5c-1.1 0-2 .9-2 2v14c0 1.1.9 2 2 2h14c1.1 0 2-.9 2-2V5c0-1.1-.9-2-2-2zM9 17H7v-7h2v7zm4 0h-2V7h2v10zm4 0h-2v-4h2v4z\"/>\n",
              "    </g>\n",
              "</svg>\n",
              "  </button>\n",
              "\n",
              "<style>\n",
              "  .colab-df-quickchart {\n",
              "      --bg-color: #E8F0FE;\n",
              "      --fill-color: #1967D2;\n",
              "      --hover-bg-color: #E2EBFA;\n",
              "      --hover-fill-color: #174EA6;\n",
              "      --disabled-fill-color: #AAA;\n",
              "      --disabled-bg-color: #DDD;\n",
              "  }\n",
              "\n",
              "  [theme=dark] .colab-df-quickchart {\n",
              "      --bg-color: #3B4455;\n",
              "      --fill-color: #D2E3FC;\n",
              "      --hover-bg-color: #434B5C;\n",
              "      --hover-fill-color: #FFFFFF;\n",
              "      --disabled-bg-color: #3B4455;\n",
              "      --disabled-fill-color: #666;\n",
              "  }\n",
              "\n",
              "  .colab-df-quickchart {\n",
              "    background-color: var(--bg-color);\n",
              "    border: none;\n",
              "    border-radius: 50%;\n",
              "    cursor: pointer;\n",
              "    display: none;\n",
              "    fill: var(--fill-color);\n",
              "    height: 32px;\n",
              "    padding: 0;\n",
              "    width: 32px;\n",
              "  }\n",
              "\n",
              "  .colab-df-quickchart:hover {\n",
              "    background-color: var(--hover-bg-color);\n",
              "    box-shadow: 0 1px 2px rgba(60, 64, 67, 0.3), 0 1px 3px 1px rgba(60, 64, 67, 0.15);\n",
              "    fill: var(--button-hover-fill-color);\n",
              "  }\n",
              "\n",
              "  .colab-df-quickchart-complete:disabled,\n",
              "  .colab-df-quickchart-complete:disabled:hover {\n",
              "    background-color: var(--disabled-bg-color);\n",
              "    fill: var(--disabled-fill-color);\n",
              "    box-shadow: none;\n",
              "  }\n",
              "\n",
              "  .colab-df-spinner {\n",
              "    border: 2px solid var(--fill-color);\n",
              "    border-color: transparent;\n",
              "    border-bottom-color: var(--fill-color);\n",
              "    animation:\n",
              "      spin 1s steps(1) infinite;\n",
              "  }\n",
              "\n",
              "  @keyframes spin {\n",
              "    0% {\n",
              "      border-color: transparent;\n",
              "      border-bottom-color: var(--fill-color);\n",
              "      border-left-color: var(--fill-color);\n",
              "    }\n",
              "    20% {\n",
              "      border-color: transparent;\n",
              "      border-left-color: var(--fill-color);\n",
              "      border-top-color: var(--fill-color);\n",
              "    }\n",
              "    30% {\n",
              "      border-color: transparent;\n",
              "      border-left-color: var(--fill-color);\n",
              "      border-top-color: var(--fill-color);\n",
              "      border-right-color: var(--fill-color);\n",
              "    }\n",
              "    40% {\n",
              "      border-color: transparent;\n",
              "      border-right-color: var(--fill-color);\n",
              "      border-top-color: var(--fill-color);\n",
              "    }\n",
              "    60% {\n",
              "      border-color: transparent;\n",
              "      border-right-color: var(--fill-color);\n",
              "    }\n",
              "    80% {\n",
              "      border-color: transparent;\n",
              "      border-right-color: var(--fill-color);\n",
              "      border-bottom-color: var(--fill-color);\n",
              "    }\n",
              "    90% {\n",
              "      border-color: transparent;\n",
              "      border-bottom-color: var(--fill-color);\n",
              "    }\n",
              "  }\n",
              "</style>\n",
              "\n",
              "  <script>\n",
              "    async function quickchart(key) {\n",
              "      const quickchartButtonEl =\n",
              "        document.querySelector('#' + key + ' button');\n",
              "      quickchartButtonEl.disabled = true;  // To prevent multiple clicks.\n",
              "      quickchartButtonEl.classList.add('colab-df-spinner');\n",
              "      try {\n",
              "        const charts = await google.colab.kernel.invokeFunction(\n",
              "            'suggestCharts', [key], {});\n",
              "      } catch (error) {\n",
              "        console.error('Error during call to suggestCharts:', error);\n",
              "      }\n",
              "      quickchartButtonEl.classList.remove('colab-df-spinner');\n",
              "      quickchartButtonEl.classList.add('colab-df-quickchart-complete');\n",
              "    }\n",
              "    (() => {\n",
              "      let quickchartButtonEl =\n",
              "        document.querySelector('#df-ee348fbd-7a81-42a3-bd77-0e8fc0c7dfac button');\n",
              "      quickchartButtonEl.style.display =\n",
              "        google.colab.kernel.accessAllowed ? 'block' : 'none';\n",
              "    })();\n",
              "  </script>\n",
              "</div>\n",
              "\n",
              "  <div id=\"id_e4725b93-fffc-402b-acb8-c36398be75f5\">\n",
              "    <style>\n",
              "      .colab-df-generate {\n",
              "        background-color: #E8F0FE;\n",
              "        border: none;\n",
              "        border-radius: 50%;\n",
              "        cursor: pointer;\n",
              "        display: none;\n",
              "        fill: #1967D2;\n",
              "        height: 32px;\n",
              "        padding: 0 0 0 0;\n",
              "        width: 32px;\n",
              "      }\n",
              "\n",
              "      .colab-df-generate:hover {\n",
              "        background-color: #E2EBFA;\n",
              "        box-shadow: 0px 1px 2px rgba(60, 64, 67, 0.3), 0px 1px 3px 1px rgba(60, 64, 67, 0.15);\n",
              "        fill: #174EA6;\n",
              "      }\n",
              "\n",
              "      [theme=dark] .colab-df-generate {\n",
              "        background-color: #3B4455;\n",
              "        fill: #D2E3FC;\n",
              "      }\n",
              "\n",
              "      [theme=dark] .colab-df-generate:hover {\n",
              "        background-color: #434B5C;\n",
              "        box-shadow: 0px 1px 3px 1px rgba(0, 0, 0, 0.15);\n",
              "        filter: drop-shadow(0px 1px 2px rgba(0, 0, 0, 0.3));\n",
              "        fill: #FFFFFF;\n",
              "      }\n",
              "    </style>\n",
              "    <button class=\"colab-df-generate\" onclick=\"generateWithVariable('df')\"\n",
              "            title=\"Generate code using this dataframe.\"\n",
              "            style=\"display:none;\">\n",
              "\n",
              "  <svg xmlns=\"http://www.w3.org/2000/svg\" height=\"24px\"viewBox=\"0 0 24 24\"\n",
              "       width=\"24px\">\n",
              "    <path d=\"M7,19H8.4L18.45,9,17,7.55,7,17.6ZM5,21V16.75L18.45,3.32a2,2,0,0,1,2.83,0l1.4,1.43a1.91,1.91,0,0,1,.58,1.4,1.91,1.91,0,0,1-.58,1.4L9.25,21ZM18.45,9,17,7.55Zm-12,3A5.31,5.31,0,0,0,4.9,8.1,5.31,5.31,0,0,0,1,6.5,5.31,5.31,0,0,0,4.9,4.9,5.31,5.31,0,0,0,6.5,1,5.31,5.31,0,0,0,8.1,4.9,5.31,5.31,0,0,0,12,6.5,5.46,5.46,0,0,0,6.5,12Z\"/>\n",
              "  </svg>\n",
              "    </button>\n",
              "    <script>\n",
              "      (() => {\n",
              "      const buttonEl =\n",
              "        document.querySelector('#id_e4725b93-fffc-402b-acb8-c36398be75f5 button.colab-df-generate');\n",
              "      buttonEl.style.display =\n",
              "        google.colab.kernel.accessAllowed ? 'block' : 'none';\n",
              "\n",
              "      buttonEl.onclick = () => {\n",
              "        google.colab.notebook.generateWithVariable('df');\n",
              "      }\n",
              "      })();\n",
              "    </script>\n",
              "  </div>\n",
              "\n",
              "    </div>\n",
              "  </div>\n"
            ],
            "application/vnd.google.colaboratory.intrinsic+json": {
              "type": "dataframe",
              "variable_name": "df",
              "summary": "{\n  \"name\": \"df\",\n  \"rows\": 15,\n  \"fields\": [\n    {\n      \"column\": \"loss\",\n      \"properties\": {\n        \"dtype\": \"number\",\n        \"std\": 0.2503362633361046,\n        \"min\": 1.7041717767715454,\n        \"max\": 2.306839942932129,\n        \"num_unique_values\": 15,\n        \"samples\": [\n          2.302070140838623,\n          2.3065571784973145,\n          1.983781099319458\n        ],\n        \"semantic_type\": \"\",\n        \"description\": \"\"\n      }\n    },\n    {\n      \"column\": \"accuracy\",\n      \"properties\": {\n        \"dtype\": \"number\",\n        \"std\": 0.0832765767396801,\n        \"min\": 0.09449999779462814,\n        \"max\": 0.31023332476615906,\n        \"num_unique_values\": 15,\n        \"samples\": [\n          0.10386666655540466,\n          0.10676666349172592,\n          0.21256667375564575\n        ],\n        \"semantic_type\": \"\",\n        \"description\": \"\"\n      }\n    },\n    {\n      \"column\": \"val_loss\",\n      \"properties\": {\n        \"dtype\": \"number\",\n        \"std\": 0.26223735579200697,\n        \"min\": 1.7004504203796387,\n        \"max\": 2.3078455924987793,\n        \"num_unique_values\": 15,\n        \"samples\": [\n          2.302121639251709,\n          2.3027918338775635,\n          1.8681098222732544\n        ],\n        \"semantic_type\": \"\",\n        \"description\": \"\"\n      }\n    },\n    {\n      \"column\": \"val_accuracy\",\n      \"properties\": {\n        \"dtype\": \"number\",\n        \"std\": 0.08783499515689373,\n        \"min\": 0.08919999748468399,\n        \"max\": 0.3188999891281128,\n        \"num_unique_values\": 15,\n        \"samples\": [\n          0.10409999638795853,\n          0.10279999673366547,\n          0.23770000040531158\n        ],\n        \"semantic_type\": \"\",\n        \"description\": \"\"\n      }\n    },\n    {\n      \"column\": \"epoch\",\n      \"properties\": {\n        \"dtype\": \"number\",\n        \"std\": 1,\n        \"min\": 0,\n        \"max\": 4,\n        \"num_unique_values\": 5,\n        \"samples\": [\n          1,\n          4,\n          2\n        ],\n        \"semantic_type\": \"\",\n        \"description\": \"\"\n      }\n    },\n    {\n      \"column\": \"Learning Rate\",\n      \"properties\": {\n        \"dtype\": \"category\",\n        \"num_unique_values\": 3,\n        \"samples\": [\n          \".01_\",\n          \".0001_\",\n          \".75_\"\n        ],\n        \"semantic_type\": \"\",\n        \"description\": \"\"\n      }\n    }\n  ]\n}"
            }
          },
          "metadata": {},
          "execution_count": 27
        }
      ],
      "source": [
        "import seaborn as sns\n",
        "import pandas as pd\n",
        "\n",
        "experiments = []\n",
        "\n",
        "for experiment, label in zip([lr_default, lr_low, lr_high], [\".01_\", \".0001_\", \".75_\"]):\n",
        "\n",
        "    df = pd.DataFrame.from_dict(experiment.history)\n",
        "    df['epoch'] = df.index.values\n",
        "    df['Learning Rate'] = label\n",
        "\n",
        "    experiments.append(df)\n",
        "\n",
        "df = pd.concat(experiments,ignore_index=True)\n",
        "df['Learning Rate'] = df['Learning Rate'].astype('str')\n",
        "df"
      ]
    },
    {
      "cell_type": "code",
      "execution_count": 28,
      "metadata": {
        "colab": {
          "base_uri": "https://localhost:8080/",
          "height": 449
        },
        "id": "QgDX7htLpTlQ",
        "outputId": "131d10bc-0670-4c75-8ec9-6e9b453bb5e8"
      },
      "outputs": [
        {
          "output_type": "display_data",
          "data": {
            "text/plain": [
              "<Figure size 640x480 with 1 Axes>"
            ],
            "image/png": "[encoded data removed]"
          },
          "metadata": {}
        }
      ],
      "source": [
        "sns.lineplot(x='epoch', y='val_loss', hue='Learning Rate', data=df);\n",
        "plt.grid()"
      ]
    },
    {
      "cell_type": "code",
      "execution_count": 29,
      "metadata": {
        "colab": {
          "base_uri": "https://localhost:8080/",
          "height": 449
        },
        "id": "D8GPXqf_qGs9",
        "outputId": "580b4290-d357-4468-e913-63ad8fe2b817"
      },
      "outputs": [
        {
          "output_type": "display_data",
          "data": {
            "text/plain": [
              "<Figure size 640x480 with 1 Axes>"
            ],
            "image/png": "[encoded data removed]"
          },
          "metadata": {}
        }
      ],
      "source": [
        "sns.lineplot(x='epoch', y='val_accuracy', hue='Learning Rate', data=df);\n",
        "plt.grid()"
      ]
    },
    {
      "cell_type": "markdown",
      "metadata": {
        "id": "Hp1jHQ95swhy"
      },
      "source": [
        "##3.3 Learning Rate Scheduler Callback\n",
        "A great way to tune the learning rate is to use a learning rate scheduler, which adjusts the learning rate at each epoch according to a user-supplied \"schedule\". We'll show how to introduce an exponentially increasing schedule.\n",
        "The idea is you do a trial run with the scheduler, plot the loss vs. epoch, and choose a good learning rate by inspecting the plot. <br>_Rule of thumb: choose a learning rate that is a factor of 10 lower than the learning rate at the minimum of the loss vs. learning rate curve._"
      ]
    },
    {
      "cell_type": "markdown",
      "metadata": {
        "id": "o6SnRB9Cupwo"
      },
      "source": [
        "Here is a learning rate scheduler that starts the learning rate at 1.e-6 and increases by a factor of ten every 5 epochs. So that over 30 epochs, the learning rate goes from 1.e-6 up to 1.0"
      ]
    },
    {
      "cell_type": "code",
      "execution_count": 30,
      "metadata": {
        "id": "m3-iOvmmulKa"
      },
      "outputs": [],
      "source": [
        "def scheduler(epoch):\n",
        "    lr = 1e-6 * 10**(epoch/5)\n",
        "    return lr\n",
        "\n",
        "# Here is the callback\n",
        "lr_schedule = tf.keras.callbacks.LearningRateScheduler(scheduler)"
      ]
    },
    {
      "cell_type": "markdown",
      "metadata": {
        "id": "z8i6vHFuvIA9"
      },
      "source": [
        "Let's try it out!"
      ]
    },
    {
      "cell_type": "code",
      "execution_count": 31,
      "metadata": {
        "colab": {
          "base_uri": "https://localhost:8080/"
        },
        "id": "Pw3qyG1jt7y2",
        "outputId": "5708fab8-2659-4c17-c4d7-e0666bed9599"
      },
      "outputs": [
        {
          "output_type": "stream",
          "name": "stdout",
          "text": [
            "Epoch 1/30\n",
            "1875/1875 [==============================] - 6s 3ms/step - loss: 2.3002 - accuracy: 0.1186 - lr: 1.0000e-06\n",
            "Epoch 2/30\n",
            "1875/1875 [==============================] - 6s 3ms/step - loss: 2.3001 - accuracy: 0.1206 - lr: 1.5849e-06\n",
            "Epoch 3/30\n",
            "1875/1875 [==============================] - 5s 3ms/step - loss: 2.3001 - accuracy: 0.1207 - lr: 2.5119e-06\n",
            "Epoch 4/30\n",
            "1875/1875 [==============================] - 6s 3ms/step - loss: 2.3001 - accuracy: 0.1208 - lr: 3.9811e-06\n",
            "Epoch 5/30\n",
            "1875/1875 [==============================] - 5s 3ms/step - loss: 2.3000 - accuracy: 0.1209 - lr: 6.3096e-06\n",
            "Epoch 6/30\n",
            "1875/1875 [==============================] - 6s 3ms/step - loss: 2.2999 - accuracy: 0.1215 - lr: 1.0000e-05\n",
            "Epoch 7/30\n",
            "1875/1875 [==============================] - 6s 3ms/step - loss: 2.2997 - accuracy: 0.1219 - lr: 1.5849e-05\n",
            "Epoch 8/30\n",
            "1875/1875 [==============================] - 5s 3ms/step - loss: 2.2994 - accuracy: 0.1225 - lr: 2.5119e-05\n",
            "Epoch 9/30\n",
            "1875/1875 [==============================] - 6s 3ms/step - loss: 2.2989 - accuracy: 0.1242 - lr: 3.9811e-05\n",
            "Epoch 10/30\n",
            "1875/1875 [==============================] - 5s 3ms/step - loss: 2.2978 - accuracy: 0.1272 - lr: 6.3096e-05\n",
            "Epoch 11/30\n",
            "1875/1875 [==============================] - 6s 3ms/step - loss: 2.2954 - accuracy: 0.1333 - lr: 1.0000e-04\n",
            "Epoch 12/30\n",
            "1875/1875 [==============================] - 5s 3ms/step - loss: 2.2888 - accuracy: 0.1460 - lr: 1.5849e-04\n",
            "Epoch 13/30\n",
            "1875/1875 [==============================] - 6s 3ms/step - loss: 2.2741 - accuracy: 0.1543 - lr: 2.5119e-04\n",
            "Epoch 14/30\n",
            "1875/1875 [==============================] - 5s 3ms/step - loss: 2.2485 - accuracy: 0.1628 - lr: 3.9811e-04\n",
            "Epoch 15/30\n",
            "1875/1875 [==============================] - 5s 3ms/step - loss: 2.2000 - accuracy: 0.1928 - lr: 6.3096e-04\n",
            "Epoch 16/30\n",
            "1875/1875 [==============================] - 6s 3ms/step - loss: 2.1332 - accuracy: 0.2092 - lr: 0.0010\n",
            "Epoch 17/30\n",
            "1875/1875 [==============================] - 5s 3ms/step - loss: 2.0630 - accuracy: 0.2210 - lr: 0.0016\n",
            "Epoch 18/30\n",
            "1875/1875 [==============================] - 6s 3ms/step - loss: 1.9813 - accuracy: 0.2443 - lr: 0.0025\n",
            "Epoch 19/30\n",
            "1875/1875 [==============================] - 5s 3ms/step - loss: 1.8930 - accuracy: 0.2794 - lr: 0.0040\n",
            "Epoch 20/30\n",
            "1875/1875 [==============================] - 6s 3ms/step - loss: 1.8043 - accuracy: 0.3114 - lr: 0.0063\n",
            "Epoch 21/30\n",
            "1875/1875 [==============================] - 5s 3ms/step - loss: 1.7145 - accuracy: 0.3355 - lr: 0.0100\n",
            "Epoch 22/30\n",
            "1875/1875 [==============================] - 5s 3ms/step - loss: 1.6451 - accuracy: 0.3470 - lr: 0.0158\n",
            "Epoch 23/30\n",
            "1875/1875 [==============================] - 6s 3ms/step - loss: 1.6163 - accuracy: 0.3559 - lr: 0.0251\n",
            "Epoch 24/30\n",
            "1875/1875 [==============================] - 5s 3ms/step - loss: 1.6114 - accuracy: 0.3648 - lr: 0.0398\n",
            "Epoch 25/30\n",
            "1875/1875 [==============================] - 6s 3ms/step - loss: 1.6080 - accuracy: 0.3775 - lr: 0.0631\n",
            "Epoch 26/30\n",
            "1875/1875 [==============================] - 5s 3ms/step - loss: 1.6077 - accuracy: 0.3718 - lr: 0.1000\n",
            "Epoch 27/30\n",
            "1875/1875 [==============================] - 6s 3ms/step - loss: 1.6412 - accuracy: 0.3539 - lr: 0.1585\n",
            "Epoch 28/30\n",
            "1875/1875 [==============================] - 5s 3ms/step - loss: 1.8261 - accuracy: 0.2782 - lr: 0.2512\n",
            "Epoch 29/30\n",
            "1875/1875 [==============================] - 6s 3ms/step - loss: 1.8567 - accuracy: 0.1993 - lr: 0.3981\n",
            "Epoch 30/30\n",
            "1875/1875 [==============================] - 6s 3ms/step - loss: 1.8819 - accuracy: 0.1935 - lr: 0.6310\n"
          ]
        }
      ],
      "source": [
        "# create the model and fit it, passing in the learning rate scheduler callback that we created\n",
        "epochs = 30\n",
        "batch_size = 32\n",
        "model_for_lr_schedule = create_model()\n",
        "history_for_lr_schedule = model_for_lr_schedule.fit(X_train, y_train, batch_size=batch_size,callbacks=[lr_schedule] , epochs=epochs)"
      ]
    },
    {
      "cell_type": "markdown",
      "metadata": {
        "id": "swY-13T94ZlS"
      },
      "source": [
        "Since the minimum in the loss vs learning rate curve below is at learning rate of 0.1, we should choose a learning rate of 0.01"
      ]
    },
    {
      "cell_type": "code",
      "execution_count": 32,
      "metadata": {
        "colab": {
          "base_uri": "https://localhost:8080/",
          "height": 476
        },
        "id": "1BXA30jw1YhV",
        "outputId": "0bfd5a0d-04ab-410f-d45b-466d5fcf956d"
      },
      "outputs": [
        {
          "output_type": "display_data",
          "data": {
            "text/plain": [
              "<Figure size 640x480 with 1 Axes>"
            ],
            "image/png": "[encoded data removed]"
          },
          "metadata": {}
        }
      ],
      "source": [
        "# plot the result\n",
        "plt.semilogx(history_for_lr_schedule.history[\"lr\"], history_for_lr_schedule.history[\"loss\"])\n",
        "plt.axis([1e-6, 1, 1.0, 2.5])\n",
        "plt.title('learning rate schedule')\n",
        "plt.xlabel('learning rate')\n",
        "plt.ylabel('loss')\n",
        "plt.grid()"
      ]
    },
    {
      "cell_type": "markdown",
      "metadata": {
        "id": "Kb2aiw_Sgcl7"
      },
      "source": [
        "## Challenge\n",
        "\n",
        "You will be expected to experiment with different learning rates today.\n",
        "\n",
        "---\n"
      ]
    }
  ],
  "metadata": {
    "accelerator": "GPU",
    "celltoolbar": "Create Assignment",
    "colab": {
      "provenance": []
    },
    "kernelspec": {
      "display_name": "Python 3",
      "language": "python",
      "name": "python3"
    },
    "language_info": {
      "codemirror_mode": {
        "name": "ipython",
        "version": 3
      },
      "file_extension": ".py",
      "mimetype": "text/x-python",
      "name": "python",
      "nbconvert_exporter": "python",
      "pygments_lexer": "ipython3",
      "version": "3.8.5"
    }
  },
  "nbformat": 4,
  "nbformat_minor": 0
}