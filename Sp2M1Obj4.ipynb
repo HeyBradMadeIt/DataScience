{
  "nbformat": 4,
  "nbformat_minor": 0,
  "metadata": {
    "colab": {
      "provenance": []
    },
    "kernelspec": {
      "name": "python3",
      "display_name": "Python 3"
    },
    "language_info": {
      "name": "python"
    }
  },
  "cells": [
    {
      "cell_type": "markdown",
      "source": [
        "# Use a t-test p-value to draw a conclusion about the null and alternative hypothesis"
      ],
      "metadata": {
        "id": "Lu3dns2FlaGK"
      }
    },
    {
      "cell_type": "code",
      "execution_count": 1,
      "metadata": {
        "colab": {
          "base_uri": "https://localhost:8080/"
        },
        "id": "6pzQBVMrlV0z",
        "outputId": "88b473fa-3bc6-46dc-8d5c-1602b7e5fdd8"
      },
      "outputs": [
        {
          "output_type": "execute_result",
          "data": {
            "text/plain": [
              "TtestResult(statistic=2.6640411076902604, pvalue=0.010421324745517498, df=49)"
            ]
          },
          "metadata": {},
          "execution_count": 1
        }
      ],
      "source": [
        "# Import the stats module\n",
        "from scipy import stats\n",
        "\n",
        "# Here are the 50 scores from the class (they were generated to have the correct mean and SD)\n",
        "rvs = stats.norm.rvs(loc=74.6, scale=12.3, size=50, random_state=42)\n",
        "\n",
        "# Calculate the t statistic and the p-value\n",
        "stats.ttest_1samp(rvs,67.5)"
      ]
    },
    {
      "cell_type": "code",
      "source": [],
      "metadata": {
        "id": "D2Xn1tTnlp95"
      },
      "execution_count": null,
      "outputs": []
    }
  ]
}