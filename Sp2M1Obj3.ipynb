{
  "nbformat": 4,
  "nbformat_minor": 0,
  "metadata": {
    "colab": {
      "provenance": []
    },
    "kernelspec": {
      "name": "python3",
      "display_name": "Python 3"
    },
    "language_info": {
      "name": "python"
    }
  },
  "cells": [
    {
      "cell_type": "markdown",
      "source": [
        "# Set up and run a 2-sample independent t-test with Numpy and SciPy"
      ],
      "metadata": {
        "id": "V3Xn5mB3ka6q"
      }
    },
    {
      "cell_type": "code",
      "execution_count": 1,
      "metadata": {
        "colab": {
          "base_uri": "https://localhost:8080/"
        },
        "id": "qFK0cySTkXJd",
        "outputId": "a1124939-75d4-4670-f732-e8f5d1be40c1"
      },
      "outputs": [
        {
          "output_type": "execute_result",
          "data": {
            "text/plain": [
              "TtestResult(statistic=-2.886610676042845, pvalue=0.004790856010749188, df=98.0)"
            ]
          },
          "metadata": {},
          "execution_count": 1
        }
      ],
      "source": [
        "# Import the libraries\n",
        "\n",
        "import numpy as np\n",
        "\n",
        "from scipy import stats\n",
        "#apply a seed value that ensures that different machines will return the same result\n",
        "np.random.seed(42)\n",
        "\n",
        "# Generate the random variables with the specified mean, std, and sample size\n",
        "#cardio\n",
        "rvs1 = stats.norm.rvs(loc=69, scale=6.5,size=50)\n",
        "\n",
        "#yoga\n",
        "rvs2 = stats.norm.rvs(loc=71, scale=7.3, size=50)\n",
        "\n",
        "# Calculate the t statistic for these two sample populations\n",
        "stats.ttest_ind(rvs1, rvs2)"
      ]
    },
    {
      "cell_type": "code",
      "source": [],
      "metadata": {
        "id": "yxke9RUrkwfB"
      },
      "execution_count": null,
      "outputs": []
    }
  ]
}